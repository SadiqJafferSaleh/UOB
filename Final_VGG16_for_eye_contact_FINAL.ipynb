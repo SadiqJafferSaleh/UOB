{
 "cells": [
  {
   "cell_type": "code",
   "execution_count": 1,
   "metadata": {
    "colab": {
     "base_uri": "https://localhost:8080/",
     "height": 35
    },
    "colab_type": "code",
    "id": "2nz38mJZXN_P",
    "outputId": "72b64601-8cc5-4afe-f0cf-f72fa2ecf7c4"
   },
   "outputs": [
    {
     "name": "stderr",
     "output_type": "stream",
     "text": [
      "Using TensorFlow backend.\n"
     ]
    }
   ],
   "source": [
    "import matplotlib.pyplot as plt\n",
    "import pandas as pd\n",
    "import numpy as np\n",
    "\n",
    "import tensorflow as tf\n",
    "from tensorflow.keras.layers import *\n",
    "from tensorflow.python.lib.io import file_io\n",
    "\n",
    "%matplotlib inline\n",
    "import cv2\n",
    "import keras\n",
    "from keras import backend as K\n",
    "from keras.callbacks import ModelCheckpoint, EarlyStopping\n",
    "from keras.models import load_model\n",
    "from keras.preprocessing.image import ImageDataGenerator\n",
    "from keras_vggface.vggface import VGGFace\n",
    "from keras.utils import plot_model\n",
    "from sklearn.metrics import *\n",
    "from keras.engine import Model\n",
    "from keras.layers import Input, Flatten, Dense, Activation, Conv2D, MaxPool2D, BatchNormalization, Dropout, MaxPooling2D\n",
    "import skimage\n",
    "from skimage.transform import rescale, resize\n",
    "from PIL import Image\n",
    "import pydot\n",
    "import os\n",
    "import glob\n",
    "from keras.callbacks import ModelCheckpoint, EarlyStopping"
   ]
  },
  {
   "cell_type": "code",
   "execution_count": 2,
   "metadata": {},
   "outputs": [],
   "source": [
    "# import tensorflow as tf\n",
    "# gpus = tf.config.experimental.list_physical_devices('GPU')\n",
    "# # Currently, memory growth needs to be the same across GPUs\n",
    "# for gpu in gpus:\n",
    "#         tf.config.experimental.set_memory_growth(gpu, True)\n",
    "# tf.config.experimental.set_virtual_device_configuration(gpus[0], [tf.config.experimental.VirtualDeviceConfiguration(memory_limit=4096)])"
   ]
  },
  {
   "cell_type": "code",
   "execution_count": 50,
   "metadata": {
    "colab": {},
    "colab_type": "code",
    "id": "v60q28mDHnN9"
   },
   "outputs": [],
   "source": [
    "DROPOUT_RATE = 0.1\n",
    "FROZEN_LAYER_NUM = 19\n",
    "\n",
    "ADAM_LEARNING_RATE = 0.001\n",
    "SGD_LEARNING_RATE = 0.01\n",
    "SGD_DECAY = 0.0001\n",
    "\n",
    "Resize_pixelsize = 197"
   ]
  },
  {
   "cell_type": "code",
   "execution_count": 99,
   "metadata": {
    "colab": {
     "base_uri": "https://localhost:8080/",
     "height": 1000
    },
    "colab_type": "code",
    "id": "itKZtFV0F7b1",
    "outputId": "63a0250a-7936-43b4-929e-ad6e16f33269"
   },
   "outputs": [
    {
     "name": "stdout",
     "output_type": "stream",
     "text": [
      "Model: \"vggface_vgg16\"\n",
      "_________________________________________________________________\n",
      "Layer (type)                 Output Shape              Param #   \n",
      "=================================================================\n",
      "input_16 (InputLayer)        (None, 197, 197, 3)       0         \n",
      "_________________________________________________________________\n",
      "conv1_1 (Conv2D)             (None, 197, 197, 64)      1792      \n",
      "_________________________________________________________________\n",
      "conv1_2 (Conv2D)             (None, 197, 197, 64)      36928     \n",
      "_________________________________________________________________\n",
      "pool1 (MaxPooling2D)         (None, 98, 98, 64)        0         \n",
      "_________________________________________________________________\n",
      "conv2_1 (Conv2D)             (None, 98, 98, 128)       73856     \n",
      "_________________________________________________________________\n",
      "conv2_2 (Conv2D)             (None, 98, 98, 128)       147584    \n",
      "_________________________________________________________________\n",
      "pool2 (MaxPooling2D)         (None, 49, 49, 128)       0         \n",
      "_________________________________________________________________\n",
      "conv3_1 (Conv2D)             (None, 49, 49, 256)       295168    \n",
      "_________________________________________________________________\n",
      "conv3_2 (Conv2D)             (None, 49, 49, 256)       590080    \n",
      "_________________________________________________________________\n",
      "conv3_3 (Conv2D)             (None, 49, 49, 256)       590080    \n",
      "_________________________________________________________________\n",
      "pool3 (MaxPooling2D)         (None, 24, 24, 256)       0         \n",
      "_________________________________________________________________\n",
      "conv4_1 (Conv2D)             (None, 24, 24, 512)       1180160   \n",
      "_________________________________________________________________\n",
      "conv4_2 (Conv2D)             (None, 24, 24, 512)       2359808   \n",
      "_________________________________________________________________\n",
      "conv4_3 (Conv2D)             (None, 24, 24, 512)       2359808   \n",
      "_________________________________________________________________\n",
      "pool4 (MaxPooling2D)         (None, 12, 12, 512)       0         \n",
      "_________________________________________________________________\n",
      "conv5_1 (Conv2D)             (None, 12, 12, 512)       2359808   \n",
      "_________________________________________________________________\n",
      "conv5_2 (Conv2D)             (None, 12, 12, 512)       2359808   \n",
      "_________________________________________________________________\n",
      "conv5_3 (Conv2D)             (None, 12, 12, 512)       2359808   \n",
      "_________________________________________________________________\n",
      "pool5 (MaxPooling2D)         (None, 6, 6, 512)         0         \n",
      "_________________________________________________________________\n",
      "global_average_pooling2d_16  (None, 512)               0         \n",
      "=================================================================\n",
      "Total params: 14,714,688\n",
      "Trainable params: 14,714,688\n",
      "Non-trainable params: 0\n",
      "_________________________________________________________________\n",
      "None\n",
      "False\n"
     ]
    }
   ],
   "source": [
    "vgg_notop = VGGFace(model='vgg16', include_top=False, input_shape=(Resize_pixelsize, Resize_pixelsize, 3), pooling='avg')\n",
    "print(vgg_notop.summary())\n",
    "last_layer = vgg_notop.get_layer('pool5').output\n",
    "x = Flatten(name='flatten')(last_layer)\n",
    "x = Dropout(DROPOUT_RATE)(x)\n",
    "x = Dense(4096, activation='relu', name='fc6')(x)\n",
    "x = Dropout(DROPOUT_RATE)(x)\n",
    "x = Dense(1024, activation='relu', name='fc7')(x)\n",
    "x = Dropout(DROPOUT_RATE)(x)  # ** new\n",
    "x = Dense(512, activation='relu', name='fc8')(x) # ** new\n",
    "x = Dropout(0.3)(x) # ** new\n",
    "x = Dense(128, activation='relu', name='fc9')(x) # ** new\n",
    "\n",
    "for i in range(FROZEN_LAYER_NUM):\n",
    "    vgg_notop.layers[i].trainable = False\n",
    "\n",
    "print(vgg_notop.get_layer('pool5').trainable)\n",
    "\n",
    "# out = Dense(7, activation='softmax', name='classifier')(x)\n",
    "out = Dense(1, activation='sigmoid', name='classifier')(x)\n",
    "\n",
    "model = Model(vgg_notop.input, out)"
   ]
  },
  {
   "cell_type": "code",
   "execution_count": 98,
   "metadata": {},
   "outputs": [],
   "source": [
    "model.load_weights('d:/VMS/fer2013_Best/cs230-fer-master/cs230-fer-20201217T134248Z-001/cs230-fer/VGG16-AUX-BEST-70.2.h5', by_name=True)"
   ]
  },
  {
   "cell_type": "code",
   "execution_count": 82,
   "metadata": {},
   "outputs": [
    {
     "name": "stdout",
     "output_type": "stream",
     "text": [
      "Model: \"model_12\"\n",
      "_________________________________________________________________\n",
      "Layer (type)                 Output Shape              Param #   \n",
      "=================================================================\n",
      "input_12 (InputLayer)        (None, 197, 197, 3)       0         \n",
      "_________________________________________________________________\n",
      "conv1_1 (Conv2D)             (None, 197, 197, 64)      1792      \n",
      "_________________________________________________________________\n",
      "conv1_2 (Conv2D)             (None, 197, 197, 64)      36928     \n",
      "_________________________________________________________________\n",
      "pool1 (MaxPooling2D)         (None, 98, 98, 64)        0         \n",
      "_________________________________________________________________\n",
      "conv2_1 (Conv2D)             (None, 98, 98, 128)       73856     \n",
      "_________________________________________________________________\n",
      "conv2_2 (Conv2D)             (None, 98, 98, 128)       147584    \n",
      "_________________________________________________________________\n",
      "pool2 (MaxPooling2D)         (None, 49, 49, 128)       0         \n",
      "_________________________________________________________________\n",
      "conv3_1 (Conv2D)             (None, 49, 49, 256)       295168    \n",
      "_________________________________________________________________\n",
      "conv3_2 (Conv2D)             (None, 49, 49, 256)       590080    \n",
      "_________________________________________________________________\n",
      "conv3_3 (Conv2D)             (None, 49, 49, 256)       590080    \n",
      "_________________________________________________________________\n",
      "pool3 (MaxPooling2D)         (None, 24, 24, 256)       0         \n",
      "_________________________________________________________________\n",
      "conv4_1 (Conv2D)             (None, 24, 24, 512)       1180160   \n",
      "_________________________________________________________________\n",
      "conv4_2 (Conv2D)             (None, 24, 24, 512)       2359808   \n",
      "_________________________________________________________________\n",
      "conv4_3 (Conv2D)             (None, 24, 24, 512)       2359808   \n",
      "_________________________________________________________________\n",
      "pool4 (MaxPooling2D)         (None, 12, 12, 512)       0         \n",
      "_________________________________________________________________\n",
      "conv5_1 (Conv2D)             (None, 12, 12, 512)       2359808   \n",
      "_________________________________________________________________\n",
      "conv5_2 (Conv2D)             (None, 12, 12, 512)       2359808   \n",
      "_________________________________________________________________\n",
      "conv5_3 (Conv2D)             (None, 12, 12, 512)       2359808   \n",
      "_________________________________________________________________\n",
      "pool5 (MaxPooling2D)         (None, 6, 6, 512)         0         \n",
      "_________________________________________________________________\n",
      "flatten (Flatten)            (None, 18432)             0         \n",
      "_________________________________________________________________\n",
      "dropout_35 (Dropout)         (None, 18432)             0         \n",
      "_________________________________________________________________\n",
      "fc6 (Dense)                  (None, 4096)              75501568  \n",
      "_________________________________________________________________\n",
      "dropout_36 (Dropout)         (None, 4096)              0         \n",
      "_________________________________________________________________\n",
      "fc7 (Dense)                  (None, 1024)              4195328   \n",
      "_________________________________________________________________\n",
      "dropout_37 (Dropout)         (None, 1024)              0         \n",
      "_________________________________________________________________\n",
      "fc8 (Dense)                  (None, 512)               524800    \n",
      "_________________________________________________________________\n",
      "dropout_38 (Dropout)         (None, 512)               0         \n",
      "_________________________________________________________________\n",
      "fc9 (Dense)                  (None, 128)               65664     \n",
      "_________________________________________________________________\n",
      "classifier (Dense)           (None, 1)                 129       \n",
      "=================================================================\n",
      "Total params: 95,002,177\n",
      "Trainable params: 80,287,489\n",
      "Non-trainable params: 14,714,688\n",
      "_________________________________________________________________\n"
     ]
    }
   ],
   "source": [
    "model.summary()"
   ]
  },
  {
   "cell_type": "code",
   "execution_count": 2,
   "metadata": {
    "colab": {},
    "colab_type": "code",
    "id": "560jefnZ_Cyq"
   },
   "outputs": [],
   "source": [
    "output_path=\"D:/VMS/del/RAW/\""
   ]
  },
  {
   "cell_type": "code",
   "execution_count": 3,
   "metadata": {},
   "outputs": [],
   "source": [
    "path = 'd:/VMS/del/Final_with_label_landmark_features_30.csv' # the path where all CSV are saved from part 1\n",
    "Data_ALL = pd.read_csv(path, sep=',',header=0)"
   ]
  },
  {
   "cell_type": "code",
   "execution_count": 4,
   "metadata": {
    "colab": {
     "base_uri": "https://localhost:8080/",
     "height": 127
    },
    "colab_type": "code",
    "id": "4aQAGQP5_Gpl",
    "outputId": "3af94f18-e827-44c4-bbe0-f65371203ebf"
   },
   "outputs": [],
   "source": [
    "img_name=Data_ALL.iloc[:,137]"
   ]
  },
  {
   "cell_type": "code",
   "execution_count": 5,
   "metadata": {},
   "outputs": [
    {
     "data": {
      "text/plain": [
       "0        P06682_17_06_2019_024317_wc_frame_37.jpg\n",
       "1        P06682_17_06_2019_024317_wc_frame_47.jpg\n",
       "2        P06682_17_06_2019_024317_wc_frame_57.jpg\n",
       "3        P06682_17_06_2019_024317_wc_frame_67.jpg\n",
       "4       P06682_17_06_2019_024317_wc_frame_137.jpg\n",
       "                          ...                    \n",
       "3837    P09966_04_03_2020_163313_wc_frame_256.jpg\n",
       "3838    P09966_04_03_2020_163313_wc_frame_257.jpg\n",
       "3839    P09966_04_03_2020_163313_wc_frame_597.jpg\n",
       "3840    P09966_04_03_2020_163313_wc_frame_598.jpg\n",
       "3841    P09966_04_03_2020_163313_wc_frame_599.jpg\n",
       "Name: Name, Length: 3842, dtype: object"
      ]
     },
     "execution_count": 5,
     "metadata": {},
     "output_type": "execute_result"
    }
   ],
   "source": [
    "img_name"
   ]
  },
  {
   "cell_type": "code",
   "execution_count": 6,
   "metadata": {},
   "outputs": [],
   "source": [
    "img_lable=Data_ALL.iloc[:,140]"
   ]
  },
  {
   "cell_type": "code",
   "execution_count": 7,
   "metadata": {},
   "outputs": [
    {
     "data": {
      "text/plain": [
       "0       0\n",
       "1       0\n",
       "2       0\n",
       "3       0\n",
       "4       0\n",
       "       ..\n",
       "3837    1\n",
       "3838    1\n",
       "3839    0\n",
       "3840    0\n",
       "3841    0\n",
       "Name: eye contact, Length: 3842, dtype: int64"
      ]
     },
     "execution_count": 7,
     "metadata": {},
     "output_type": "execute_result"
    }
   ],
   "source": [
    "img_lable"
   ]
  },
  {
   "cell_type": "code",
   "execution_count": 8,
   "metadata": {},
   "outputs": [],
   "source": [
    "X  = []\n",
    "y  = []\n",
    "def images_pre(path):\n",
    "# the path where all images will be preprocessed \n",
    "    all_files = glob.glob(output_path+\"/\"+path+'/faces/')\n",
    "    Frames_list=os.listdir(all_files[0])\n",
    "    Frames_list = sorted(Frames_list, key = lambda x: int(x.split(\"_\")[-1].split(\".\")[0]))\n",
    "    #print(len(all_files))\n",
    "    for filename in Frames_list:\n",
    "        for xx,yy in zip(img_name,img_lable):\n",
    "            if xx == filename:\n",
    "                img_array = cv2.imread(all_files[0]+filename ,1)  # convert to array\n",
    "                X.append(img_array)  # add this to our training_data\n",
    "                y.append(yy)\n"
   ]
  },
  {
   "cell_type": "code",
   "execution_count": 9,
   "metadata": {},
   "outputs": [
    {
     "name": "stdout",
     "output_type": "stream",
     "text": [
      "Total of Dir =5\n"
     ]
    }
   ],
   "source": [
    "mp4_Frames_Path=os.listdir(output_path)\n",
    "print (\"Total of Dir =\" + str(len(mp4_Frames_Path)) )\n",
    "counter=1\n",
    "for frmspath in mp4_Frames_Path:  #loop Dir to send to function!\n",
    "    Folder_name=os.path.splitext(frmspath)[0]\n",
    "    images_pre(frmspath)\n",
    "    counter = counter +1"
   ]
  },
  {
   "cell_type": "code",
   "execution_count": 10,
   "metadata": {},
   "outputs": [
    {
     "data": {
      "text/plain": [
       "(197, 197, 3)"
      ]
     },
     "execution_count": 10,
     "metadata": {},
     "output_type": "execute_result"
    }
   ],
   "source": [
    "X[50].shape"
   ]
  },
  {
   "cell_type": "code",
   "execution_count": 11,
   "metadata": {
    "colab": {},
    "colab_type": "code",
    "id": "GyHmZ5GRBdRl"
   },
   "outputs": [],
   "source": [
    "X = np.array(X).reshape(-1, 197, 197,3)"
   ]
  },
  {
   "cell_type": "code",
   "execution_count": 12,
   "metadata": {},
   "outputs": [],
   "source": [
    "imgs_all= X/255.0"
   ]
  },
  {
   "cell_type": "code",
   "execution_count": 13,
   "metadata": {},
   "outputs": [],
   "source": [
    "from numpy import asarray\n",
    "from sklearn.preprocessing import OneHotEncoder\n",
    "from sklearn.model_selection import train_test_split"
   ]
  },
  {
   "cell_type": "code",
   "execution_count": 14,
   "metadata": {},
   "outputs": [],
   "source": [
    "y=np.expand_dims(y, axis=1)"
   ]
  },
  {
   "cell_type": "code",
   "execution_count": 15,
   "metadata": {},
   "outputs": [],
   "source": [
    "# define data\n",
    "data = asarray([['YES'], ['NO']])\n",
    "encoder = OneHotEncoder(sparse=False)\n",
    "#onehot = encoder.fit_transform(data)\n",
    "onehot = encoder.fit_transform(y)\n",
    "#print(onehot)"
   ]
  },
  {
   "cell_type": "code",
   "execution_count": 16,
   "metadata": {},
   "outputs": [],
   "source": [
    "X_train, X_test, y_train, y_test = train_test_split(imgs_all, y, \n",
    "                                                    test_size=0.2, random_state=1234,shuffle=True)"
   ]
  },
  {
   "cell_type": "code",
   "execution_count": 21,
   "metadata": {},
   "outputs": [
    {
     "data": {
      "text/plain": [
       "array([[0],\n",
       "       [0],\n",
       "       [0],\n",
       "       ...,\n",
       "       [0],\n",
       "       [0],\n",
       "       [0]])"
      ]
     },
     "execution_count": 21,
     "metadata": {},
     "output_type": "execute_result"
    }
   ],
   "source": [
    "y"
   ]
  },
  {
   "cell_type": "code",
   "execution_count": 100,
   "metadata": {},
   "outputs": [],
   "source": [
    "for i in range(27):\n",
    "    model.layers[i].trainable = False"
   ]
  },
  {
   "cell_type": "code",
   "execution_count": 101,
   "metadata": {},
   "outputs": [],
   "source": [
    "for i in range(27,29):\n",
    "    model.layers[i].trainable = True"
   ]
  },
  {
   "cell_type": "code",
   "execution_count": 102,
   "metadata": {},
   "outputs": [],
   "source": [
    "model.compile(optimizer='adam', loss=tf.keras.losses.BinaryCrossentropy(), metrics=['accuracy'])"
   ]
  },
  {
   "cell_type": "code",
   "execution_count": 103,
   "metadata": {},
   "outputs": [],
   "source": [
    "earlyStopping = EarlyStopping(monitor='val_loss', patience=10, verbose=0, mode='min')\n",
    "mcp_save = ModelCheckpoint('D:/VMS/fer2013_Best/cs230-fer-master/test9999.h5', save_best_only=True, monitor='val_loss', mode='min')"
   ]
  },
  {
   "cell_type": "code",
   "execution_count": 104,
   "metadata": {
    "colab": {
     "base_uri": "https://localhost:8080/",
     "height": 1000
    },
    "colab_type": "code",
    "id": "pLISdlaStbUn",
    "outputId": "1616b9d0-a3e3-4540-9e52-012137a44bf9"
   },
   "outputs": [
    {
     "name": "stdout",
     "output_type": "stream",
     "text": [
      "Train on 2151 samples, validate on 922 samples\n",
      "Epoch 1/500\n",
      "2151/2151 [==============================] - 110s 51ms/step - loss: 0.6878 - accuracy: 0.5583 - val_loss: 0.6788 - val_accuracy: 0.6508\n",
      "Epoch 2/500\n",
      "2151/2151 [==============================] - 110s 51ms/step - loss: 0.6726 - accuracy: 0.6983 - val_loss: 0.6638 - val_accuracy: 0.6768\n",
      "Epoch 3/500\n",
      "2151/2151 [==============================] - 110s 51ms/step - loss: 0.6545 - accuracy: 0.7146 - val_loss: 0.6467 - val_accuracy: 0.6996\n",
      "Epoch 4/500\n",
      "2151/2151 [==============================] - 110s 51ms/step - loss: 0.6339 - accuracy: 0.7248 - val_loss: 0.6297 - val_accuracy: 0.6952\n",
      "Epoch 5/500\n",
      "2151/2151 [==============================] - 110s 51ms/step - loss: 0.6163 - accuracy: 0.7127 - val_loss: 0.6138 - val_accuracy: 0.7126\n",
      "Epoch 6/500\n",
      "2151/2151 [==============================] - 110s 51ms/step - loss: 0.5981 - accuracy: 0.7187 - val_loss: 0.5998 - val_accuracy: 0.7104\n",
      "Epoch 7/500\n",
      "2151/2151 [==============================] - 110s 51ms/step - loss: 0.5858 - accuracy: 0.7187 - val_loss: 0.5874 - val_accuracy: 0.7202\n",
      "Epoch 8/500\n",
      "2151/2151 [==============================] - 111s 52ms/step - loss: 0.5700 - accuracy: 0.7411 - val_loss: 0.5769 - val_accuracy: 0.7050\n",
      "Epoch 9/500\n",
      "2151/2151 [==============================] - 110s 51ms/step - loss: 0.5604 - accuracy: 0.7336 - val_loss: 0.5674 - val_accuracy: 0.7332\n",
      "Epoch 10/500\n",
      "2151/2151 [==============================] - 110s 51ms/step - loss: 0.5504 - accuracy: 0.7480 - val_loss: 0.5588 - val_accuracy: 0.7202\n",
      "Epoch 11/500\n",
      "2151/2151 [==============================] - 111s 51ms/step - loss: 0.5466 - accuracy: 0.7494 - val_loss: 0.5504 - val_accuracy: 0.7462\n",
      "Epoch 12/500\n",
      "2151/2151 [==============================] - 110s 51ms/step - loss: 0.5383 - accuracy: 0.7476 - val_loss: 0.5444 - val_accuracy: 0.7310\n",
      "Epoch 13/500\n",
      "2151/2151 [==============================] - 112s 52ms/step - loss: 0.5316 - accuracy: 0.7443 - val_loss: 0.5376 - val_accuracy: 0.7527\n",
      "Epoch 14/500\n",
      "2151/2151 [==============================] - 115s 53ms/step - loss: 0.5193 - accuracy: 0.7559 - val_loss: 0.5312 - val_accuracy: 0.7440\n",
      "Epoch 15/500\n",
      "2151/2151 [==============================] - 111s 52ms/step - loss: 0.5105 - accuracy: 0.7722 - val_loss: 0.5250 - val_accuracy: 0.7560\n",
      "Epoch 16/500\n",
      "2151/2151 [==============================] - 112s 52ms/step - loss: 0.5007 - accuracy: 0.7671 - val_loss: 0.5211 - val_accuracy: 0.7549\n",
      "Epoch 17/500\n",
      "2151/2151 [==============================] - 113s 52ms/step - loss: 0.5030 - accuracy: 0.7680 - val_loss: 0.5149 - val_accuracy: 0.7581\n",
      "Epoch 18/500\n",
      "2151/2151 [==============================] - 112s 52ms/step - loss: 0.4973 - accuracy: 0.7731 - val_loss: 0.5105 - val_accuracy: 0.7657\n",
      "Epoch 19/500\n",
      "2151/2151 [==============================] - 112s 52ms/step - loss: 0.4930 - accuracy: 0.7745 - val_loss: 0.5066 - val_accuracy: 0.7690\n",
      "Epoch 20/500\n",
      "2151/2151 [==============================] - 111s 52ms/step - loss: 0.4888 - accuracy: 0.7722 - val_loss: 0.5027 - val_accuracy: 0.7701\n",
      "Epoch 21/500\n",
      "2151/2151 [==============================] - 111s 52ms/step - loss: 0.4874 - accuracy: 0.7820 - val_loss: 0.5008 - val_accuracy: 0.7766\n",
      "Epoch 22/500\n",
      "2151/2151 [==============================] - 111s 52ms/step - loss: 0.4824 - accuracy: 0.7829 - val_loss: 0.4962 - val_accuracy: 0.7798\n",
      "Epoch 23/500\n",
      "2151/2151 [==============================] - 112s 52ms/step - loss: 0.4806 - accuracy: 0.7764 - val_loss: 0.4932 - val_accuracy: 0.7831\n",
      "Epoch 24/500\n",
      "2151/2151 [==============================] - 112s 52ms/step - loss: 0.4779 - accuracy: 0.7773 - val_loss: 0.4925 - val_accuracy: 0.7820\n",
      "Epoch 25/500\n",
      "2151/2151 [==============================] - 111s 52ms/step - loss: 0.4776 - accuracy: 0.7768 - val_loss: 0.4892 - val_accuracy: 0.7918\n",
      "Epoch 26/500\n",
      "2151/2151 [==============================] - 111s 51ms/step - loss: 0.4707 - accuracy: 0.7782 - val_loss: 0.4886 - val_accuracy: 0.7852\n",
      "Epoch 27/500\n",
      "2151/2151 [==============================] - 111s 52ms/step - loss: 0.4676 - accuracy: 0.7940 - val_loss: 0.4852 - val_accuracy: 0.7907\n",
      "Epoch 28/500\n",
      "2151/2151 [==============================] - 111s 52ms/step - loss: 0.4585 - accuracy: 0.7894 - val_loss: 0.4829 - val_accuracy: 0.7939\n",
      "Epoch 29/500\n",
      "2151/2151 [==============================] - 111s 51ms/step - loss: 0.4650 - accuracy: 0.7820 - val_loss: 0.4850 - val_accuracy: 0.7885\n",
      "Epoch 30/500\n",
      "2151/2151 [==============================] - 111s 52ms/step - loss: 0.4487 - accuracy: 0.8038 - val_loss: 0.4796 - val_accuracy: 0.7896\n",
      "Epoch 31/500\n",
      "2151/2151 [==============================] - 111s 51ms/step - loss: 0.4627 - accuracy: 0.7908 - val_loss: 0.4788 - val_accuracy: 0.7896\n",
      "Epoch 32/500\n",
      "2151/2151 [==============================] - 111s 51ms/step - loss: 0.4638 - accuracy: 0.7875 - val_loss: 0.4773 - val_accuracy: 0.7928\n",
      "Epoch 33/500\n",
      "2151/2151 [==============================] - 111s 51ms/step - loss: 0.4664 - accuracy: 0.7861 - val_loss: 0.4761 - val_accuracy: 0.7918\n",
      "Epoch 34/500\n",
      "2151/2151 [==============================] - 111s 52ms/step - loss: 0.4603 - accuracy: 0.7996 - val_loss: 0.4776 - val_accuracy: 0.7928\n",
      "Epoch 35/500\n",
      "2151/2151 [==============================] - 115s 53ms/step - loss: 0.4649 - accuracy: 0.7792 - val_loss: 0.4815 - val_accuracy: 0.7896\n",
      "Epoch 36/500\n",
      "2151/2151 [==============================] - 112s 52ms/step - loss: 0.4643 - accuracy: 0.7824 - val_loss: 0.4849 - val_accuracy: 0.7863\n",
      "Epoch 37/500\n",
      "2151/2151 [==============================] - 111s 52ms/step - loss: 0.4679 - accuracy: 0.7838 - val_loss: 0.4777 - val_accuracy: 0.7896\n",
      "Epoch 38/500\n",
      "2151/2151 [==============================] - 112s 52ms/step - loss: 0.4591 - accuracy: 0.7861 - val_loss: 0.4740 - val_accuracy: 0.7961\n",
      "Epoch 39/500\n",
      "2151/2151 [==============================] - 111s 52ms/step - loss: 0.4561 - accuracy: 0.7922 - val_loss: 0.4723 - val_accuracy: 0.7950\n",
      "Epoch 40/500\n",
      "2151/2151 [==============================] - 111s 52ms/step - loss: 0.4475 - accuracy: 0.8001 - val_loss: 0.4717 - val_accuracy: 0.7939\n",
      "Epoch 41/500\n",
      "2151/2151 [==============================] - 111s 52ms/step - loss: 0.4530 - accuracy: 0.7861 - val_loss: 0.4720 - val_accuracy: 0.7972\n",
      "Epoch 42/500\n",
      "2151/2151 [==============================] - 111s 51ms/step - loss: 0.4481 - accuracy: 0.7982 - val_loss: 0.4701 - val_accuracy: 0.7993\n",
      "Epoch 43/500\n",
      "2151/2151 [==============================] - 111s 51ms/step - loss: 0.4432 - accuracy: 0.8001 - val_loss: 0.4701 - val_accuracy: 0.7993\n",
      "Epoch 44/500\n",
      "2151/2151 [==============================] - 111s 52ms/step - loss: 0.4467 - accuracy: 0.7964 - val_loss: 0.4692 - val_accuracy: 0.8004\n",
      "Epoch 45/500\n",
      "2151/2151 [==============================] - 111s 51ms/step - loss: 0.4474 - accuracy: 0.7894 - val_loss: 0.4687 - val_accuracy: 0.7993\n",
      "Epoch 46/500\n",
      "2151/2151 [==============================] - 111s 51ms/step - loss: 0.4492 - accuracy: 0.7950 - val_loss: 0.4682 - val_accuracy: 0.7972\n",
      "Epoch 47/500\n",
      "2151/2151 [==============================] - 111s 51ms/step - loss: 0.4481 - accuracy: 0.7992 - val_loss: 0.4684 - val_accuracy: 0.8004\n",
      "Epoch 48/500\n",
      "2151/2151 [==============================] - 111s 51ms/step - loss: 0.4474 - accuracy: 0.7959 - val_loss: 0.4664 - val_accuracy: 0.8015\n",
      "Epoch 49/500\n",
      "2151/2151 [==============================] - 110s 51ms/step - loss: 0.4402 - accuracy: 0.7964 - val_loss: 0.4658 - val_accuracy: 0.8004\n",
      "Epoch 50/500\n",
      "2151/2151 [==============================] - 111s 51ms/step - loss: 0.4401 - accuracy: 0.8001 - val_loss: 0.4666 - val_accuracy: 0.7983\n",
      "Epoch 51/500\n",
      "2151/2151 [==============================] - 111s 52ms/step - loss: 0.4377 - accuracy: 0.7982 - val_loss: 0.4696 - val_accuracy: 0.7939\n",
      "Epoch 52/500\n",
      "2151/2151 [==============================] - 111s 51ms/step - loss: 0.4400 - accuracy: 0.7950 - val_loss: 0.4656 - val_accuracy: 0.7983\n",
      "Epoch 53/500\n",
      "2151/2151 [==============================] - 111s 51ms/step - loss: 0.4399 - accuracy: 0.7917 - val_loss: 0.4658 - val_accuracy: 0.8026\n",
      "Epoch 54/500\n",
      "2151/2151 [==============================] - 111s 52ms/step - loss: 0.4472 - accuracy: 0.7801 - val_loss: 0.4638 - val_accuracy: 0.8015\n",
      "Epoch 55/500\n",
      "2151/2151 [==============================] - 111s 51ms/step - loss: 0.4343 - accuracy: 0.8024 - val_loss: 0.4633 - val_accuracy: 0.8026\n",
      "Epoch 56/500\n",
      "2151/2151 [==============================] - 111s 51ms/step - loss: 0.4335 - accuracy: 0.8038 - val_loss: 0.4623 - val_accuracy: 0.7983\n",
      "Epoch 57/500\n",
      "2151/2151 [==============================] - 111s 51ms/step - loss: 0.4486 - accuracy: 0.7903 - val_loss: 0.4638 - val_accuracy: 0.7972\n",
      "Epoch 58/500\n",
      "2151/2151 [==============================] - 111s 52ms/step - loss: 0.4433 - accuracy: 0.7959 - val_loss: 0.4620 - val_accuracy: 0.7983\n",
      "Epoch 59/500\n",
      "2151/2151 [==============================] - 111s 51ms/step - loss: 0.4388 - accuracy: 0.7982 - val_loss: 0.4617 - val_accuracy: 0.8004\n",
      "Epoch 60/500\n",
      "2151/2151 [==============================] - 110s 51ms/step - loss: 0.4487 - accuracy: 0.7838 - val_loss: 0.4614 - val_accuracy: 0.8004\n",
      "Epoch 61/500\n",
      "2151/2151 [==============================] - 111s 52ms/step - loss: 0.4331 - accuracy: 0.8089 - val_loss: 0.4613 - val_accuracy: 0.7983\n",
      "Epoch 62/500\n",
      "2151/2151 [==============================] - 111s 51ms/step - loss: 0.4418 - accuracy: 0.7954 - val_loss: 0.4612 - val_accuracy: 0.8015\n",
      "Epoch 63/500\n",
      "2151/2151 [==============================] - 110s 51ms/step - loss: 0.4290 - accuracy: 0.8071 - val_loss: 0.4601 - val_accuracy: 0.8015\n",
      "Epoch 64/500\n",
      "2151/2151 [==============================] - 111s 51ms/step - loss: 0.4321 - accuracy: 0.8006 - val_loss: 0.4600 - val_accuracy: 0.7993\n",
      "Epoch 65/500\n",
      "2151/2151 [==============================] - 111s 51ms/step - loss: 0.4276 - accuracy: 0.8094 - val_loss: 0.4596 - val_accuracy: 0.8037\n",
      "Epoch 66/500\n",
      "2151/2151 [==============================] - 110s 51ms/step - loss: 0.4354 - accuracy: 0.7945 - val_loss: 0.4592 - val_accuracy: 0.8037\n",
      "Epoch 67/500\n",
      "2151/2151 [==============================] - 111s 52ms/step - loss: 0.4286 - accuracy: 0.7992 - val_loss: 0.4613 - val_accuracy: 0.7983\n",
      "Epoch 68/500\n",
      "2151/2151 [==============================] - 112s 52ms/step - loss: 0.4371 - accuracy: 0.8006 - val_loss: 0.4601 - val_accuracy: 0.7972\n",
      "Epoch 69/500\n",
      "2151/2151 [==============================] - 113s 52ms/step - loss: 0.4318 - accuracy: 0.8140 - val_loss: 0.4640 - val_accuracy: 0.7939\n",
      "Epoch 70/500\n",
      "2151/2151 [==============================] - 111s 52ms/step - loss: 0.4272 - accuracy: 0.8029 - val_loss: 0.4612 - val_accuracy: 0.7972\n",
      "Epoch 71/500\n",
      "2151/2151 [==============================] - 111s 52ms/step - loss: 0.4347 - accuracy: 0.8038 - val_loss: 0.4601 - val_accuracy: 0.7950\n",
      "Epoch 72/500\n",
      "2151/2151 [==============================] - 111s 51ms/step - loss: 0.4309 - accuracy: 0.7982 - val_loss: 0.4591 - val_accuracy: 0.7983\n",
      "Epoch 73/500\n",
      "2151/2151 [==============================] - 111s 51ms/step - loss: 0.4263 - accuracy: 0.8099 - val_loss: 0.4577 - val_accuracy: 0.8048\n",
      "Epoch 74/500\n",
      "2151/2151 [==============================] - 112s 52ms/step - loss: 0.4423 - accuracy: 0.7889 - val_loss: 0.4582 - val_accuracy: 0.7972\n",
      "Epoch 75/500\n",
      "2151/2151 [==============================] - 111s 52ms/step - loss: 0.4316 - accuracy: 0.8047 - val_loss: 0.4582 - val_accuracy: 0.8026\n",
      "Epoch 76/500\n",
      "2151/2151 [==============================] - 111s 52ms/step - loss: 0.4244 - accuracy: 0.8047 - val_loss: 0.4570 - val_accuracy: 0.7961\n",
      "Epoch 77/500\n",
      "2151/2151 [==============================] - 111s 52ms/step - loss: 0.4384 - accuracy: 0.7964 - val_loss: 0.4564 - val_accuracy: 0.8015\n",
      "Epoch 78/500\n",
      "2151/2151 [==============================] - 111s 52ms/step - loss: 0.4290 - accuracy: 0.8103 - val_loss: 0.4560 - val_accuracy: 0.7972\n",
      "Epoch 79/500\n",
      "2151/2151 [==============================] - 115s 54ms/step - loss: 0.4255 - accuracy: 0.8020 - val_loss: 0.4555 - val_accuracy: 0.7961\n",
      "Epoch 80/500\n",
      "2151/2151 [==============================] - 112s 52ms/step - loss: 0.4239 - accuracy: 0.8052 - val_loss: 0.4563 - val_accuracy: 0.8015\n",
      "Epoch 81/500\n",
      "2151/2151 [==============================] - 112s 52ms/step - loss: 0.4237 - accuracy: 0.8033 - val_loss: 0.4554 - val_accuracy: 0.8026\n",
      "Epoch 82/500\n",
      "2151/2151 [==============================] - 111s 52ms/step - loss: 0.4228 - accuracy: 0.8136 - val_loss: 0.4552 - val_accuracy: 0.7993\n",
      "Epoch 83/500\n",
      "2151/2151 [==============================] - 112s 52ms/step - loss: 0.4275 - accuracy: 0.8010 - val_loss: 0.4533 - val_accuracy: 0.8026\n",
      "Epoch 84/500\n",
      "2151/2151 [==============================] - 111s 52ms/step - loss: 0.4155 - accuracy: 0.8122 - val_loss: 0.4537 - val_accuracy: 0.8015\n",
      "Epoch 85/500\n",
      "2151/2151 [==============================] - 111s 52ms/step - loss: 0.4304 - accuracy: 0.7968 - val_loss: 0.4530 - val_accuracy: 0.8015\n",
      "Epoch 86/500\n",
      "2151/2151 [==============================] - 111s 51ms/step - loss: 0.4120 - accuracy: 0.8182 - val_loss: 0.4527 - val_accuracy: 0.8026\n",
      "Epoch 87/500\n",
      "2151/2151 [==============================] - 110s 51ms/step - loss: 0.4297 - accuracy: 0.7982 - val_loss: 0.4520 - val_accuracy: 0.8037\n",
      "Epoch 88/500\n",
      "2151/2151 [==============================] - 111s 51ms/step - loss: 0.4170 - accuracy: 0.8201 - val_loss: 0.4522 - val_accuracy: 0.7993\n",
      "Epoch 89/500\n",
      "2151/2151 [==============================] - 111s 52ms/step - loss: 0.4355 - accuracy: 0.7982 - val_loss: 0.4524 - val_accuracy: 0.8004\n",
      "Epoch 90/500\n",
      "2151/2151 [==============================] - 111s 52ms/step - loss: 0.4202 - accuracy: 0.8075 - val_loss: 0.4532 - val_accuracy: 0.7993\n",
      "Epoch 91/500\n",
      "2151/2151 [==============================] - 111s 52ms/step - loss: 0.4295 - accuracy: 0.8029 - val_loss: 0.4554 - val_accuracy: 0.8004\n",
      "Epoch 92/500\n",
      "2151/2151 [==============================] - 111s 52ms/step - loss: 0.4211 - accuracy: 0.8145 - val_loss: 0.4540 - val_accuracy: 0.8037\n",
      "Epoch 93/500\n",
      "2151/2151 [==============================] - 111s 52ms/step - loss: 0.4346 - accuracy: 0.8024 - val_loss: 0.4528 - val_accuracy: 0.8004\n",
      "Epoch 94/500\n",
      "2151/2151 [==============================] - 112s 52ms/step - loss: 0.4266 - accuracy: 0.8029 - val_loss: 0.4529 - val_accuracy: 0.8037\n",
      "Epoch 95/500\n",
      "2151/2151 [==============================] - 112s 52ms/step - loss: 0.4186 - accuracy: 0.8150 - val_loss: 0.4535 - val_accuracy: 0.8004\n",
      "Epoch 96/500\n",
      "2151/2151 [==============================] - 111s 51ms/step - loss: 0.4091 - accuracy: 0.8154 - val_loss: 0.4537 - val_accuracy: 0.8026\n",
      "Epoch 97/500\n",
      "2151/2151 [==============================] - 111s 51ms/step - loss: 0.4150 - accuracy: 0.8126 - val_loss: 0.4534 - val_accuracy: 0.8015\n"
     ]
    }
   ],
   "source": [
    "history = model.fit(x = X_train, y = y_train,\n",
    "                     batch_size=256,\n",
    "                     epochs = 500,\n",
    "                     validation_split=0.3,\n",
    "                     use_multiprocessing=True,\n",
    "                     shuffle=True,\n",
    "                    callbacks=[earlyStopping, mcp_save]\n",
    "                   )"
   ]
  },
  {
   "cell_type": "code",
   "execution_count": 105,
   "metadata": {},
   "outputs": [],
   "source": [
    "def plot_history(history):\n",
    "    plt.figure()\n",
    "    plt.plot(history.history['loss'])\n",
    "    plt.plot(history.history['val_loss'])\n",
    "    plt.ylabel('loss')\n",
    "    plt.xlabel('epoch')\n",
    "    plt.legend(['train', 'Val'])\n",
    "    return;"
   ]
  },
  {
   "cell_type": "code",
   "execution_count": 106,
   "metadata": {},
   "outputs": [
    {
     "data": {
      "image/png": "[encoded data removed]",
      "text/plain": [
       "<Figure size 432x288 with 1 Axes>"
      ]
     },
     "metadata": {
      "needs_background": "light"
     },
     "output_type": "display_data"
    }
   ],
   "source": [
    "plot_history(history)"
   ]
  },
  {
   "cell_type": "code",
   "execution_count": 28,
   "metadata": {},
   "outputs": [],
   "source": [
    "from tensorflow import keras\n",
    "import pylab\n",
    "# model = keras.models.load_model(\"D:/VMS/fer2013_Best/cs230-fer-master/eye_contact_4.h5\")\n",
    "model = keras.models.load_model(\"D:/VMS/fer2013_Best/cs230-fer-master/test999.h5\")"
   ]
  },
  {
   "cell_type": "code",
   "execution_count": 18,
   "metadata": {
    "colab": {},
    "colab_type": "code",
    "id": "5l7wFyhBEdsy"
   },
   "outputs": [],
   "source": [
    "y_pred = model.predict(X_test)"
   ]
  },
  {
   "cell_type": "code",
   "execution_count": 19,
   "metadata": {},
   "outputs": [],
   "source": [
    "y_test_np=np.array(y_test)"
   ]
  },
  {
   "cell_type": "code",
   "execution_count": 20,
   "metadata": {},
   "outputs": [],
   "source": [
    "y_test_np=y_test_np.reshape(-1,1)"
   ]
  },
  {
   "cell_type": "code",
   "execution_count": 21,
   "metadata": {},
   "outputs": [],
   "source": [
    "y_pred_np=np.array(y_pred)"
   ]
  },
  {
   "cell_type": "code",
   "execution_count": 22,
   "metadata": {},
   "outputs": [],
   "source": [
    "y_pred_np=y_pred_np.reshape(-1,1)"
   ]
  },
  {
   "cell_type": "code",
   "execution_count": 23,
   "metadata": {},
   "outputs": [],
   "source": [
    "Y_pre_final =np.around(y_pred_np, decimals=0, out=None)"
   ]
  },
  {
   "cell_type": "code",
   "execution_count": 42,
   "metadata": {},
   "outputs": [],
   "source": [
    "# from sklearn.metrics import confusion_matrix\n",
    "# cm = confusion_matrix(y_test_np, Y_pre_final)\n",
    "# print(cm)"
   ]
  },
  {
   "cell_type": "code",
   "execution_count": 42,
   "metadata": {},
   "outputs": [],
   "source": [
    "# from sklearn.metrics import confusion_matrix\n",
    "# from seaborn import heatmap\n",
    "# import pylab\n",
    "# from matplotlib import pyplot\n",
    "# emotions = {0:'NO', 1:'YES'}\n",
    "\n",
    "# cmat_df_test=pd.DataFrame(confusion_matrix(y_test_np, Y_pre_final, normalize='true').round(2),index=emotions.values(), columns=emotions.values())\n",
    "\n",
    "# plt.figure(figsize=(5,5))\n",
    "# heatmap(cmat_df_test,annot=True,cmap=plt.cm.Blues)\n",
    "# plt.tight_layout()\n",
    "# plt.title('Confusion Matrix For eye Contace')\n",
    "# plt.ylabel('True label')\n",
    "# plt.xlabel('Predicted label')\n",
    "# plt.show()"
   ]
  },
  {
   "cell_type": "code",
   "execution_count": 126,
   "metadata": {},
   "outputs": [
    {
     "name": "stderr",
     "output_type": "stream",
     "text": [
      "E:\\Users\\sodic\\miniconda3\\envs\\tensor_CPU\\lib\\site-packages\\ipykernel_launcher.py:4: FutureWarning: Support for multi-dimensional indexing (e.g. `obj[:, None]`) is deprecated and will be removed in a future version.  Convert to a numpy array before indexing instead.\n",
      "  after removing the cwd from sys.path.\n"
     ]
    },
    {
     "data": {
      "text/plain": [
       "Text(0.5, 1.0, 'Eye Contact Normalized Confusion Matrix')"
      ]
     },
     "execution_count": 126,
     "metadata": {},
     "output_type": "execute_result"
    },
    {
     "data": {
      "image/png": "[encoded data removed]",
      "text/plain": [
       "<Figure size 576x432 with 2 Axes>"
      ]
     },
     "metadata": {
      "needs_background": "light"
     },
     "output_type": "display_data"
    }
   ],
   "source": [
    "import seaborn as sns\n",
    "conf_mat = pd.DataFrame(confusion_matrix(y_test_np, Y_pre_final, normalize='true').round(2),index=emotions.values(), columns=emotions.values())\n",
    "\n",
    "conf_mat = conf_mat.astype('float') / conf_mat.sum(axis=1)[:, np.newaxis] #Normalisation Happens here\n",
    "\n",
    "df_cm = pd.DataFrame(conf_mat, index = emotions.values(),\n",
    "                     columns = emotions)\n",
    "plt.figure(figsize = (8,6))\n",
    "sns.heatmap(conf_mat, annot=True, fmt='.2f', xticklabels=emotions.values(), yticklabels=emotions.values())\n",
    "plt.title('Eye Contact Normalized Confusion Matrix')"
   ]
  },
  {
   "cell_type": "code",
   "execution_count": 33,
   "metadata": {},
   "outputs": [],
   "source": [
    "ns_probs = [0 for _ in range(len(y_test_np))]"
   ]
  },
  {
   "cell_type": "code",
   "execution_count": 43,
   "metadata": {},
   "outputs": [
    {
     "data": {
      "image/png": "[encoded data removed]",
      "text/plain": [
       "<Figure size 432x288 with 1 Axes>"
      ]
     },
     "metadata": {
      "needs_background": "light"
     },
     "output_type": "display_data"
    },
    {
     "data": {
      "text/plain": [
       "<Figure size 576x432 with 0 Axes>"
      ]
     },
     "metadata": {},
     "output_type": "display_data"
    }
   ],
   "source": [
    "ns_fpr, ns_tpr, _ = roc_curve(y_test_np, ns_probs)\n",
    "lr_fpr, lr_tpr, _ = roc_curve(y_test_np, y_pred_np)\n",
    "# plot the roc curve for the model\n",
    "pyplot.plot(ns_fpr, ns_tpr, linestyle='--', label='No Skill')\n",
    "pyplot.plot(lr_fpr, lr_tpr, marker='.', label='Eye Contact Model')\n",
    "# axis labels\n",
    "pyplot.xlabel('False Positive Rate')\n",
    "pyplot.ylabel('True Positive Rate')\n",
    "# show the legend\n",
    "pyplot.legend()\n",
    "# show the plot\n",
    "plt.figure(figsize = (8,6))\n",
    "pyplot.show()"
   ]
  },
  {
   "cell_type": "code",
   "execution_count": 107,
   "metadata": {},
   "outputs": [],
   "source": [
    "# convert the history to DataFrame:     \n",
    "hist_df = pd.DataFrame(history.history) \n",
    "\n",
    "\n",
    "hist_csv_file = 'history_Batch_512_Epochs_5099.csv'\n",
    "with open(hist_csv_file, mode='w') as f:\n",
    "    hist_df.to_csv(f)"
   ]
  },
  {
   "cell_type": "code",
   "execution_count": 41,
   "metadata": {},
   "outputs": [
    {
     "name": "stdout",
     "output_type": "stream",
     "text": [
      "AUC: 0.929\n"
     ]
    }
   ],
   "source": [
    "auc = roc_auc_score(y_test_np, y_pred_np)\n",
    "print('AUC: %.3f' % auc)"
   ]
  },
  {
   "cell_type": "code",
   "execution_count": null,
   "metadata": {},
   "outputs": [],
   "source": []
  }
 ],
 "metadata": {
  "accelerator": "GPU",
  "colab": {
   "collapsed_sections": [],
   "include_colab_link": true,
   "machine_shape": "hm",
   "name": "fer2013.ipynb",
   "provenance": []
  },
  "kernelspec": {
   "display_name": "Python 3.7 (tensor_CPU)",
   "language": "python",
   "name": "tensorflow"
  },
  "language_info": {
   "codemirror_mode": {
    "name": "ipython",
    "version": 3
   },
   "file_extension": ".py",
   "mimetype": "text/x-python",
   "name": "python",
   "nbconvert_exporter": "python",
   "pygments_lexer": "ipython3",
   "version": "3.7.9"
  }
 },
 "nbformat": 4,
 "nbformat_minor": 4
}
