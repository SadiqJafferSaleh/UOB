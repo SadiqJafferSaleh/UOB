{
 "cells": [
  {
   "cell_type": "code",
   "execution_count": 1,
   "metadata": {},
   "outputs": [
    {
     "name": "stderr",
     "output_type": "stream",
     "text": [
      "Using TensorFlow backend.\n"
     ]
    }
   ],
   "source": [
    "import numpy as np\n",
    "import tensorflow as tf\n",
    "from tensorflow import keras\n",
    "from tensorflow.keras import layers\n",
    "from sklearn.model_selection import train_test_split\n",
    "from sklearn import preprocessing\n",
    "import pandas as pd \n",
    "from pandas import DataFrame\n",
    "from keras.activations import *\n",
    "import glob\n",
    "from sklearn.metrics import multilabel_confusion_matrix\n",
    "import pickle\n",
    "import matplotlib.pyplot as plt\n",
    "import os\n",
    "from sklearn.model_selection import cross_validate\n",
    "from sklearn import datasets\n",
    "import cv2\n",
    "from sklearn.preprocessing import OneHotEncoder\n",
    "from datetime import datetime\n",
    "import time"
   ]
  },
  {
   "cell_type": "code",
   "execution_count": null,
   "metadata": {},
   "outputs": [],
   "source": [
    "path = 'd:/VMS/del/Final_with_label_landmark_features_5.csv' # the path where all CSV are saved from part 1\n",
    "Data_ALL = pd.read_csv(path, sep=',',header=0)"
   ]
  },
  {
   "cell_type": "code",
   "execution_count": 106,
   "metadata": {},
   "outputs": [
    {
     "data": {
      "text/html": [
       "<div>\n",
       "<style scoped>\n",
       "    .dataframe tbody tr th:only-of-type {\n",
       "        vertical-align: middle;\n",
       "    }\n",
       "\n",
       "    .dataframe tbody tr th {\n",
       "        vertical-align: top;\n",
       "    }\n",
       "\n",
       "    .dataframe thead th {\n",
       "        text-align: right;\n",
       "    }\n",
       "</style>\n",
       "<table border=\"1\" class=\"dataframe\">\n",
       "  <thead>\n",
       "    <tr style=\"text-align: right;\">\n",
       "      <th></th>\n",
       "      <th>Unnamed: 0</th>\n",
       "      <th>0</th>\n",
       "      <th>1</th>\n",
       "      <th>2</th>\n",
       "      <th>3</th>\n",
       "      <th>4</th>\n",
       "      <th>5</th>\n",
       "      <th>6</th>\n",
       "      <th>7</th>\n",
       "      <th>8</th>\n",
       "      <th>...</th>\n",
       "      <th>62</th>\n",
       "      <th>63</th>\n",
       "      <th>64</th>\n",
       "      <th>65</th>\n",
       "      <th>66</th>\n",
       "      <th>67</th>\n",
       "      <th>Name</th>\n",
       "      <th>#</th>\n",
       "      <th>Column1</th>\n",
       "      <th>eye contact</th>\n",
       "    </tr>\n",
       "  </thead>\n",
       "  <tbody>\n",
       "    <tr>\n",
       "      <th>0</th>\n",
       "      <td>0</td>\n",
       "      <td>29.206163</td>\n",
       "      <td>32.526913</td>\n",
       "      <td>37.013512</td>\n",
       "      <td>41.617306</td>\n",
       "      <td>46.043457</td>\n",
       "      <td>51.312767</td>\n",
       "      <td>55.470715</td>\n",
       "      <td>60.216278</td>\n",
       "      <td>63.411354</td>\n",
       "      <td>...</td>\n",
       "      <td>57.384666</td>\n",
       "      <td>56.727417</td>\n",
       "      <td>54.671749</td>\n",
       "      <td>54.488529</td>\n",
       "      <td>55.172459</td>\n",
       "      <td>57.280014</td>\n",
       "      <td>P08655_28_06_2019_144759_wc_frame_0.jpg</td>\n",
       "      <td>0</td>\n",
       "      <td>00:00:00</td>\n",
       "      <td>0</td>\n",
       "    </tr>\n",
       "    <tr>\n",
       "      <th>1</th>\n",
       "      <td>1</td>\n",
       "      <td>28.425341</td>\n",
       "      <td>31.827662</td>\n",
       "      <td>36.235340</td>\n",
       "      <td>41.617306</td>\n",
       "      <td>45.486263</td>\n",
       "      <td>50.774010</td>\n",
       "      <td>55.470715</td>\n",
       "      <td>59.640591</td>\n",
       "      <td>63.411354</td>\n",
       "      <td>...</td>\n",
       "      <td>58.137768</td>\n",
       "      <td>56.080299</td>\n",
       "      <td>54.037025</td>\n",
       "      <td>53.814495</td>\n",
       "      <td>55.901699</td>\n",
       "      <td>57.280014</td>\n",
       "      <td>P08655_28_06_2019_144759_wc_frame_1.jpg</td>\n",
       "      <td>1</td>\n",
       "      <td>00:00:01</td>\n",
       "      <td>0</td>\n",
       "    </tr>\n",
       "    <tr>\n",
       "      <th>2</th>\n",
       "      <td>2</td>\n",
       "      <td>28.425341</td>\n",
       "      <td>31.827662</td>\n",
       "      <td>37.013512</td>\n",
       "      <td>41.617306</td>\n",
       "      <td>46.324940</td>\n",
       "      <td>50.774010</td>\n",
       "      <td>55.470715</td>\n",
       "      <td>59.640591</td>\n",
       "      <td>63.411354</td>\n",
       "      <td>...</td>\n",
       "      <td>58.137768</td>\n",
       "      <td>56.080299</td>\n",
       "      <td>54.671749</td>\n",
       "      <td>53.814495</td>\n",
       "      <td>55.901699</td>\n",
       "      <td>57.280014</td>\n",
       "      <td>P08655_28_06_2019_144759_wc_frame_2.jpg</td>\n",
       "      <td>2</td>\n",
       "      <td>00:00:02</td>\n",
       "      <td>0</td>\n",
       "    </tr>\n",
       "    <tr>\n",
       "      <th>3</th>\n",
       "      <td>3</td>\n",
       "      <td>29.832869</td>\n",
       "      <td>32.557640</td>\n",
       "      <td>37.013512</td>\n",
       "      <td>41.617306</td>\n",
       "      <td>45.486263</td>\n",
       "      <td>50.774010</td>\n",
       "      <td>54.918121</td>\n",
       "      <td>58.821766</td>\n",
       "      <td>62.801273</td>\n",
       "      <td>...</td>\n",
       "      <td>57.384666</td>\n",
       "      <td>56.080299</td>\n",
       "      <td>54.037025</td>\n",
       "      <td>53.814495</td>\n",
       "      <td>55.901699</td>\n",
       "      <td>57.280014</td>\n",
       "      <td>P08655_28_06_2019_144759_wc_frame_3.jpg</td>\n",
       "      <td>3</td>\n",
       "      <td>00:00:03</td>\n",
       "      <td>0</td>\n",
       "    </tr>\n",
       "    <tr>\n",
       "      <th>4</th>\n",
       "      <td>4</td>\n",
       "      <td>29.068884</td>\n",
       "      <td>32.557640</td>\n",
       "      <td>37.013512</td>\n",
       "      <td>41.617306</td>\n",
       "      <td>46.324940</td>\n",
       "      <td>50.774010</td>\n",
       "      <td>55.758408</td>\n",
       "      <td>59.640591</td>\n",
       "      <td>63.411354</td>\n",
       "      <td>...</td>\n",
       "      <td>58.137768</td>\n",
       "      <td>56.080299</td>\n",
       "      <td>54.037025</td>\n",
       "      <td>54.561890</td>\n",
       "      <td>55.901699</td>\n",
       "      <td>57.280014</td>\n",
       "      <td>P08655_28_06_2019_144759_wc_frame_4.jpg</td>\n",
       "      <td>4</td>\n",
       "      <td>00:00:04</td>\n",
       "      <td>0</td>\n",
       "    </tr>\n",
       "    <tr>\n",
       "      <th>...</th>\n",
       "      <td>...</td>\n",
       "      <td>...</td>\n",
       "      <td>...</td>\n",
       "      <td>...</td>\n",
       "      <td>...</td>\n",
       "      <td>...</td>\n",
       "      <td>...</td>\n",
       "      <td>...</td>\n",
       "      <td>...</td>\n",
       "      <td>...</td>\n",
       "      <td>...</td>\n",
       "      <td>...</td>\n",
       "      <td>...</td>\n",
       "      <td>...</td>\n",
       "      <td>...</td>\n",
       "      <td>...</td>\n",
       "      <td>...</td>\n",
       "      <td>...</td>\n",
       "      <td>...</td>\n",
       "      <td>...</td>\n",
       "      <td>...</td>\n",
       "    </tr>\n",
       "    <tr>\n",
       "      <th>952</th>\n",
       "      <td>132</td>\n",
       "      <td>24.596748</td>\n",
       "      <td>32.310989</td>\n",
       "      <td>40.804413</td>\n",
       "      <td>48.052055</td>\n",
       "      <td>55.443665</td>\n",
       "      <td>61.073727</td>\n",
       "      <td>67.029846</td>\n",
       "      <td>72.339478</td>\n",
       "      <td>74.148499</td>\n",
       "      <td>...</td>\n",
       "      <td>64.761101</td>\n",
       "      <td>64.327286</td>\n",
       "      <td>61.814240</td>\n",
       "      <td>60.415230</td>\n",
       "      <td>61.846584</td>\n",
       "      <td>62.361847</td>\n",
       "      <td>P09963_02_03_2020_084839_wc_frame_525.jpg</td>\n",
       "      <td>525</td>\n",
       "      <td>00:08:45</td>\n",
       "      <td>0</td>\n",
       "    </tr>\n",
       "    <tr>\n",
       "      <th>953</th>\n",
       "      <td>133</td>\n",
       "      <td>27.294687</td>\n",
       "      <td>34.539833</td>\n",
       "      <td>43.011627</td>\n",
       "      <td>50.447994</td>\n",
       "      <td>56.718605</td>\n",
       "      <td>63.198101</td>\n",
       "      <td>68.007355</td>\n",
       "      <td>72.173401</td>\n",
       "      <td>73.824112</td>\n",
       "      <td>...</td>\n",
       "      <td>66.287254</td>\n",
       "      <td>65.924202</td>\n",
       "      <td>63.505905</td>\n",
       "      <td>62.169125</td>\n",
       "      <td>63.348244</td>\n",
       "      <td>62.817196</td>\n",
       "      <td>P09963_02_03_2020_084839_wc_frame_526.jpg</td>\n",
       "      <td>526</td>\n",
       "      <td>00:08:46</td>\n",
       "      <td>0</td>\n",
       "    </tr>\n",
       "    <tr>\n",
       "      <th>954</th>\n",
       "      <td>134</td>\n",
       "      <td>29.154760</td>\n",
       "      <td>36.249138</td>\n",
       "      <td>43.657761</td>\n",
       "      <td>50.695168</td>\n",
       "      <td>56.885849</td>\n",
       "      <td>63.285069</td>\n",
       "      <td>69.007248</td>\n",
       "      <td>74.168724</td>\n",
       "      <td>74.813103</td>\n",
       "      <td>...</td>\n",
       "      <td>66.490601</td>\n",
       "      <td>66.098412</td>\n",
       "      <td>64.629715</td>\n",
       "      <td>63.150612</td>\n",
       "      <td>63.560993</td>\n",
       "      <td>64.031242</td>\n",
       "      <td>P09963_02_03_2020_084839_wc_frame_530.jpg</td>\n",
       "      <td>530</td>\n",
       "      <td>00:08:50</td>\n",
       "      <td>1</td>\n",
       "    </tr>\n",
       "    <tr>\n",
       "      <th>955</th>\n",
       "      <td>135</td>\n",
       "      <td>24.738634</td>\n",
       "      <td>32.557640</td>\n",
       "      <td>41.436699</td>\n",
       "      <td>49.254440</td>\n",
       "      <td>56.080299</td>\n",
       "      <td>64.007812</td>\n",
       "      <td>70.178345</td>\n",
       "      <td>74.813103</td>\n",
       "      <td>76.902534</td>\n",
       "      <td>...</td>\n",
       "      <td>67.720009</td>\n",
       "      <td>66.219330</td>\n",
       "      <td>64.536812</td>\n",
       "      <td>63.600315</td>\n",
       "      <td>65.145988</td>\n",
       "      <td>65.787537</td>\n",
       "      <td>P09963_02_03_2020_084839_wc_frame_532.jpg</td>\n",
       "      <td>532</td>\n",
       "      <td>00:08:52</td>\n",
       "      <td>1</td>\n",
       "    </tr>\n",
       "    <tr>\n",
       "      <th>956</th>\n",
       "      <td>136</td>\n",
       "      <td>30.016663</td>\n",
       "      <td>36.674240</td>\n",
       "      <td>43.657761</td>\n",
       "      <td>50.960770</td>\n",
       "      <td>57.070133</td>\n",
       "      <td>62.514000</td>\n",
       "      <td>69.180923</td>\n",
       "      <td>74.000000</td>\n",
       "      <td>75.239616</td>\n",
       "      <td>...</td>\n",
       "      <td>64.280632</td>\n",
       "      <td>63.126858</td>\n",
       "      <td>62.008064</td>\n",
       "      <td>61.131008</td>\n",
       "      <td>61.294373</td>\n",
       "      <td>61.660358</td>\n",
       "      <td>P09963_02_03_2020_084839_wc_frame_543.jpg</td>\n",
       "      <td>543</td>\n",
       "      <td>00:09:03</td>\n",
       "      <td>1</td>\n",
       "    </tr>\n",
       "  </tbody>\n",
       "</table>\n",
       "<p>957 rows × 73 columns</p>\n",
       "</div>"
      ],
      "text/plain": [
       "     Unnamed: 0          0          1          2          3          4  \\\n",
       "0             0  29.206163  32.526913  37.013512  41.617306  46.043457   \n",
       "1             1  28.425341  31.827662  36.235340  41.617306  45.486263   \n",
       "2             2  28.425341  31.827662  37.013512  41.617306  46.324940   \n",
       "3             3  29.832869  32.557640  37.013512  41.617306  45.486263   \n",
       "4             4  29.068884  32.557640  37.013512  41.617306  46.324940   \n",
       "..          ...        ...        ...        ...        ...        ...   \n",
       "952         132  24.596748  32.310989  40.804413  48.052055  55.443665   \n",
       "953         133  27.294687  34.539833  43.011627  50.447994  56.718605   \n",
       "954         134  29.154760  36.249138  43.657761  50.695168  56.885849   \n",
       "955         135  24.738634  32.557640  41.436699  49.254440  56.080299   \n",
       "956         136  30.016663  36.674240  43.657761  50.960770  57.070133   \n",
       "\n",
       "             5          6          7          8  ...         62         63  \\\n",
       "0    51.312767  55.470715  60.216278  63.411354  ...  57.384666  56.727417   \n",
       "1    50.774010  55.470715  59.640591  63.411354  ...  58.137768  56.080299   \n",
       "2    50.774010  55.470715  59.640591  63.411354  ...  58.137768  56.080299   \n",
       "3    50.774010  54.918121  58.821766  62.801273  ...  57.384666  56.080299   \n",
       "4    50.774010  55.758408  59.640591  63.411354  ...  58.137768  56.080299   \n",
       "..         ...        ...        ...        ...  ...        ...        ...   \n",
       "952  61.073727  67.029846  72.339478  74.148499  ...  64.761101  64.327286   \n",
       "953  63.198101  68.007355  72.173401  73.824112  ...  66.287254  65.924202   \n",
       "954  63.285069  69.007248  74.168724  74.813103  ...  66.490601  66.098412   \n",
       "955  64.007812  70.178345  74.813103  76.902534  ...  67.720009  66.219330   \n",
       "956  62.514000  69.180923  74.000000  75.239616  ...  64.280632  63.126858   \n",
       "\n",
       "            64         65         66         67  \\\n",
       "0    54.671749  54.488529  55.172459  57.280014   \n",
       "1    54.037025  53.814495  55.901699  57.280014   \n",
       "2    54.671749  53.814495  55.901699  57.280014   \n",
       "3    54.037025  53.814495  55.901699  57.280014   \n",
       "4    54.037025  54.561890  55.901699  57.280014   \n",
       "..         ...        ...        ...        ...   \n",
       "952  61.814240  60.415230  61.846584  62.361847   \n",
       "953  63.505905  62.169125  63.348244  62.817196   \n",
       "954  64.629715  63.150612  63.560993  64.031242   \n",
       "955  64.536812  63.600315  65.145988  65.787537   \n",
       "956  62.008064  61.131008  61.294373  61.660358   \n",
       "\n",
       "                                          Name    #   Column1  eye contact  \n",
       "0      P08655_28_06_2019_144759_wc_frame_0.jpg    0  00:00:00            0  \n",
       "1      P08655_28_06_2019_144759_wc_frame_1.jpg    1  00:00:01            0  \n",
       "2      P08655_28_06_2019_144759_wc_frame_2.jpg    2  00:00:02            0  \n",
       "3      P08655_28_06_2019_144759_wc_frame_3.jpg    3  00:00:03            0  \n",
       "4      P08655_28_06_2019_144759_wc_frame_4.jpg    4  00:00:04            0  \n",
       "..                                         ...  ...       ...          ...  \n",
       "952  P09963_02_03_2020_084839_wc_frame_525.jpg  525  00:08:45            0  \n",
       "953  P09963_02_03_2020_084839_wc_frame_526.jpg  526  00:08:46            0  \n",
       "954  P09963_02_03_2020_084839_wc_frame_530.jpg  530  00:08:50            1  \n",
       "955  P09963_02_03_2020_084839_wc_frame_532.jpg  532  00:08:52            1  \n",
       "956  P09963_02_03_2020_084839_wc_frame_543.jpg  543  00:09:03            1  \n",
       "\n",
       "[957 rows x 73 columns]"
      ]
     },
     "execution_count": 106,
     "metadata": {},
     "output_type": "execute_result"
    }
   ],
   "source": [
    "Data_ALL"
   ]
  },
  {
   "cell_type": "code",
   "execution_count": 107,
   "metadata": {},
   "outputs": [
    {
     "data": {
      "text/plain": [
       "0        P08655_28_06_2019_144759_wc_frame_0.jpg\n",
       "1        P08655_28_06_2019_144759_wc_frame_1.jpg\n",
       "2        P08655_28_06_2019_144759_wc_frame_2.jpg\n",
       "3        P08655_28_06_2019_144759_wc_frame_3.jpg\n",
       "4        P08655_28_06_2019_144759_wc_frame_4.jpg\n",
       "                         ...                    \n",
       "952    P09963_02_03_2020_084839_wc_frame_525.jpg\n",
       "953    P09963_02_03_2020_084839_wc_frame_526.jpg\n",
       "954    P09963_02_03_2020_084839_wc_frame_530.jpg\n",
       "955    P09963_02_03_2020_084839_wc_frame_532.jpg\n",
       "956    P09963_02_03_2020_084839_wc_frame_543.jpg\n",
       "Name: Name, Length: 957, dtype: object"
      ]
     },
     "execution_count": 107,
     "metadata": {},
     "output_type": "execute_result"
    }
   ],
   "source": [
    "# Data_ALL.iloc[:,1:75]\n",
    "Data_ALL.iloc[:,69]"
   ]
  },
  {
   "cell_type": "code",
   "execution_count": 41,
   "metadata": {},
   "outputs": [
    {
     "data": {
      "text/html": [
       "<div>\n",
       "<style scoped>\n",
       "    .dataframe tbody tr th:only-of-type {\n",
       "        vertical-align: middle;\n",
       "    }\n",
       "\n",
       "    .dataframe tbody tr th {\n",
       "        vertical-align: top;\n",
       "    }\n",
       "\n",
       "    .dataframe thead th {\n",
       "        text-align: right;\n",
       "    }\n",
       "</style>\n",
       "<table border=\"1\" class=\"dataframe\">\n",
       "  <thead>\n",
       "    <tr style=\"text-align: right;\">\n",
       "      <th></th>\n",
       "      <th>0</th>\n",
       "      <th>1</th>\n",
       "      <th>2</th>\n",
       "      <th>3</th>\n",
       "      <th>4</th>\n",
       "      <th>5</th>\n",
       "      <th>6</th>\n",
       "      <th>7</th>\n",
       "      <th>8</th>\n",
       "      <th>9</th>\n",
       "      <th>...</th>\n",
       "      <th>58</th>\n",
       "      <th>59</th>\n",
       "      <th>60</th>\n",
       "      <th>61</th>\n",
       "      <th>62</th>\n",
       "      <th>63</th>\n",
       "      <th>64</th>\n",
       "      <th>65</th>\n",
       "      <th>66</th>\n",
       "      <th>67</th>\n",
       "    </tr>\n",
       "  </thead>\n",
       "  <tbody>\n",
       "    <tr>\n",
       "      <th>0</th>\n",
       "      <td>29.206163</td>\n",
       "      <td>32.526913</td>\n",
       "      <td>37.013512</td>\n",
       "      <td>41.617306</td>\n",
       "      <td>46.043457</td>\n",
       "      <td>51.312767</td>\n",
       "      <td>55.470715</td>\n",
       "      <td>60.216278</td>\n",
       "      <td>63.411354</td>\n",
       "      <td>67.268120</td>\n",
       "      <td>...</td>\n",
       "      <td>55.973209</td>\n",
       "      <td>53.263496</td>\n",
       "      <td>60.811184</td>\n",
       "      <td>58.728188</td>\n",
       "      <td>57.384666</td>\n",
       "      <td>56.727417</td>\n",
       "      <td>54.671749</td>\n",
       "      <td>54.488529</td>\n",
       "      <td>55.172459</td>\n",
       "      <td>57.280014</td>\n",
       "    </tr>\n",
       "    <tr>\n",
       "      <th>1</th>\n",
       "      <td>28.425341</td>\n",
       "      <td>31.827662</td>\n",
       "      <td>36.235340</td>\n",
       "      <td>41.617306</td>\n",
       "      <td>45.486263</td>\n",
       "      <td>50.774010</td>\n",
       "      <td>55.470715</td>\n",
       "      <td>59.640591</td>\n",
       "      <td>63.411354</td>\n",
       "      <td>66.603302</td>\n",
       "      <td>...</td>\n",
       "      <td>55.317268</td>\n",
       "      <td>51.855568</td>\n",
       "      <td>60.811184</td>\n",
       "      <td>59.464275</td>\n",
       "      <td>58.137768</td>\n",
       "      <td>56.080299</td>\n",
       "      <td>54.037025</td>\n",
       "      <td>53.814495</td>\n",
       "      <td>55.901699</td>\n",
       "      <td>57.280014</td>\n",
       "    </tr>\n",
       "    <tr>\n",
       "      <th>2</th>\n",
       "      <td>28.425341</td>\n",
       "      <td>31.827662</td>\n",
       "      <td>37.013512</td>\n",
       "      <td>41.617306</td>\n",
       "      <td>46.324940</td>\n",
       "      <td>50.774010</td>\n",
       "      <td>55.470715</td>\n",
       "      <td>59.640591</td>\n",
       "      <td>63.411354</td>\n",
       "      <td>67.268120</td>\n",
       "      <td>...</td>\n",
       "      <td>55.317268</td>\n",
       "      <td>53.263496</td>\n",
       "      <td>60.811184</td>\n",
       "      <td>59.464275</td>\n",
       "      <td>58.137768</td>\n",
       "      <td>56.080299</td>\n",
       "      <td>54.671749</td>\n",
       "      <td>53.814495</td>\n",
       "      <td>55.901699</td>\n",
       "      <td>57.280014</td>\n",
       "    </tr>\n",
       "    <tr>\n",
       "      <th>3</th>\n",
       "      <td>29.832869</td>\n",
       "      <td>32.557640</td>\n",
       "      <td>37.013512</td>\n",
       "      <td>41.617306</td>\n",
       "      <td>45.486263</td>\n",
       "      <td>50.774010</td>\n",
       "      <td>54.918121</td>\n",
       "      <td>58.821766</td>\n",
       "      <td>62.801273</td>\n",
       "      <td>65.946945</td>\n",
       "      <td>...</td>\n",
       "      <td>54.561890</td>\n",
       "      <td>52.497620</td>\n",
       "      <td>60.811184</td>\n",
       "      <td>58.728188</td>\n",
       "      <td>57.384666</td>\n",
       "      <td>56.080299</td>\n",
       "      <td>54.037025</td>\n",
       "      <td>53.814495</td>\n",
       "      <td>55.901699</td>\n",
       "      <td>57.280014</td>\n",
       "    </tr>\n",
       "    <tr>\n",
       "      <th>4</th>\n",
       "      <td>29.068884</td>\n",
       "      <td>32.557640</td>\n",
       "      <td>37.013512</td>\n",
       "      <td>41.617306</td>\n",
       "      <td>46.324940</td>\n",
       "      <td>50.774010</td>\n",
       "      <td>55.758408</td>\n",
       "      <td>59.640591</td>\n",
       "      <td>63.411354</td>\n",
       "      <td>66.603302</td>\n",
       "      <td>...</td>\n",
       "      <td>54.561890</td>\n",
       "      <td>51.855568</td>\n",
       "      <td>60.811184</td>\n",
       "      <td>59.464275</td>\n",
       "      <td>58.137768</td>\n",
       "      <td>56.080299</td>\n",
       "      <td>54.037025</td>\n",
       "      <td>54.561890</td>\n",
       "      <td>55.901699</td>\n",
       "      <td>57.280014</td>\n",
       "    </tr>\n",
       "    <tr>\n",
       "      <th>...</th>\n",
       "      <td>...</td>\n",
       "      <td>...</td>\n",
       "      <td>...</td>\n",
       "      <td>...</td>\n",
       "      <td>...</td>\n",
       "      <td>...</td>\n",
       "      <td>...</td>\n",
       "      <td>...</td>\n",
       "      <td>...</td>\n",
       "      <td>...</td>\n",
       "      <td>...</td>\n",
       "      <td>...</td>\n",
       "      <td>...</td>\n",
       "      <td>...</td>\n",
       "      <td>...</td>\n",
       "      <td>...</td>\n",
       "      <td>...</td>\n",
       "      <td>...</td>\n",
       "      <td>...</td>\n",
       "      <td>...</td>\n",
       "      <td>...</td>\n",
       "    </tr>\n",
       "    <tr>\n",
       "      <th>952</th>\n",
       "      <td>24.596748</td>\n",
       "      <td>32.310989</td>\n",
       "      <td>40.804413</td>\n",
       "      <td>48.052055</td>\n",
       "      <td>55.443665</td>\n",
       "      <td>61.073727</td>\n",
       "      <td>67.029846</td>\n",
       "      <td>72.339478</td>\n",
       "      <td>74.148499</td>\n",
       "      <td>74.464760</td>\n",
       "      <td>...</td>\n",
       "      <td>59.439045</td>\n",
       "      <td>58.694122</td>\n",
       "      <td>65.145988</td>\n",
       "      <td>65.253349</td>\n",
       "      <td>64.761101</td>\n",
       "      <td>64.327286</td>\n",
       "      <td>61.814240</td>\n",
       "      <td>60.415230</td>\n",
       "      <td>61.846584</td>\n",
       "      <td>62.361847</td>\n",
       "    </tr>\n",
       "    <tr>\n",
       "      <th>953</th>\n",
       "      <td>27.294687</td>\n",
       "      <td>34.539833</td>\n",
       "      <td>43.011627</td>\n",
       "      <td>50.447994</td>\n",
       "      <td>56.718605</td>\n",
       "      <td>63.198101</td>\n",
       "      <td>68.007355</td>\n",
       "      <td>72.173401</td>\n",
       "      <td>73.824112</td>\n",
       "      <td>73.756355</td>\n",
       "      <td>...</td>\n",
       "      <td>61.188232</td>\n",
       "      <td>60.406952</td>\n",
       "      <td>65.253349</td>\n",
       "      <td>65.734314</td>\n",
       "      <td>66.287254</td>\n",
       "      <td>65.924202</td>\n",
       "      <td>63.505905</td>\n",
       "      <td>62.169125</td>\n",
       "      <td>63.348244</td>\n",
       "      <td>62.817196</td>\n",
       "    </tr>\n",
       "    <tr>\n",
       "      <th>954</th>\n",
       "      <td>29.154760</td>\n",
       "      <td>36.249138</td>\n",
       "      <td>43.657761</td>\n",
       "      <td>50.695168</td>\n",
       "      <td>56.885849</td>\n",
       "      <td>63.285069</td>\n",
       "      <td>69.007248</td>\n",
       "      <td>74.168724</td>\n",
       "      <td>74.813103</td>\n",
       "      <td>73.756355</td>\n",
       "      <td>...</td>\n",
       "      <td>63.348244</td>\n",
       "      <td>61.400326</td>\n",
       "      <td>65.253349</td>\n",
       "      <td>65.969688</td>\n",
       "      <td>66.490601</td>\n",
       "      <td>66.098412</td>\n",
       "      <td>64.629715</td>\n",
       "      <td>63.150612</td>\n",
       "      <td>63.560993</td>\n",
       "      <td>64.031242</td>\n",
       "    </tr>\n",
       "    <tr>\n",
       "      <th>955</th>\n",
       "      <td>24.738634</td>\n",
       "      <td>32.557640</td>\n",
       "      <td>41.436699</td>\n",
       "      <td>49.254440</td>\n",
       "      <td>56.080299</td>\n",
       "      <td>64.007812</td>\n",
       "      <td>70.178345</td>\n",
       "      <td>74.813103</td>\n",
       "      <td>76.902534</td>\n",
       "      <td>77.491936</td>\n",
       "      <td>...</td>\n",
       "      <td>62.641838</td>\n",
       "      <td>61.392181</td>\n",
       "      <td>67.067131</td>\n",
       "      <td>67.357254</td>\n",
       "      <td>67.720009</td>\n",
       "      <td>66.219330</td>\n",
       "      <td>64.536812</td>\n",
       "      <td>63.600315</td>\n",
       "      <td>65.145988</td>\n",
       "      <td>65.787537</td>\n",
       "    </tr>\n",
       "    <tr>\n",
       "      <th>956</th>\n",
       "      <td>30.016663</td>\n",
       "      <td>36.674240</td>\n",
       "      <td>43.657761</td>\n",
       "      <td>50.960770</td>\n",
       "      <td>57.070133</td>\n",
       "      <td>62.514000</td>\n",
       "      <td>69.180923</td>\n",
       "      <td>74.000000</td>\n",
       "      <td>75.239616</td>\n",
       "      <td>74.966660</td>\n",
       "      <td>...</td>\n",
       "      <td>59.211487</td>\n",
       "      <td>59.000000</td>\n",
       "      <td>64.132675</td>\n",
       "      <td>64.629715</td>\n",
       "      <td>64.280632</td>\n",
       "      <td>63.126858</td>\n",
       "      <td>62.008064</td>\n",
       "      <td>61.131008</td>\n",
       "      <td>61.294373</td>\n",
       "      <td>61.660358</td>\n",
       "    </tr>\n",
       "  </tbody>\n",
       "</table>\n",
       "<p>957 rows × 68 columns</p>\n",
       "</div>"
      ],
      "text/plain": [
       "             0          1          2          3          4          5  \\\n",
       "0    29.206163  32.526913  37.013512  41.617306  46.043457  51.312767   \n",
       "1    28.425341  31.827662  36.235340  41.617306  45.486263  50.774010   \n",
       "2    28.425341  31.827662  37.013512  41.617306  46.324940  50.774010   \n",
       "3    29.832869  32.557640  37.013512  41.617306  45.486263  50.774010   \n",
       "4    29.068884  32.557640  37.013512  41.617306  46.324940  50.774010   \n",
       "..         ...        ...        ...        ...        ...        ...   \n",
       "952  24.596748  32.310989  40.804413  48.052055  55.443665  61.073727   \n",
       "953  27.294687  34.539833  43.011627  50.447994  56.718605  63.198101   \n",
       "954  29.154760  36.249138  43.657761  50.695168  56.885849  63.285069   \n",
       "955  24.738634  32.557640  41.436699  49.254440  56.080299  64.007812   \n",
       "956  30.016663  36.674240  43.657761  50.960770  57.070133  62.514000   \n",
       "\n",
       "             6          7          8          9  ...         58         59  \\\n",
       "0    55.470715  60.216278  63.411354  67.268120  ...  55.973209  53.263496   \n",
       "1    55.470715  59.640591  63.411354  66.603302  ...  55.317268  51.855568   \n",
       "2    55.470715  59.640591  63.411354  67.268120  ...  55.317268  53.263496   \n",
       "3    54.918121  58.821766  62.801273  65.946945  ...  54.561890  52.497620   \n",
       "4    55.758408  59.640591  63.411354  66.603302  ...  54.561890  51.855568   \n",
       "..         ...        ...        ...        ...  ...        ...        ...   \n",
       "952  67.029846  72.339478  74.148499  74.464760  ...  59.439045  58.694122   \n",
       "953  68.007355  72.173401  73.824112  73.756355  ...  61.188232  60.406952   \n",
       "954  69.007248  74.168724  74.813103  73.756355  ...  63.348244  61.400326   \n",
       "955  70.178345  74.813103  76.902534  77.491936  ...  62.641838  61.392181   \n",
       "956  69.180923  74.000000  75.239616  74.966660  ...  59.211487  59.000000   \n",
       "\n",
       "            60         61         62         63         64         65  \\\n",
       "0    60.811184  58.728188  57.384666  56.727417  54.671749  54.488529   \n",
       "1    60.811184  59.464275  58.137768  56.080299  54.037025  53.814495   \n",
       "2    60.811184  59.464275  58.137768  56.080299  54.671749  53.814495   \n",
       "3    60.811184  58.728188  57.384666  56.080299  54.037025  53.814495   \n",
       "4    60.811184  59.464275  58.137768  56.080299  54.037025  54.561890   \n",
       "..         ...        ...        ...        ...        ...        ...   \n",
       "952  65.145988  65.253349  64.761101  64.327286  61.814240  60.415230   \n",
       "953  65.253349  65.734314  66.287254  65.924202  63.505905  62.169125   \n",
       "954  65.253349  65.969688  66.490601  66.098412  64.629715  63.150612   \n",
       "955  67.067131  67.357254  67.720009  66.219330  64.536812  63.600315   \n",
       "956  64.132675  64.629715  64.280632  63.126858  62.008064  61.131008   \n",
       "\n",
       "            66         67  \n",
       "0    55.172459  57.280014  \n",
       "1    55.901699  57.280014  \n",
       "2    55.901699  57.280014  \n",
       "3    55.901699  57.280014  \n",
       "4    55.901699  57.280014  \n",
       "..         ...        ...  \n",
       "952  61.846584  62.361847  \n",
       "953  63.348244  62.817196  \n",
       "954  63.560993  64.031242  \n",
       "955  65.145988  65.787537  \n",
       "956  61.294373  61.660358  \n",
       "\n",
       "[957 rows x 68 columns]"
      ]
     },
     "execution_count": 41,
     "metadata": {},
     "output_type": "execute_result"
    }
   ],
   "source": [
    "Data_ALL.iloc[:,1:69]"
   ]
  },
  {
   "cell_type": "code",
   "execution_count": 42,
   "metadata": {},
   "outputs": [],
   "source": [
    "Visual_df=Data_ALL.iloc[:,1:69]"
   ]
  },
  {
   "cell_type": "code",
   "execution_count": 43,
   "metadata": {},
   "outputs": [
    {
     "data": {
      "text/plain": [
       "(957, 68)"
      ]
     },
     "execution_count": 43,
     "metadata": {},
     "output_type": "execute_result"
    }
   ],
   "source": [
    "Visual_df.shape"
   ]
  },
  {
   "cell_type": "code",
   "execution_count": 44,
   "metadata": {},
   "outputs": [
    {
     "data": {
      "text/plain": [
       "0      0\n",
       "1      0\n",
       "2      0\n",
       "3      0\n",
       "4      0\n",
       "      ..\n",
       "952    0\n",
       "953    0\n",
       "954    1\n",
       "955    1\n",
       "956    1\n",
       "Name: eye contact, Length: 957, dtype: int64"
      ]
     },
     "execution_count": 44,
     "metadata": {},
     "output_type": "execute_result"
    }
   ],
   "source": [
    "Data_ALL.iloc[:,72]"
   ]
  },
  {
   "cell_type": "code",
   "execution_count": 45,
   "metadata": {},
   "outputs": [],
   "source": [
    "lable_df=Data_ALL.iloc[:,72]"
   ]
  },
  {
   "cell_type": "code",
   "execution_count": 46,
   "metadata": {},
   "outputs": [
    {
     "data": {
      "text/plain": [
       "0      0\n",
       "1      0\n",
       "2      0\n",
       "3      0\n",
       "4      0\n",
       "      ..\n",
       "952    0\n",
       "953    0\n",
       "954    1\n",
       "955    1\n",
       "956    1\n",
       "Name: eye contact, Length: 957, dtype: int64"
      ]
     },
     "execution_count": 46,
     "metadata": {},
     "output_type": "execute_result"
    }
   ],
   "source": [
    "lable_df"
   ]
  },
  {
   "cell_type": "code",
   "execution_count": 47,
   "metadata": {},
   "outputs": [],
   "source": [
    "# lables_df = pd.factorize(lable_df)"
   ]
  },
  {
   "cell_type": "code",
   "execution_count": 54,
   "metadata": {},
   "outputs": [
    {
     "data": {
      "text/plain": [
       "(957,)"
      ]
     },
     "execution_count": 54,
     "metadata": {},
     "output_type": "execute_result"
    }
   ],
   "source": [
    "lable_df.shape"
   ]
  },
  {
   "cell_type": "code",
   "execution_count": 74,
   "metadata": {},
   "outputs": [],
   "source": [
    "Visual=Visual_df.to_numpy(dtype='float32',na_value=0)\n",
    "lables=lable_df.to_numpy(dtype='float32',na_value=0)"
   ]
  },
  {
   "cell_type": "code",
   "execution_count": 75,
   "metadata": {},
   "outputs": [],
   "source": [
    "lables=lables.reshape(-1,1)"
   ]
  },
  {
   "cell_type": "code",
   "execution_count": null,
   "metadata": {},
   "outputs": [],
   "source": [
    "lables"
   ]
  },
  {
   "cell_type": "code",
   "execution_count": 77,
   "metadata": {},
   "outputs": [],
   "source": [
    "lables=lables.reshape(lables.shape[0],)"
   ]
  },
  {
   "cell_type": "code",
   "execution_count": 89,
   "metadata": {},
   "outputs": [],
   "source": [
    "X_train, X_test, y_train, y_test = train_test_split(Visual_df, lables, \n",
    "                                                    test_size=0.0001, random_state=1234,shuffle=True)"
   ]
  },
  {
   "cell_type": "code",
   "execution_count": 90,
   "metadata": {},
   "outputs": [],
   "source": [
    "from sklearn import preprocessing\n",
    "mm_scaler = preprocessing.MinMaxScaler() #preprocessing.StandardScaler() preprocessing.MinMaxScaler()\n",
    "X_train = mm_scaler.fit_transform(X_train)\n",
    "X_test = mm_scaler.transform(X_test)"
   ]
  },
  {
   "cell_type": "code",
   "execution_count": 91,
   "metadata": {},
   "outputs": [
    {
     "data": {
      "text/plain": [
       "(1,)"
      ]
     },
     "execution_count": 91,
     "metadata": {},
     "output_type": "execute_result"
    }
   ],
   "source": [
    "y_test.shape"
   ]
  },
  {
   "cell_type": "code",
   "execution_count": 24,
   "metadata": {},
   "outputs": [],
   "source": [
    "# Import the model we are using\n",
    "from sklearn.ensemble import RandomForestClassifier\n",
    "from sklearn.datasets import make_classification"
   ]
  },
  {
   "cell_type": "code",
   "execution_count": 25,
   "metadata": {},
   "outputs": [
    {
     "name": "stdout",
     "output_type": "stream",
     "text": [
      "[0.56060606 0.6969697  0.62121212 0.66666667 0.56060606 0.63636364\n",
      " 0.55384615 0.6        0.67692308 0.55384615]\n",
      "0.6127039627039627\n"
     ]
    }
   ],
   "source": [
    "CVModel = RandomForestClassifier(random_state=1)\n",
    "cv = cross_validate(CVModel, X_train, y_train, cv=10)\n",
    "print(cv['test_score'])\n",
    "print(cv['test_score'].mean())"
   ]
  },
  {
   "cell_type": "code",
   "execution_count": 26,
   "metadata": {},
   "outputs": [],
   "source": [
    "from sklearn.svm import SVC"
   ]
  },
  {
   "cell_type": "code",
   "execution_count": 27,
   "metadata": {},
   "outputs": [
    {
     "name": "stdout",
     "output_type": "stream",
     "text": [
      "[0.46969697 0.54545455 0.40909091 0.51515152 0.5        0.46969697\n",
      " 0.47692308 0.6        0.53846154 0.49230769]\n",
      "0.5016783216783216\n"
     ]
    }
   ],
   "source": [
    "CVModel2 = SVC(gamma='auto')\n",
    "cv2 = cross_validate(CVModel2, X_train, y_train, cv=10)\n",
    "print(cv2['test_score'])\n",
    "print(cv2['test_score'].mean())"
   ]
  },
  {
   "cell_type": "code",
   "execution_count": 28,
   "metadata": {},
   "outputs": [
    {
     "data": {
      "text/plain": [
       "RandomForestClassifier(random_state=1)"
      ]
     },
     "execution_count": 28,
     "metadata": {},
     "output_type": "execute_result"
    }
   ],
   "source": [
    "CVModel.fit(X_train, y_train)"
   ]
  },
  {
   "cell_type": "code",
   "execution_count": 29,
   "metadata": {},
   "outputs": [],
   "source": [
    "y_pred = CVModel.predict(X_test)"
   ]
  },
  {
   "cell_type": "code",
   "execution_count": 30,
   "metadata": {},
   "outputs": [
    {
     "data": {
      "text/plain": [
       "array([0.], dtype=float32)"
      ]
     },
     "execution_count": 30,
     "metadata": {},
     "output_type": "execute_result"
    }
   ],
   "source": [
    "y_pred"
   ]
  },
  {
   "cell_type": "code",
   "execution_count": 31,
   "metadata": {},
   "outputs": [
    {
     "data": {
      "text/plain": [
       "array([1.], dtype=float32)"
      ]
     },
     "execution_count": 31,
     "metadata": {},
     "output_type": "execute_result"
    }
   ],
   "source": [
    "y_test"
   ]
  },
  {
   "cell_type": "code",
   "execution_count": 32,
   "metadata": {},
   "outputs": [],
   "source": [
    "filename = 'RF_model_Final.sav'\n",
    "# # save the model to disk\n",
    "pickle.dump(CVModel, open(filename, 'wb'))"
   ]
  },
  {
   "cell_type": "code",
   "execution_count": null,
   "metadata": {},
   "outputs": [],
   "source": []
  },
  {
   "cell_type": "code",
   "execution_count": null,
   "metadata": {},
   "outputs": [],
   "source": []
  },
  {
   "cell_type": "code",
   "execution_count": null,
   "metadata": {},
   "outputs": [],
   "source": []
  },
  {
   "cell_type": "code",
   "execution_count": null,
   "metadata": {},
   "outputs": [],
   "source": []
  },
  {
   "cell_type": "code",
   "execution_count": null,
   "metadata": {},
   "outputs": [],
   "source": []
  },
  {
   "cell_type": "code",
   "execution_count": null,
   "metadata": {},
   "outputs": [],
   "source": []
  },
  {
   "cell_type": "code",
   "execution_count": 63,
   "metadata": {},
   "outputs": [
    {
     "name": "stderr",
     "output_type": "stream",
     "text": [
      "[Parallel(n_jobs=-1)]: Using backend ThreadingBackend with 16 concurrent workers.\n",
      "[Parallel(n_jobs=-1)]: Done  30 out of  30 | elapsed:    0.0s remaining:    0.0s\n",
      "[Parallel(n_jobs=-1)]: Done  30 out of  30 | elapsed:    0.0s finished\n"
     ]
    },
    {
     "data": {
      "text/plain": [
       "RandomForestClassifier(class_weight='balanced', max_depth=13, n_estimators=30,\n",
       "                       n_jobs=-1, random_state=0, verbose=1)"
      ]
     },
     "execution_count": 63,
     "metadata": {},
     "output_type": "execute_result"
    }
   ],
   "source": [
    "# Instantiate model with 1000 decision trees\n",
    "classifier = RandomForestClassifier(\n",
    "    n_estimators=30,\n",
    "    criterion='gini',\n",
    "    max_depth=13,\n",
    "    min_weight_fraction_leaf=0.0,\n",
    "    max_features='auto',\n",
    "    max_leaf_nodes=None,\n",
    "    min_impurity_decrease=0.0,\n",
    "    min_impurity_split=None,\n",
    "    bootstrap=True,\n",
    "    oob_score=False,\n",
    "    n_jobs=-1,\n",
    "    random_state=0,\n",
    "    verbose=1,\n",
    "    warm_start=False,\n",
    "    class_weight='balanced')\n",
    "\n",
    "classifier.fit(X_train, y_train)"
   ]
  },
  {
   "cell_type": "code",
   "execution_count": 92,
   "metadata": {},
   "outputs": [],
   "source": [
    "#To load the model later\n",
    "loaded_model = pickle.load(open(\"RF_model_Final.sav\", 'rb'))\n",
    "# result = loaded_model.score(X_test, y_test)\n",
    "# print(result)"
   ]
  },
  {
   "cell_type": "code",
   "execution_count": 93,
   "metadata": {},
   "outputs": [],
   "source": [
    "y_pred = loaded_model.predict(X_train)"
   ]
  },
  {
   "cell_type": "code",
   "execution_count": 94,
   "metadata": {},
   "outputs": [
    {
     "name": "stdout",
     "output_type": "stream",
     "text": [
      "[[215 412]\n",
      " [116 213]]\n",
      "              precision    recall  f1-score   support\n",
      "\n",
      "         0.0       0.65      0.34      0.45       627\n",
      "         1.0       0.34      0.65      0.45       329\n",
      "\n",
      "    accuracy                           0.45       956\n",
      "   macro avg       0.50      0.50      0.45       956\n",
      "weighted avg       0.54      0.45      0.45       956\n",
      "\n",
      "0.4476987447698745\n"
     ]
    }
   ],
   "source": [
    "from sklearn.metrics import classification_report, confusion_matrix, accuracy_score\n",
    "\n",
    "print(confusion_matrix(y_train,y_pred))\n",
    "print(classification_report(y_train,y_pred))\n",
    "print(accuracy_score(y_train, y_pred))"
   ]
  },
  {
   "cell_type": "code",
   "execution_count": 103,
   "metadata": {},
   "outputs": [
    {
     "data": {
      "text/plain": [
       "array([1.], dtype=float32)"
      ]
     },
     "execution_count": 103,
     "metadata": {},
     "output_type": "execute_result"
    }
   ],
   "source": [
    "loaded_model.predict(X_test)"
   ]
  },
  {
   "cell_type": "code",
   "execution_count": null,
   "metadata": {},
   "outputs": [],
   "source": [
    "y_pred2 = classifier.predict(X_test)"
   ]
  },
  {
   "cell_type": "code",
   "execution_count": 65,
   "metadata": {},
   "outputs": [
    {
     "name": "stdout",
     "output_type": "stream",
     "text": [
      "[[15  7]\n",
      " [ 3  8]]\n",
      "              precision    recall  f1-score   support\n",
      "\n",
      "         0.0       0.83      0.68      0.75        22\n",
      "         1.0       0.53      0.73      0.62        11\n",
      "\n",
      "    accuracy                           0.70        33\n",
      "   macro avg       0.68      0.70      0.68        33\n",
      "weighted avg       0.73      0.70      0.71        33\n",
      "\n",
      "0.696969696969697\n"
     ]
    }
   ],
   "source": [
    "from sklearn.metrics import classification_report, confusion_matrix, accuracy_score\n",
    "\n",
    "print(confusion_matrix(y_test,y_pred2))\n",
    "print(classification_report(y_test,y_pred2))\n",
    "print(accuracy_score(y_test, y_pred2))"
   ]
  },
  {
   "cell_type": "code",
   "execution_count": 57,
   "metadata": {},
   "outputs": [
    {
     "data": {
      "text/plain": [
       "0.6818181818181818"
      ]
     },
     "execution_count": 57,
     "metadata": {},
     "output_type": "execute_result"
    }
   ],
   "source": [
    "from sklearn.metrics import roc_curve, auc\n",
    "false_positive_rate, true_positive_rate, thresholds = roc_curve(y_test, y_pred2)\n",
    "roc_auc = auc(false_positive_rate, true_positive_rate)\n",
    "roc_auc"
   ]
  },
  {
   "cell_type": "code",
   "execution_count": 58,
   "metadata": {},
   "outputs": [
    {
     "data": {
      "image/png": "[encoded data removed]",
      "text/plain": [
       "<Figure size 432x288 with 1 Axes>"
      ]
     },
     "metadata": {
      "needs_background": "light"
     },
     "output_type": "display_data"
    }
   ],
   "source": [
    "n_estimators = [1, 2, 4, 8, 16, 32, 64, 100, 200]\n",
    "train_results = []\n",
    "test_results = []\n",
    "for estimator in n_estimators:\n",
    "   rf = RandomForestClassifier(n_estimators=estimator, n_jobs=-1)\n",
    "   rf.fit(X_train, y_train)\n",
    "   train_pred = rf.predict(X_train)\n",
    "   false_positive_rate, true_positive_rate, thresholds = roc_curve(y_train, train_pred)\n",
    "   roc_auc = auc(false_positive_rate, true_positive_rate)\n",
    "   train_results.append(roc_auc)\n",
    "   y_pred = rf.predict(X_test)\n",
    "   false_positive_rate, true_positive_rate, thresholds = roc_curve(y_test, y_pred)\n",
    "   roc_auc = auc(false_positive_rate, true_positive_rate)\n",
    "   test_results.append(roc_auc)\n",
    "from matplotlib.legend_handler import HandlerLine2D\n",
    "line1, = plt.plot(n_estimators, train_results, \"b\", label=\"Train AUC\")\n",
    "line2, = plt.plot(n_estimators, test_results, \"r\", label=\"Test AUC\")\n",
    "plt.legend(handler_map={line1: HandlerLine2D(numpoints=2)})\n",
    "plt.ylabel(\"AUC score\")\n",
    "plt.xlabel(\"n_estimators\")\n",
    "plt.show()"
   ]
  },
  {
   "cell_type": "code",
   "execution_count": 59,
   "metadata": {},
   "outputs": [
    {
     "data": {
      "image/png": "[encoded data removed]",
      "text/plain": [
       "<Figure size 432x288 with 1 Axes>"
      ]
     },
     "metadata": {
      "needs_background": "light"
     },
     "output_type": "display_data"
    }
   ],
   "source": [
    "max_depths = np.linspace(1, 32, 32, endpoint=True)\n",
    "train_results = []\n",
    "test_results = []\n",
    "for max_depth in max_depths:\n",
    "   rf = RandomForestClassifier(max_depth=max_depth, n_jobs=-1)\n",
    "   rf.fit(X_train, y_train)\n",
    "   train_pred = rf.predict(X_train)\n",
    "   false_positive_rate, true_positive_rate, thresholds = roc_curve(y_train, train_pred)\n",
    "   roc_auc = auc(false_positive_rate, true_positive_rate)\n",
    "   train_results.append(roc_auc)\n",
    "   y_pred = rf.predict(X_test)\n",
    "   false_positive_rate, true_positive_rate, thresholds = roc_curve(y_test, y_pred)\n",
    "   roc_auc = auc(false_positive_rate, true_positive_rate)\n",
    "   test_results.append(roc_auc)\n",
    "from matplotlib.legend_handler import HandlerLine2D\n",
    "line1, = plt.plot(max_depths, train_results, \"b\", label=\"Train AUC\")\n",
    "line2, = plt.plot(max_depths, test_results, \"r\", label=\"Test AUC\")\n",
    "plt.legend(handler_map={line1: HandlerLine2D(numpoints=2)})\n",
    "plt.ylabel(\"AUC score\")\n",
    "plt.xlabel(\"Tree depth\")\n",
    "plt.show()"
   ]
  },
  {
   "cell_type": "code",
   "execution_count": 60,
   "metadata": {},
   "outputs": [
    {
     "data": {
      "image/png": "[encoded data removed]",
      "text/plain": [
       "<Figure size 432x288 with 1 Axes>"
      ]
     },
     "metadata": {
      "needs_background": "light"
     },
     "output_type": "display_data"
    }
   ],
   "source": [
    "min_samples_splits = np.linspace(0.1, 1.0, 10, endpoint=True)\n",
    "train_results = []\n",
    "test_results = []\n",
    "for min_samples_split in min_samples_splits:\n",
    "   rf = RandomForestClassifier(min_samples_split=min_samples_split)\n",
    "   rf.fit(X_train, y_train)\n",
    "   train_pred = rf.predict(X_train)\n",
    "   false_positive_rate, true_positive_rate, thresholds = roc_curve(y_train, train_pred)\n",
    "   roc_auc = auc(false_positive_rate, true_positive_rate)\n",
    "   train_results.append(roc_auc)\n",
    "   y_pred = rf.predict(X_test)\n",
    "   false_positive_rate, true_positive_rate, thresholds = roc_curve(y_test, y_pred)\n",
    "   roc_auc = auc(false_positive_rate, true_positive_rate)\n",
    "   test_results.append(roc_auc)\n",
    "from matplotlib.legend_handler import HandlerLine2D\n",
    "line1, = plt.plot(min_samples_splits, train_results, \"b\", label=\"Train AUC\")\n",
    "line2, = plt.plot(min_samples_splits, test_results, \"r\", label=\"Test AUC\")\n",
    "plt.legend(handler_map={line1: HandlerLine2D(numpoints=2)})\n",
    "plt.ylabel(\"AUC score\")\n",
    "plt.xlabel(\"min samples split\")\n",
    "plt.show()"
   ]
  },
  {
   "cell_type": "code",
   "execution_count": 61,
   "metadata": {},
   "outputs": [
    {
     "data": {
      "image/png": "[encoded data removed]",
      "text/plain": [
       "<Figure size 432x288 with 1 Axes>"
      ]
     },
     "metadata": {
      "needs_background": "light"
     },
     "output_type": "display_data"
    }
   ],
   "source": [
    "min_samples_leafs = np.linspace(0.1, 0.5, 5, endpoint=True)\n",
    "train_results = []\n",
    "test_results = []\n",
    "for min_samples_leaf in min_samples_leafs:\n",
    "   rf = RandomForestClassifier(min_samples_leaf=min_samples_leaf)\n",
    "   rf.fit(X_train, y_train)\n",
    "   train_pred = rf.predict(X_train)\n",
    "   false_positive_rate, true_positive_rate, thresholds = roc_curve(y_train, train_pred)\n",
    "   roc_auc = auc(false_positive_rate, true_positive_rate)\n",
    "   train_results.append(roc_auc)\n",
    "   y_pred = rf.predict(X_test)\n",
    "   false_positive_rate, true_positive_rate, thresholds = roc_curve(y_test, y_pred)\n",
    "   roc_auc = auc(false_positive_rate, true_positive_rate)\n",
    "   test_results.append(roc_auc)\n",
    "from matplotlib.legend_handler import HandlerLine2D\n",
    "line1, = plt.plot(min_samples_leafs, train_results, \"b\", label=\"Train AUC\")\n",
    "line2, = plt.plot(min_samples_leafs, test_results, \"r\", label=\"Test AUC\")\n",
    "plt.legend(handler_map={line1: HandlerLine2D(numpoints=2)})\n",
    "plt.ylabel(\"AUC score\")\n",
    "plt.xlabel(\"min samples leaf\")\n",
    "plt.show()"
   ]
  },
  {
   "cell_type": "code",
   "execution_count": null,
   "metadata": {},
   "outputs": [],
   "source": []
  },
  {
   "cell_type": "code",
   "execution_count": null,
   "metadata": {},
   "outputs": [],
   "source": []
  },
  {
   "cell_type": "code",
   "execution_count": null,
   "metadata": {},
   "outputs": [],
   "source": []
  },
  {
   "cell_type": "code",
   "execution_count": null,
   "metadata": {},
   "outputs": [],
   "source": []
  },
  {
   "cell_type": "code",
   "execution_count": null,
   "metadata": {},
   "outputs": [],
   "source": []
  },
  {
   "cell_type": "code",
   "execution_count": 37,
   "metadata": {},
   "outputs": [
    {
     "name": "stdout",
     "output_type": "stream",
     "text": [
      "0.0\n",
      "0.0\n"
     ]
    }
   ],
   "source": [
    "print(y_train[5])\n",
    "print(y_train[71])"
   ]
  },
  {
   "cell_type": "code",
   "execution_count": 33,
   "metadata": {},
   "outputs": [
    {
     "data": {
      "text/plain": [
       "[<matplotlib.lines.Line2D at 0x242debd4708>]"
      ]
     },
     "execution_count": 33,
     "metadata": {},
     "output_type": "execute_result"
    },
    {
     "data": {
      "image/png": "[encoded data removed]",
      "text/plain": [
       "<Figure size 432x288 with 1 Axes>"
      ]
     },
     "metadata": {
      "needs_background": "light"
     },
     "output_type": "display_data"
    }
   ],
   "source": [
    "#With eye contact\n",
    "plt.plot(X_train[30,:])\n"
   ]
  },
  {
   "cell_type": "code",
   "execution_count": 34,
   "metadata": {},
   "outputs": [
    {
     "data": {
      "text/plain": [
       "[<matplotlib.lines.Line2D at 0x242df102448>]"
      ]
     },
     "execution_count": 34,
     "metadata": {},
     "output_type": "execute_result"
    },
    {
     "data": {
      "image/png": "[encoded data removed]",
      "text/plain": [
       "<Figure size 432x288 with 1 Axes>"
      ]
     },
     "metadata": {
      "needs_background": "light"
     },
     "output_type": "display_data"
    }
   ],
   "source": [
    "plt.figure()\n",
    "plt.plot(X_train[10,:])"
   ]
  },
  {
   "cell_type": "code",
   "execution_count": 40,
   "metadata": {},
   "outputs": [
    {
     "name": "stdout",
     "output_type": "stream",
     "text": [
      "1.0\n",
      "1.0\n"
     ]
    }
   ],
   "source": [
    "print(y_train[6])\n",
    "print(y_train[10])"
   ]
  },
  {
   "cell_type": "code",
   "execution_count": 35,
   "metadata": {},
   "outputs": [
    {
     "data": {
      "text/plain": [
       "[<matplotlib.lines.Line2D at 0x242df17f1c8>]"
      ]
     },
     "execution_count": 35,
     "metadata": {},
     "output_type": "execute_result"
    },
    {
     "data": {
      "image/png": "[encoded data removed]",
      "text/plain": [
       "<Figure size 432x288 with 1 Axes>"
      ]
     },
     "metadata": {
      "needs_background": "light"
     },
     "output_type": "display_data"
    }
   ],
   "source": [
    "#With NO eye contact\n",
    "plt.figure()\n",
    "plt.plot(X_train[6,:])"
   ]
  },
  {
   "cell_type": "code",
   "execution_count": 36,
   "metadata": {},
   "outputs": [
    {
     "data": {
      "text/plain": [
       "[<matplotlib.lines.Line2D at 0x242df2340c8>]"
      ]
     },
     "execution_count": 36,
     "metadata": {},
     "output_type": "execute_result"
    },
    {
     "data": {
      "image/png": "[encoded data removed]",
      "text/plain": [
       "<Figure size 432x288 with 1 Axes>"
      ]
     },
     "metadata": {
      "needs_background": "light"
     },
     "output_type": "display_data"
    }
   ],
   "source": [
    "#With NO eye contact\n",
    "plt.figure()\n",
    "plt.plot(X_train[10,:])"
   ]
  },
  {
   "cell_type": "code",
   "execution_count": 43,
   "metadata": {},
   "outputs": [],
   "source": [
    "#history.history"
   ]
  },
  {
   "cell_type": "code",
   "execution_count": 254,
   "metadata": {},
   "outputs": [
    {
     "data": {
      "text/plain": [
       "0.0"
      ]
     },
     "execution_count": 254,
     "metadata": {},
     "output_type": "execute_result"
    }
   ],
   "source": [
    "y_train[5]"
   ]
  },
  {
   "cell_type": "code",
   "execution_count": 61,
   "metadata": {},
   "outputs": [],
   "source": [
    "filename = 'RF_model_Final.sav'"
   ]
  },
  {
   "cell_type": "code",
   "execution_count": 62,
   "metadata": {},
   "outputs": [],
   "source": [
    "\n",
    "# # save the model to disk\n",
    "# pickle.dump(classifier, open(filename, 'wb'))"
   ]
  },
  {
   "cell_type": "code",
   "execution_count": 53,
   "metadata": {},
   "outputs": [],
   "source": [
    "#To load the model later\n",
    "loaded_model = pickle.load(open(filename, 'rb'))\n",
    "# result = loaded_model.score(X_test, y_test)\n",
    "# print(result)"
   ]
  },
  {
   "cell_type": "code",
   "execution_count": 5,
   "metadata": {},
   "outputs": [],
   "source": [
    "#++++++++++++++Prediction part ============================================================"
   ]
  },
  {
   "cell_type": "code",
   "execution_count": 57,
   "metadata": {},
   "outputs": [],
   "source": [
    "fileName=\"P09966_04_03_2020_163313_wc_landmark_features_10.csv\""
   ]
  },
  {
   "cell_type": "code",
   "execution_count": 58,
   "metadata": {},
   "outputs": [],
   "source": [
    "testin_gpath = 'd:/VMS/del/landmark_features/'+fileName"
   ]
  },
  {
   "cell_type": "code",
   "execution_count": 59,
   "metadata": {},
   "outputs": [],
   "source": [
    "testing = pd.read_csv(testin_gpath, sep=',',header=None)"
   ]
  },
  {
   "cell_type": "code",
   "execution_count": 60,
   "metadata": {},
   "outputs": [],
   "source": [
    "testing_np=testing.to_numpy(dtype='float32',na_value=0)"
   ]
  },
  {
   "cell_type": "code",
   "execution_count": 61,
   "metadata": {},
   "outputs": [
    {
     "data": {
      "text/plain": [
       "(360, 422)"
      ]
     },
     "execution_count": 61,
     "metadata": {},
     "output_type": "execute_result"
    }
   ],
   "source": [
    "testing.shape"
   ]
  },
  {
   "cell_type": "code",
   "execution_count": 62,
   "metadata": {},
   "outputs": [],
   "source": [
    "mm_scaler = preprocessing.MinMaxScaler() #preprocessing.StandardScaler()\n",
    "testing = mm_scaler.fit_transform(testing_np)\n",
    "testing = mm_scaler.transform(testing_np)"
   ]
  },
  {
   "cell_type": "code",
   "execution_count": 63,
   "metadata": {},
   "outputs": [],
   "source": [
    "y_pred = loaded_model.predict(testing)"
   ]
  },
  {
   "cell_type": "code",
   "execution_count": 64,
   "metadata": {},
   "outputs": [],
   "source": [
    "y_pred=y_pred.reshape(-1,1)"
   ]
  },
  {
   "cell_type": "code",
   "execution_count": 65,
   "metadata": {},
   "outputs": [],
   "source": [
    "Tomor_pred=DataFrame(y_pred,columns=['eye'])"
   ]
  },
  {
   "cell_type": "code",
   "execution_count": 66,
   "metadata": {},
   "outputs": [
    {
     "name": "stdout",
     "output_type": "stream",
     "text": [
      "\n",
      "CSV String:\n",
      " None\n"
     ]
    }
   ],
   "source": [
    "gfg_csv_data = Tomor_pred.to_csv('d:/VMS/del/Pred/'+fileName, index = True) \n",
    "print('\\nCSV String:\\n', gfg_csv_data) "
   ]
  },
  {
   "cell_type": "code",
   "execution_count": 67,
   "metadata": {},
   "outputs": [
    {
     "data": {
      "text/plain": [
       "(360, 1)"
      ]
     },
     "execution_count": 67,
     "metadata": {},
     "output_type": "execute_result"
    }
   ],
   "source": [
    "y_pred.shape"
   ]
  },
  {
   "cell_type": "code",
   "execution_count": 16,
   "metadata": {},
   "outputs": [
    {
     "data": {
      "text/html": [
       "<div>\n",
       "<style scoped>\n",
       "    .dataframe tbody tr th:only-of-type {\n",
       "        vertical-align: middle;\n",
       "    }\n",
       "\n",
       "    .dataframe tbody tr th {\n",
       "        vertical-align: top;\n",
       "    }\n",
       "\n",
       "    .dataframe thead th {\n",
       "        text-align: right;\n",
       "    }\n",
       "</style>\n",
       "<table border=\"1\" class=\"dataframe\">\n",
       "  <thead>\n",
       "    <tr style=\"text-align: right;\">\n",
       "      <th></th>\n",
       "      <th>eye</th>\n",
       "    </tr>\n",
       "  </thead>\n",
       "  <tbody>\n",
       "    <tr>\n",
       "      <th>0</th>\n",
       "      <td>0.0</td>\n",
       "    </tr>\n",
       "    <tr>\n",
       "      <th>1</th>\n",
       "      <td>0.0</td>\n",
       "    </tr>\n",
       "    <tr>\n",
       "      <th>2</th>\n",
       "      <td>0.0</td>\n",
       "    </tr>\n",
       "    <tr>\n",
       "      <th>3</th>\n",
       "      <td>0.0</td>\n",
       "    </tr>\n",
       "    <tr>\n",
       "      <th>4</th>\n",
       "      <td>0.0</td>\n",
       "    </tr>\n",
       "    <tr>\n",
       "      <th>...</th>\n",
       "      <td>...</td>\n",
       "    </tr>\n",
       "    <tr>\n",
       "      <th>534</th>\n",
       "      <td>1.0</td>\n",
       "    </tr>\n",
       "    <tr>\n",
       "      <th>535</th>\n",
       "      <td>1.0</td>\n",
       "    </tr>\n",
       "    <tr>\n",
       "      <th>536</th>\n",
       "      <td>1.0</td>\n",
       "    </tr>\n",
       "    <tr>\n",
       "      <th>537</th>\n",
       "      <td>0.0</td>\n",
       "    </tr>\n",
       "    <tr>\n",
       "      <th>538</th>\n",
       "      <td>1.0</td>\n",
       "    </tr>\n",
       "  </tbody>\n",
       "</table>\n",
       "<p>539 rows × 1 columns</p>\n",
       "</div>"
      ],
      "text/plain": [
       "     eye\n",
       "0    0.0\n",
       "1    0.0\n",
       "2    0.0\n",
       "3    0.0\n",
       "4    0.0\n",
       "..   ...\n",
       "534  1.0\n",
       "535  1.0\n",
       "536  1.0\n",
       "537  0.0\n",
       "538  1.0\n",
       "\n",
       "[539 rows x 1 columns]"
      ]
     },
     "execution_count": 16,
     "metadata": {},
     "output_type": "execute_result"
    }
   ],
   "source": [
    "Tomor_pred"
   ]
  },
  {
   "cell_type": "code",
   "execution_count": 1,
   "metadata": {},
   "outputs": [],
   "source": [
    "#Deep Learning ********************************************* using VGG16 for Prediction ==========================================================="
   ]
  },
  {
   "cell_type": "code",
   "execution_count": 2,
   "metadata": {},
   "outputs": [],
   "source": [
    "from tensorflow import keras\n",
    "# eye_contact_model = keras.models.load_model(\"D:/VMS/fer2013_Best/cs230-fer-master/eye_contact_4.h5\")\n",
    "eye_contact_model = keras.models.load_model(\"D:/VMS/fer2013_Best/cs230-fer-master/Test999.h5\")\n",
    "emo_model = keras.models.load_model(\"D:/VMS/fer2013_Best/cs230-fer-master/VGG16-AUX-BEST-70.2.h5\")"
   ]
  },
  {
   "cell_type": "code",
   "execution_count": 3,
   "metadata": {},
   "outputs": [],
   "source": [
    "output_path=\"D:/VMS/del/RAW/\""
   ]
  },
  {
   "cell_type": "code",
   "execution_count": 4,
   "metadata": {},
   "outputs": [],
   "source": [
    "emo_list = ('angry', 'disgust', 'fear', 'happy', 'sad', 'surprise', 'neutral')\n",
    "eye_contact=('NO', 'Yes')"
   ]
  },
  {
   "cell_type": "code",
   "execution_count": 5,
   "metadata": {},
   "outputs": [],
   "source": [
    "X = []\n",
    "y_eye=[]\n",
    "y_emo=[]\n",
    "img_name=[]\n",
    "def Prediction_eye_emo(path):\n",
    "# the path where all images will be preprocessed \n",
    "    all_files = glob.glob(output_path+\"/\"+path+'/faces/')\n",
    "    Frames_list=os.listdir(all_files[0])\n",
    "    Frames_list = sorted(Frames_list, key = lambda x: int(x.split(\"_\")[-1].split(\".\")[0]))\n",
    "    #print(len(all_files))\n",
    "    for filename in Frames_list:\n",
    "        img_array = cv2.imread(all_files[0]+filename ,1)\n",
    "        X.append(img_array)\n",
    "        img_name.append(filename) \n",
    "        \n",
    "    X_np = np.array(X).reshape(-1, 197, 197,3)\n",
    "    imgs_all= X_np/255.0\n",
    "    img_name_np=np.array(img_name)\n",
    "    y_pred_eye = eye_contact_model.predict(imgs_all)\n",
    "    y_pred_emo = emo_model.predict(imgs_all)\n",
    "    Y_pre_eye_final =np.around(y_pred_eye, decimals=0, out=None)\n",
    "    Y_pre_emo_final =np.array(y_pred_emo)\n",
    "    return img_name_np,Y_pre_eye_final,Y_pre_emo_final"
   ]
  },
  {
   "cell_type": "code",
   "execution_count": 6,
   "metadata": {},
   "outputs": [
    {
     "name": "stdout",
     "output_type": "stream",
     "text": [
      "Total of Dir =15\n",
      "P09784_10_03_2020_200935_wc\n",
      "P09784_10_03_2020_210248_wc\n",
      "P09859_10_03_2020_181030_wc\n",
      "P09894_10_03_2020_192547_wc\n",
      "P09951_10_03_2020_183819_wc\n",
      "P09953_02_02_2020_211308_wc\n",
      "P09953_03_02_2020_100458_wc\n",
      "P09959_10_03_2020_205800_wc\n",
      "P09961_10_03_2020_185251_wc\n",
      "P09961_10_03_2020_190252_wc\n",
      "P09963_02_03_2020_083828_wc\n",
      "P09963_02_03_2020_084839_wc\n",
      "P09963_08_03_2020_231229_wc\n",
      "P09963_10_03_2020_184005_wc\n",
      "P09966_04_03_2020_163313_wc\n",
      "\n",
      " Duration: 0:05:37.018279\n"
     ]
    }
   ],
   "source": [
    "start_time = datetime.now()\n",
    "mp4_Frames_Path=os.listdir(output_path)\n",
    "print (\"Total of Dir =\" + str(len(mp4_Frames_Path)) )\n",
    "counter=1\n",
    "for frmspath in mp4_Frames_Path:  #loop Dir to send to function!\n",
    "    print(frmspath)\n",
    "    Folder_name=os.path.splitext(frmspath)[0]\n",
    "    ix,y_eye,y_emo=Prediction_eye_emo(frmspath)\n",
    "    counter = counter +1\n",
    "\n",
    "\n",
    "end_time = datetime.now()\n",
    "print('\\n Duration: {}'.format(end_time - start_time))"
   ]
  },
  {
   "cell_type": "code",
   "execution_count": 7,
   "metadata": {},
   "outputs": [],
   "source": [
    "y_eye_reshapped=y_eye.reshape(-1).astype(np.int16)"
   ]
  },
  {
   "cell_type": "code",
   "execution_count": 8,
   "metadata": {},
   "outputs": [
    {
     "data": {
      "text/plain": [
       "array([0, 0, 1, ..., 1, 0, 0], dtype=int16)"
      ]
     },
     "execution_count": 8,
     "metadata": {},
     "output_type": "execute_result"
    }
   ],
   "source": [
    "y_eye_reshapped"
   ]
  },
  {
   "cell_type": "code",
   "execution_count": 9,
   "metadata": {},
   "outputs": [],
   "source": [
    "results_list=[]\n",
    "for a,b,c in zip(ix,y_eye_reshapped,y_emo): \n",
    "    c = np.argmax(c)\n",
    "    results_list.append([a,eye_contact[b],emo_list[c]])"
   ]
  },
  {
   "cell_type": "code",
   "execution_count": null,
   "metadata": {},
   "outputs": [],
   "source": [
    "results_list"
   ]
  },
  {
   "cell_type": "code",
   "execution_count": 11,
   "metadata": {},
   "outputs": [],
   "source": [
    "results_df = pd.DataFrame(results_list, columns = ['Img_name','Eye_Conact','Facial_Emotion'])"
   ]
  },
  {
   "cell_type": "code",
   "execution_count": 12,
   "metadata": {},
   "outputs": [
    {
     "data": {
      "text/html": [
       "<div>\n",
       "<style scoped>\n",
       "    .dataframe tbody tr th:only-of-type {\n",
       "        vertical-align: middle;\n",
       "    }\n",
       "\n",
       "    .dataframe tbody tr th {\n",
       "        vertical-align: top;\n",
       "    }\n",
       "\n",
       "    .dataframe thead th {\n",
       "        text-align: right;\n",
       "    }\n",
       "</style>\n",
       "<table border=\"1\" class=\"dataframe\">\n",
       "  <thead>\n",
       "    <tr style=\"text-align: right;\">\n",
       "      <th></th>\n",
       "      <th>Img_name</th>\n",
       "      <th>Eye_Conact</th>\n",
       "      <th>Facial_Emotion</th>\n",
       "    </tr>\n",
       "  </thead>\n",
       "  <tbody>\n",
       "    <tr>\n",
       "      <th>0</th>\n",
       "      <td>P09784_10_03_2020_200935_wc_frame_1.jpg</td>\n",
       "      <td>NO</td>\n",
       "      <td>sad</td>\n",
       "    </tr>\n",
       "    <tr>\n",
       "      <th>1</th>\n",
       "      <td>P09784_10_03_2020_200935_wc_frame_2.jpg</td>\n",
       "      <td>NO</td>\n",
       "      <td>sad</td>\n",
       "    </tr>\n",
       "    <tr>\n",
       "      <th>2</th>\n",
       "      <td>P09784_10_03_2020_200935_wc_frame_3.jpg</td>\n",
       "      <td>Yes</td>\n",
       "      <td>sad</td>\n",
       "    </tr>\n",
       "    <tr>\n",
       "      <th>3</th>\n",
       "      <td>P09784_10_03_2020_200935_wc_frame_4.jpg</td>\n",
       "      <td>NO</td>\n",
       "      <td>sad</td>\n",
       "    </tr>\n",
       "    <tr>\n",
       "      <th>4</th>\n",
       "      <td>P09784_10_03_2020_200935_wc_frame_5.jpg</td>\n",
       "      <td>NO</td>\n",
       "      <td>sad</td>\n",
       "    </tr>\n",
       "    <tr>\n",
       "      <th>...</th>\n",
       "      <td>...</td>\n",
       "      <td>...</td>\n",
       "      <td>...</td>\n",
       "    </tr>\n",
       "    <tr>\n",
       "      <th>7093</th>\n",
       "      <td>P09966_04_03_2020_163313_wc_frame_555.jpg</td>\n",
       "      <td>NO</td>\n",
       "      <td>sad</td>\n",
       "    </tr>\n",
       "    <tr>\n",
       "      <th>7094</th>\n",
       "      <td>P09966_04_03_2020_163313_wc_frame_556.jpg</td>\n",
       "      <td>NO</td>\n",
       "      <td>sad</td>\n",
       "    </tr>\n",
       "    <tr>\n",
       "      <th>7095</th>\n",
       "      <td>P09966_04_03_2020_163313_wc_frame_597.jpg</td>\n",
       "      <td>Yes</td>\n",
       "      <td>sad</td>\n",
       "    </tr>\n",
       "    <tr>\n",
       "      <th>7096</th>\n",
       "      <td>P09966_04_03_2020_163313_wc_frame_598.jpg</td>\n",
       "      <td>NO</td>\n",
       "      <td>sad</td>\n",
       "    </tr>\n",
       "    <tr>\n",
       "      <th>7097</th>\n",
       "      <td>P09966_04_03_2020_163313_wc_frame_599.jpg</td>\n",
       "      <td>NO</td>\n",
       "      <td>sad</td>\n",
       "    </tr>\n",
       "  </tbody>\n",
       "</table>\n",
       "<p>7098 rows × 3 columns</p>\n",
       "</div>"
      ],
      "text/plain": [
       "                                       Img_name Eye_Conact Facial_Emotion\n",
       "0       P09784_10_03_2020_200935_wc_frame_1.jpg         NO            sad\n",
       "1       P09784_10_03_2020_200935_wc_frame_2.jpg         NO            sad\n",
       "2       P09784_10_03_2020_200935_wc_frame_3.jpg        Yes            sad\n",
       "3       P09784_10_03_2020_200935_wc_frame_4.jpg         NO            sad\n",
       "4       P09784_10_03_2020_200935_wc_frame_5.jpg         NO            sad\n",
       "...                                         ...        ...            ...\n",
       "7093  P09966_04_03_2020_163313_wc_frame_555.jpg         NO            sad\n",
       "7094  P09966_04_03_2020_163313_wc_frame_556.jpg         NO            sad\n",
       "7095  P09966_04_03_2020_163313_wc_frame_597.jpg        Yes            sad\n",
       "7096  P09966_04_03_2020_163313_wc_frame_598.jpg         NO            sad\n",
       "7097  P09966_04_03_2020_163313_wc_frame_599.jpg         NO            sad\n",
       "\n",
       "[7098 rows x 3 columns]"
      ]
     },
     "execution_count": 12,
     "metadata": {},
     "output_type": "execute_result"
    }
   ],
   "source": [
    "results_df"
   ]
  },
  {
   "cell_type": "code",
   "execution_count": 13,
   "metadata": {},
   "outputs": [],
   "source": [
    "results_df[\"Eye_Conact\"] = results_df[\"Eye_Conact\"].astype(\"category\")"
   ]
  },
  {
   "cell_type": "code",
   "execution_count": 14,
   "metadata": {},
   "outputs": [],
   "source": [
    "results_df[\"Facial_Emotion\"] = results_df[\"Facial_Emotion\"].astype(\"category\")"
   ]
  },
  {
   "cell_type": "code",
   "execution_count": 15,
   "metadata": {},
   "outputs": [],
   "source": [
    "results_df['Img_name']=results_df['Img_name'].str.split('_',n=6).str[0:5].str.join('_')"
   ]
  },
  {
   "cell_type": "code",
   "execution_count": 16,
   "metadata": {},
   "outputs": [
    {
     "data": {
      "text/html": [
       "<div>\n",
       "<style scoped>\n",
       "    .dataframe tbody tr th:only-of-type {\n",
       "        vertical-align: middle;\n",
       "    }\n",
       "\n",
       "    .dataframe tbody tr th {\n",
       "        vertical-align: top;\n",
       "    }\n",
       "\n",
       "    .dataframe thead th {\n",
       "        text-align: right;\n",
       "    }\n",
       "</style>\n",
       "<table border=\"1\" class=\"dataframe\">\n",
       "  <thead>\n",
       "    <tr style=\"text-align: right;\">\n",
       "      <th></th>\n",
       "      <th>Img_name</th>\n",
       "      <th>Eye_Conact</th>\n",
       "      <th>Facial_Emotion</th>\n",
       "    </tr>\n",
       "  </thead>\n",
       "  <tbody>\n",
       "    <tr>\n",
       "      <th>0</th>\n",
       "      <td>P09784_10_03_2020_200935</td>\n",
       "      <td>NO</td>\n",
       "      <td>sad</td>\n",
       "    </tr>\n",
       "    <tr>\n",
       "      <th>1</th>\n",
       "      <td>P09784_10_03_2020_200935</td>\n",
       "      <td>NO</td>\n",
       "      <td>sad</td>\n",
       "    </tr>\n",
       "    <tr>\n",
       "      <th>2</th>\n",
       "      <td>P09784_10_03_2020_200935</td>\n",
       "      <td>Yes</td>\n",
       "      <td>sad</td>\n",
       "    </tr>\n",
       "    <tr>\n",
       "      <th>3</th>\n",
       "      <td>P09784_10_03_2020_200935</td>\n",
       "      <td>NO</td>\n",
       "      <td>sad</td>\n",
       "    </tr>\n",
       "    <tr>\n",
       "      <th>4</th>\n",
       "      <td>P09784_10_03_2020_200935</td>\n",
       "      <td>NO</td>\n",
       "      <td>sad</td>\n",
       "    </tr>\n",
       "    <tr>\n",
       "      <th>...</th>\n",
       "      <td>...</td>\n",
       "      <td>...</td>\n",
       "      <td>...</td>\n",
       "    </tr>\n",
       "    <tr>\n",
       "      <th>7093</th>\n",
       "      <td>P09966_04_03_2020_163313</td>\n",
       "      <td>NO</td>\n",
       "      <td>sad</td>\n",
       "    </tr>\n",
       "    <tr>\n",
       "      <th>7094</th>\n",
       "      <td>P09966_04_03_2020_163313</td>\n",
       "      <td>NO</td>\n",
       "      <td>sad</td>\n",
       "    </tr>\n",
       "    <tr>\n",
       "      <th>7095</th>\n",
       "      <td>P09966_04_03_2020_163313</td>\n",
       "      <td>Yes</td>\n",
       "      <td>sad</td>\n",
       "    </tr>\n",
       "    <tr>\n",
       "      <th>7096</th>\n",
       "      <td>P09966_04_03_2020_163313</td>\n",
       "      <td>NO</td>\n",
       "      <td>sad</td>\n",
       "    </tr>\n",
       "    <tr>\n",
       "      <th>7097</th>\n",
       "      <td>P09966_04_03_2020_163313</td>\n",
       "      <td>NO</td>\n",
       "      <td>sad</td>\n",
       "    </tr>\n",
       "  </tbody>\n",
       "</table>\n",
       "<p>7098 rows × 3 columns</p>\n",
       "</div>"
      ],
      "text/plain": [
       "                      Img_name Eye_Conact Facial_Emotion\n",
       "0     P09784_10_03_2020_200935         NO            sad\n",
       "1     P09784_10_03_2020_200935         NO            sad\n",
       "2     P09784_10_03_2020_200935        Yes            sad\n",
       "3     P09784_10_03_2020_200935         NO            sad\n",
       "4     P09784_10_03_2020_200935         NO            sad\n",
       "...                        ...        ...            ...\n",
       "7093  P09966_04_03_2020_163313         NO            sad\n",
       "7094  P09966_04_03_2020_163313         NO            sad\n",
       "7095  P09966_04_03_2020_163313        Yes            sad\n",
       "7096  P09966_04_03_2020_163313         NO            sad\n",
       "7097  P09966_04_03_2020_163313         NO            sad\n",
       "\n",
       "[7098 rows x 3 columns]"
      ]
     },
     "execution_count": 16,
     "metadata": {},
     "output_type": "execute_result"
    }
   ],
   "source": [
    "results_df"
   ]
  },
  {
   "cell_type": "code",
   "execution_count": 17,
   "metadata": {},
   "outputs": [],
   "source": [
    "# pd.pivot_table(results_df, values=['Eye_Conact'],columns=['Img_name'], aggfunc='count')"
   ]
  },
  {
   "cell_type": "code",
   "execution_count": 18,
   "metadata": {},
   "outputs": [],
   "source": [
    "# results_df.set_index([\"Img_name\", \"Eye_Conact\"]).count(level=\"Eye_Conact\")"
   ]
  },
  {
   "cell_type": "code",
   "execution_count": 19,
   "metadata": {},
   "outputs": [],
   "source": [
    "captured_frames=results_df[['Img_name','Eye_Conact']].groupby(['Img_name']).count()\n",
    "captured_frames = captured_frames.rename({'Eye_Conact': 'captured_frames'},axis=1)  "
   ]
  },
  {
   "cell_type": "code",
   "execution_count": 20,
   "metadata": {},
   "outputs": [
    {
     "data": {
      "text/html": [
       "<div>\n",
       "<style scoped>\n",
       "    .dataframe tbody tr th:only-of-type {\n",
       "        vertical-align: middle;\n",
       "    }\n",
       "\n",
       "    .dataframe tbody tr th {\n",
       "        vertical-align: top;\n",
       "    }\n",
       "\n",
       "    .dataframe thead th {\n",
       "        text-align: right;\n",
       "    }\n",
       "</style>\n",
       "<table border=\"1\" class=\"dataframe\">\n",
       "  <thead>\n",
       "    <tr style=\"text-align: right;\">\n",
       "      <th></th>\n",
       "      <th>captured_frames</th>\n",
       "    </tr>\n",
       "    <tr>\n",
       "      <th>Img_name</th>\n",
       "      <th></th>\n",
       "    </tr>\n",
       "  </thead>\n",
       "  <tbody>\n",
       "    <tr>\n",
       "      <th>P09784_10_03_2020_200935</th>\n",
       "      <td>496</td>\n",
       "    </tr>\n",
       "    <tr>\n",
       "      <th>P09784_10_03_2020_210248</th>\n",
       "      <td>523</td>\n",
       "    </tr>\n",
       "    <tr>\n",
       "      <th>P09859_10_03_2020_181030</th>\n",
       "      <td>405</td>\n",
       "    </tr>\n",
       "    <tr>\n",
       "      <th>P09894_10_03_2020_192547</th>\n",
       "      <td>526</td>\n",
       "    </tr>\n",
       "    <tr>\n",
       "      <th>P09951_10_03_2020_183819</th>\n",
       "      <td>539</td>\n",
       "    </tr>\n",
       "    <tr>\n",
       "      <th>P09953_02_02_2020_211308</th>\n",
       "      <td>499</td>\n",
       "    </tr>\n",
       "    <tr>\n",
       "      <th>P09953_03_02_2020_100458</th>\n",
       "      <td>416</td>\n",
       "    </tr>\n",
       "    <tr>\n",
       "      <th>P09959_10_03_2020_205800</th>\n",
       "      <td>509</td>\n",
       "    </tr>\n",
       "    <tr>\n",
       "      <th>P09961_10_03_2020_185251</th>\n",
       "      <td>337</td>\n",
       "    </tr>\n",
       "    <tr>\n",
       "      <th>P09961_10_03_2020_190252</th>\n",
       "      <td>516</td>\n",
       "    </tr>\n",
       "    <tr>\n",
       "      <th>P09963_02_03_2020_083828</th>\n",
       "      <td>500</td>\n",
       "    </tr>\n",
       "    <tr>\n",
       "      <th>P09963_02_03_2020_084839</th>\n",
       "      <td>415</td>\n",
       "    </tr>\n",
       "    <tr>\n",
       "      <th>P09963_08_03_2020_231229</th>\n",
       "      <td>563</td>\n",
       "    </tr>\n",
       "    <tr>\n",
       "      <th>P09963_10_03_2020_184005</th>\n",
       "      <td>465</td>\n",
       "    </tr>\n",
       "    <tr>\n",
       "      <th>P09966_04_03_2020_163313</th>\n",
       "      <td>389</td>\n",
       "    </tr>\n",
       "  </tbody>\n",
       "</table>\n",
       "</div>"
      ],
      "text/plain": [
       "                          captured_frames\n",
       "Img_name                                 \n",
       "P09784_10_03_2020_200935              496\n",
       "P09784_10_03_2020_210248              523\n",
       "P09859_10_03_2020_181030              405\n",
       "P09894_10_03_2020_192547              526\n",
       "P09951_10_03_2020_183819              539\n",
       "P09953_02_02_2020_211308              499\n",
       "P09953_03_02_2020_100458              416\n",
       "P09959_10_03_2020_205800              509\n",
       "P09961_10_03_2020_185251              337\n",
       "P09961_10_03_2020_190252              516\n",
       "P09963_02_03_2020_083828              500\n",
       "P09963_02_03_2020_084839              415\n",
       "P09963_08_03_2020_231229              563\n",
       "P09963_10_03_2020_184005              465\n",
       "P09966_04_03_2020_163313              389"
      ]
     },
     "execution_count": 20,
     "metadata": {},
     "output_type": "execute_result"
    }
   ],
   "source": [
    "captured_frames"
   ]
  },
  {
   "cell_type": "code",
   "execution_count": 21,
   "metadata": {},
   "outputs": [],
   "source": [
    "from xlrd import open_workbook\n",
    "import os.path"
   ]
  },
  {
   "cell_type": "code",
   "execution_count": 22,
   "metadata": {},
   "outputs": [],
   "source": [
    "counting_img_Source = pd.ExcelFile(\"D:/VMS/del/counting.xlsx\",engine='openpyxl')"
   ]
  },
  {
   "cell_type": "code",
   "execution_count": 23,
   "metadata": {},
   "outputs": [],
   "source": [
    "counting_img = pd.read_excel(counting_img_Source,\"Sheet1\")\n",
    "del counting_img[\"Unnamed: 0\"]"
   ]
  },
  {
   "cell_type": "code",
   "execution_count": 24,
   "metadata": {},
   "outputs": [],
   "source": [
    "counting_img['Img_name']=counting_img['Img_name'].str.split('_',n=6).str[0:5].str.join('_')\n",
    "counting_img = counting_img.set_index('Img_name')"
   ]
  },
  {
   "cell_type": "code",
   "execution_count": 25,
   "metadata": {},
   "outputs": [
    {
     "data": {
      "text/html": [
       "<div>\n",
       "<style scoped>\n",
       "    .dataframe tbody tr th:only-of-type {\n",
       "        vertical-align: middle;\n",
       "    }\n",
       "\n",
       "    .dataframe tbody tr th {\n",
       "        vertical-align: top;\n",
       "    }\n",
       "\n",
       "    .dataframe thead th {\n",
       "        text-align: right;\n",
       "    }\n",
       "</style>\n",
       "<table border=\"1\" class=\"dataframe\">\n",
       "  <thead>\n",
       "    <tr style=\"text-align: right;\">\n",
       "      <th></th>\n",
       "      <th>Total_Frames</th>\n",
       "    </tr>\n",
       "    <tr>\n",
       "      <th>Img_name</th>\n",
       "      <th></th>\n",
       "    </tr>\n",
       "  </thead>\n",
       "  <tbody>\n",
       "    <tr>\n",
       "      <th>P09784_10_03_2020_200935</th>\n",
       "      <td>600</td>\n",
       "    </tr>\n",
       "    <tr>\n",
       "      <th>P09784_10_03_2020_210248</th>\n",
       "      <td>600</td>\n",
       "    </tr>\n",
       "    <tr>\n",
       "      <th>P09859_10_03_2020_181030</th>\n",
       "      <td>600</td>\n",
       "    </tr>\n",
       "    <tr>\n",
       "      <th>P09894_10_03_2020_192547</th>\n",
       "      <td>600</td>\n",
       "    </tr>\n",
       "    <tr>\n",
       "      <th>P09951_10_03_2020_183819</th>\n",
       "      <td>600</td>\n",
       "    </tr>\n",
       "    <tr>\n",
       "      <th>P09953_02_02_2020_211308</th>\n",
       "      <td>600</td>\n",
       "    </tr>\n",
       "    <tr>\n",
       "      <th>P09953_03_02_2020_100458</th>\n",
       "      <td>564</td>\n",
       "    </tr>\n",
       "    <tr>\n",
       "      <th>P09959_10_03_2020_205800</th>\n",
       "      <td>600</td>\n",
       "    </tr>\n",
       "    <tr>\n",
       "      <th>P09961_10_03_2020_185251</th>\n",
       "      <td>600</td>\n",
       "    </tr>\n",
       "    <tr>\n",
       "      <th>P09961_10_03_2020_190252</th>\n",
       "      <td>600</td>\n",
       "    </tr>\n",
       "    <tr>\n",
       "      <th>P09963_02_03_2020_083828</th>\n",
       "      <td>600</td>\n",
       "    </tr>\n",
       "    <tr>\n",
       "      <th>P09963_02_03_2020_084839</th>\n",
       "      <td>549</td>\n",
       "    </tr>\n",
       "    <tr>\n",
       "      <th>P09963_08_03_2020_231229</th>\n",
       "      <td>600</td>\n",
       "    </tr>\n",
       "    <tr>\n",
       "      <th>P09963_10_03_2020_184005</th>\n",
       "      <td>600</td>\n",
       "    </tr>\n",
       "    <tr>\n",
       "      <th>P09966_04_03_2020_163313</th>\n",
       "      <td>600</td>\n",
       "    </tr>\n",
       "  </tbody>\n",
       "</table>\n",
       "</div>"
      ],
      "text/plain": [
       "                          Total_Frames\n",
       "Img_name                              \n",
       "P09784_10_03_2020_200935           600\n",
       "P09784_10_03_2020_210248           600\n",
       "P09859_10_03_2020_181030           600\n",
       "P09894_10_03_2020_192547           600\n",
       "P09951_10_03_2020_183819           600\n",
       "P09953_02_02_2020_211308           600\n",
       "P09953_03_02_2020_100458           564\n",
       "P09959_10_03_2020_205800           600\n",
       "P09961_10_03_2020_185251           600\n",
       "P09961_10_03_2020_190252           600\n",
       "P09963_02_03_2020_083828           600\n",
       "P09963_02_03_2020_084839           549\n",
       "P09963_08_03_2020_231229           600\n",
       "P09963_10_03_2020_184005           600\n",
       "P09966_04_03_2020_163313           600"
      ]
     },
     "execution_count": 25,
     "metadata": {},
     "output_type": "execute_result"
    }
   ],
   "source": [
    "counting_img"
   ]
  },
  {
   "cell_type": "code",
   "execution_count": 26,
   "metadata": {},
   "outputs": [],
   "source": [
    " captured_frames_final=pd.concat([captured_frames,counting_img], axis=1)"
   ]
  },
  {
   "cell_type": "code",
   "execution_count": 27,
   "metadata": {},
   "outputs": [],
   "source": [
    "captured_frames_final['captured']=captured_frames_final.captured_frames / captured_frames_final.Total_Frames"
   ]
  },
  {
   "cell_type": "code",
   "execution_count": 28,
   "metadata": {},
   "outputs": [],
   "source": [
    "captured_frames_final\n",
    "del captured_frames_final[\"captured_frames\"]\n",
    "del captured_frames_final[\"Total_Frames\"]"
   ]
  },
  {
   "cell_type": "code",
   "execution_count": 29,
   "metadata": {},
   "outputs": [
    {
     "data": {
      "text/html": [
       "<div>\n",
       "<style scoped>\n",
       "    .dataframe tbody tr th:only-of-type {\n",
       "        vertical-align: middle;\n",
       "    }\n",
       "\n",
       "    .dataframe tbody tr th {\n",
       "        vertical-align: top;\n",
       "    }\n",
       "\n",
       "    .dataframe thead th {\n",
       "        text-align: right;\n",
       "    }\n",
       "</style>\n",
       "<table border=\"1\" class=\"dataframe\">\n",
       "  <thead>\n",
       "    <tr style=\"text-align: right;\">\n",
       "      <th></th>\n",
       "      <th>captured</th>\n",
       "    </tr>\n",
       "    <tr>\n",
       "      <th>Img_name</th>\n",
       "      <th></th>\n",
       "    </tr>\n",
       "  </thead>\n",
       "  <tbody>\n",
       "    <tr>\n",
       "      <th>P09784_10_03_2020_200935</th>\n",
       "      <td>0.826667</td>\n",
       "    </tr>\n",
       "    <tr>\n",
       "      <th>P09784_10_03_2020_210248</th>\n",
       "      <td>0.871667</td>\n",
       "    </tr>\n",
       "    <tr>\n",
       "      <th>P09859_10_03_2020_181030</th>\n",
       "      <td>0.675000</td>\n",
       "    </tr>\n",
       "    <tr>\n",
       "      <th>P09894_10_03_2020_192547</th>\n",
       "      <td>0.876667</td>\n",
       "    </tr>\n",
       "    <tr>\n",
       "      <th>P09951_10_03_2020_183819</th>\n",
       "      <td>0.898333</td>\n",
       "    </tr>\n",
       "    <tr>\n",
       "      <th>P09953_02_02_2020_211308</th>\n",
       "      <td>0.831667</td>\n",
       "    </tr>\n",
       "    <tr>\n",
       "      <th>P09953_03_02_2020_100458</th>\n",
       "      <td>0.737589</td>\n",
       "    </tr>\n",
       "    <tr>\n",
       "      <th>P09959_10_03_2020_205800</th>\n",
       "      <td>0.848333</td>\n",
       "    </tr>\n",
       "    <tr>\n",
       "      <th>P09961_10_03_2020_185251</th>\n",
       "      <td>0.561667</td>\n",
       "    </tr>\n",
       "    <tr>\n",
       "      <th>P09961_10_03_2020_190252</th>\n",
       "      <td>0.860000</td>\n",
       "    </tr>\n",
       "    <tr>\n",
       "      <th>P09963_02_03_2020_083828</th>\n",
       "      <td>0.833333</td>\n",
       "    </tr>\n",
       "    <tr>\n",
       "      <th>P09963_02_03_2020_084839</th>\n",
       "      <td>0.755920</td>\n",
       "    </tr>\n",
       "    <tr>\n",
       "      <th>P09963_08_03_2020_231229</th>\n",
       "      <td>0.938333</td>\n",
       "    </tr>\n",
       "    <tr>\n",
       "      <th>P09963_10_03_2020_184005</th>\n",
       "      <td>0.775000</td>\n",
       "    </tr>\n",
       "    <tr>\n",
       "      <th>P09966_04_03_2020_163313</th>\n",
       "      <td>0.648333</td>\n",
       "    </tr>\n",
       "  </tbody>\n",
       "</table>\n",
       "</div>"
      ],
      "text/plain": [
       "                          captured\n",
       "Img_name                          \n",
       "P09784_10_03_2020_200935  0.826667\n",
       "P09784_10_03_2020_210248  0.871667\n",
       "P09859_10_03_2020_181030  0.675000\n",
       "P09894_10_03_2020_192547  0.876667\n",
       "P09951_10_03_2020_183819  0.898333\n",
       "P09953_02_02_2020_211308  0.831667\n",
       "P09953_03_02_2020_100458  0.737589\n",
       "P09959_10_03_2020_205800  0.848333\n",
       "P09961_10_03_2020_185251  0.561667\n",
       "P09961_10_03_2020_190252  0.860000\n",
       "P09963_02_03_2020_083828  0.833333\n",
       "P09963_02_03_2020_084839  0.755920\n",
       "P09963_08_03_2020_231229  0.938333\n",
       "P09963_10_03_2020_184005  0.775000\n",
       "P09966_04_03_2020_163313  0.648333"
      ]
     },
     "execution_count": 29,
     "metadata": {},
     "output_type": "execute_result"
    }
   ],
   "source": [
    "captured_frames_final"
   ]
  },
  {
   "cell_type": "code",
   "execution_count": 30,
   "metadata": {},
   "outputs": [],
   "source": [
    "eye_contact=results_df[['Img_name','Eye_Conact']].loc[results_df['Eye_Conact'] == 'Yes'].groupby(['Img_name']).count()/results_df[['Img_name','Eye_Conact']].groupby(['Img_name']).count()"
   ]
  },
  {
   "cell_type": "code",
   "execution_count": 31,
   "metadata": {},
   "outputs": [
    {
     "data": {
      "text/html": [
       "<div>\n",
       "<style scoped>\n",
       "    .dataframe tbody tr th:only-of-type {\n",
       "        vertical-align: middle;\n",
       "    }\n",
       "\n",
       "    .dataframe tbody tr th {\n",
       "        vertical-align: top;\n",
       "    }\n",
       "\n",
       "    .dataframe thead th {\n",
       "        text-align: right;\n",
       "    }\n",
       "</style>\n",
       "<table border=\"1\" class=\"dataframe\">\n",
       "  <thead>\n",
       "    <tr style=\"text-align: right;\">\n",
       "      <th></th>\n",
       "      <th>Eye_Conact</th>\n",
       "    </tr>\n",
       "    <tr>\n",
       "      <th>Img_name</th>\n",
       "      <th></th>\n",
       "    </tr>\n",
       "  </thead>\n",
       "  <tbody>\n",
       "    <tr>\n",
       "      <th>P09784_10_03_2020_200935</th>\n",
       "      <td>0.413306</td>\n",
       "    </tr>\n",
       "    <tr>\n",
       "      <th>P09784_10_03_2020_210248</th>\n",
       "      <td>0.216061</td>\n",
       "    </tr>\n",
       "    <tr>\n",
       "      <th>P09859_10_03_2020_181030</th>\n",
       "      <td>0.316049</td>\n",
       "    </tr>\n",
       "    <tr>\n",
       "      <th>P09894_10_03_2020_192547</th>\n",
       "      <td>0.313688</td>\n",
       "    </tr>\n",
       "    <tr>\n",
       "      <th>P09951_10_03_2020_183819</th>\n",
       "      <td>0.191095</td>\n",
       "    </tr>\n",
       "    <tr>\n",
       "      <th>P09953_02_02_2020_211308</th>\n",
       "      <td>0.058116</td>\n",
       "    </tr>\n",
       "    <tr>\n",
       "      <th>P09953_03_02_2020_100458</th>\n",
       "      <td>0.120192</td>\n",
       "    </tr>\n",
       "    <tr>\n",
       "      <th>P09959_10_03_2020_205800</th>\n",
       "      <td>0.273084</td>\n",
       "    </tr>\n",
       "    <tr>\n",
       "      <th>P09961_10_03_2020_185251</th>\n",
       "      <td>0.433234</td>\n",
       "    </tr>\n",
       "    <tr>\n",
       "      <th>P09961_10_03_2020_190252</th>\n",
       "      <td>0.133721</td>\n",
       "    </tr>\n",
       "    <tr>\n",
       "      <th>P09963_02_03_2020_083828</th>\n",
       "      <td>0.478000</td>\n",
       "    </tr>\n",
       "    <tr>\n",
       "      <th>P09963_02_03_2020_084839</th>\n",
       "      <td>0.404819</td>\n",
       "    </tr>\n",
       "    <tr>\n",
       "      <th>P09963_08_03_2020_231229</th>\n",
       "      <td>0.548845</td>\n",
       "    </tr>\n",
       "    <tr>\n",
       "      <th>P09963_10_03_2020_184005</th>\n",
       "      <td>0.604301</td>\n",
       "    </tr>\n",
       "    <tr>\n",
       "      <th>P09966_04_03_2020_163313</th>\n",
       "      <td>0.267352</td>\n",
       "    </tr>\n",
       "  </tbody>\n",
       "</table>\n",
       "</div>"
      ],
      "text/plain": [
       "                          Eye_Conact\n",
       "Img_name                            \n",
       "P09784_10_03_2020_200935    0.413306\n",
       "P09784_10_03_2020_210248    0.216061\n",
       "P09859_10_03_2020_181030    0.316049\n",
       "P09894_10_03_2020_192547    0.313688\n",
       "P09951_10_03_2020_183819    0.191095\n",
       "P09953_02_02_2020_211308    0.058116\n",
       "P09953_03_02_2020_100458    0.120192\n",
       "P09959_10_03_2020_205800    0.273084\n",
       "P09961_10_03_2020_185251    0.433234\n",
       "P09961_10_03_2020_190252    0.133721\n",
       "P09963_02_03_2020_083828    0.478000\n",
       "P09963_02_03_2020_084839    0.404819\n",
       "P09963_08_03_2020_231229    0.548845\n",
       "P09963_10_03_2020_184005    0.604301\n",
       "P09966_04_03_2020_163313    0.267352"
      ]
     },
     "execution_count": 31,
     "metadata": {},
     "output_type": "execute_result"
    }
   ],
   "source": [
    "eye_contact "
   ]
  },
  {
   "cell_type": "code",
   "execution_count": 32,
   "metadata": {},
   "outputs": [],
   "source": [
    "sad=results_df[['Img_name','Facial_Emotion']].loc[results_df['Facial_Emotion'] == 'sad'].groupby(['Img_name']).count()/results_df[['Img_name','Facial_Emotion']].groupby(['Img_name']).count()"
   ]
  },
  {
   "cell_type": "code",
   "execution_count": 33,
   "metadata": {},
   "outputs": [],
   "source": [
    "sad = sad.rename({'Facial_Emotion': 'sad'},axis=1)  "
   ]
  },
  {
   "cell_type": "code",
   "execution_count": 34,
   "metadata": {},
   "outputs": [
    {
     "data": {
      "text/html": [
       "<div>\n",
       "<style scoped>\n",
       "    .dataframe tbody tr th:only-of-type {\n",
       "        vertical-align: middle;\n",
       "    }\n",
       "\n",
       "    .dataframe tbody tr th {\n",
       "        vertical-align: top;\n",
       "    }\n",
       "\n",
       "    .dataframe thead th {\n",
       "        text-align: right;\n",
       "    }\n",
       "</style>\n",
       "<table border=\"1\" class=\"dataframe\">\n",
       "  <thead>\n",
       "    <tr style=\"text-align: right;\">\n",
       "      <th></th>\n",
       "      <th>sad</th>\n",
       "    </tr>\n",
       "    <tr>\n",
       "      <th>Img_name</th>\n",
       "      <th></th>\n",
       "    </tr>\n",
       "  </thead>\n",
       "  <tbody>\n",
       "    <tr>\n",
       "      <th>P09784_10_03_2020_200935</th>\n",
       "      <td>0.991935</td>\n",
       "    </tr>\n",
       "    <tr>\n",
       "      <th>P09784_10_03_2020_210248</th>\n",
       "      <td>0.892925</td>\n",
       "    </tr>\n",
       "    <tr>\n",
       "      <th>P09859_10_03_2020_181030</th>\n",
       "      <td>0.671605</td>\n",
       "    </tr>\n",
       "    <tr>\n",
       "      <th>P09894_10_03_2020_192547</th>\n",
       "      <td>0.722433</td>\n",
       "    </tr>\n",
       "    <tr>\n",
       "      <th>P09951_10_03_2020_183819</th>\n",
       "      <td>0.599258</td>\n",
       "    </tr>\n",
       "    <tr>\n",
       "      <th>P09953_02_02_2020_211308</th>\n",
       "      <td>0.995992</td>\n",
       "    </tr>\n",
       "    <tr>\n",
       "      <th>P09953_03_02_2020_100458</th>\n",
       "      <td>0.990385</td>\n",
       "    </tr>\n",
       "    <tr>\n",
       "      <th>P09959_10_03_2020_205800</th>\n",
       "      <td>0.671906</td>\n",
       "    </tr>\n",
       "    <tr>\n",
       "      <th>P09961_10_03_2020_185251</th>\n",
       "      <td>0.394659</td>\n",
       "    </tr>\n",
       "    <tr>\n",
       "      <th>P09961_10_03_2020_190252</th>\n",
       "      <td>0.356589</td>\n",
       "    </tr>\n",
       "    <tr>\n",
       "      <th>P09963_02_03_2020_083828</th>\n",
       "      <td>0.210000</td>\n",
       "    </tr>\n",
       "    <tr>\n",
       "      <th>P09963_02_03_2020_084839</th>\n",
       "      <td>0.238554</td>\n",
       "    </tr>\n",
       "    <tr>\n",
       "      <th>P09963_08_03_2020_231229</th>\n",
       "      <td>0.188277</td>\n",
       "    </tr>\n",
       "    <tr>\n",
       "      <th>P09963_10_03_2020_184005</th>\n",
       "      <td>0.212903</td>\n",
       "    </tr>\n",
       "    <tr>\n",
       "      <th>P09966_04_03_2020_163313</th>\n",
       "      <td>0.776350</td>\n",
       "    </tr>\n",
       "  </tbody>\n",
       "</table>\n",
       "</div>"
      ],
      "text/plain": [
       "                               sad\n",
       "Img_name                          \n",
       "P09784_10_03_2020_200935  0.991935\n",
       "P09784_10_03_2020_210248  0.892925\n",
       "P09859_10_03_2020_181030  0.671605\n",
       "P09894_10_03_2020_192547  0.722433\n",
       "P09951_10_03_2020_183819  0.599258\n",
       "P09953_02_02_2020_211308  0.995992\n",
       "P09953_03_02_2020_100458  0.990385\n",
       "P09959_10_03_2020_205800  0.671906\n",
       "P09961_10_03_2020_185251  0.394659\n",
       "P09961_10_03_2020_190252  0.356589\n",
       "P09963_02_03_2020_083828  0.210000\n",
       "P09963_02_03_2020_084839  0.238554\n",
       "P09963_08_03_2020_231229  0.188277\n",
       "P09963_10_03_2020_184005  0.212903\n",
       "P09966_04_03_2020_163313  0.776350"
      ]
     },
     "execution_count": 34,
     "metadata": {},
     "output_type": "execute_result"
    }
   ],
   "source": [
    "sad"
   ]
  },
  {
   "cell_type": "code",
   "execution_count": 35,
   "metadata": {},
   "outputs": [],
   "source": [
    "angry=results_df[['Img_name','Facial_Emotion']].loc[results_df['Facial_Emotion'] == 'angry'].groupby(['Img_name']).count()/results_df[['Img_name','Facial_Emotion']].groupby(['Img_name']).count()"
   ]
  },
  {
   "cell_type": "code",
   "execution_count": 36,
   "metadata": {},
   "outputs": [
    {
     "data": {
      "text/html": [
       "<div>\n",
       "<style scoped>\n",
       "    .dataframe tbody tr th:only-of-type {\n",
       "        vertical-align: middle;\n",
       "    }\n",
       "\n",
       "    .dataframe tbody tr th {\n",
       "        vertical-align: top;\n",
       "    }\n",
       "\n",
       "    .dataframe thead th {\n",
       "        text-align: right;\n",
       "    }\n",
       "</style>\n",
       "<table border=\"1\" class=\"dataframe\">\n",
       "  <thead>\n",
       "    <tr style=\"text-align: right;\">\n",
       "      <th></th>\n",
       "      <th>angry</th>\n",
       "    </tr>\n",
       "    <tr>\n",
       "      <th>Img_name</th>\n",
       "      <th></th>\n",
       "    </tr>\n",
       "  </thead>\n",
       "  <tbody>\n",
       "    <tr>\n",
       "      <th>P09784_10_03_2020_200935</th>\n",
       "      <td>0.004032</td>\n",
       "    </tr>\n",
       "    <tr>\n",
       "      <th>P09784_10_03_2020_210248</th>\n",
       "      <td>0.063098</td>\n",
       "    </tr>\n",
       "    <tr>\n",
       "      <th>P09859_10_03_2020_181030</th>\n",
       "      <td>0.167901</td>\n",
       "    </tr>\n",
       "    <tr>\n",
       "      <th>P09894_10_03_2020_192547</th>\n",
       "      <td>0.011407</td>\n",
       "    </tr>\n",
       "    <tr>\n",
       "      <th>P09951_10_03_2020_183819</th>\n",
       "      <td>0.372913</td>\n",
       "    </tr>\n",
       "    <tr>\n",
       "      <th>P09953_02_02_2020_211308</th>\n",
       "      <td>NaN</td>\n",
       "    </tr>\n",
       "    <tr>\n",
       "      <th>P09953_03_02_2020_100458</th>\n",
       "      <td>NaN</td>\n",
       "    </tr>\n",
       "    <tr>\n",
       "      <th>P09959_10_03_2020_205800</th>\n",
       "      <td>0.125737</td>\n",
       "    </tr>\n",
       "    <tr>\n",
       "      <th>P09961_10_03_2020_185251</th>\n",
       "      <td>0.275964</td>\n",
       "    </tr>\n",
       "    <tr>\n",
       "      <th>P09961_10_03_2020_190252</th>\n",
       "      <td>0.383721</td>\n",
       "    </tr>\n",
       "    <tr>\n",
       "      <th>P09963_02_03_2020_083828</th>\n",
       "      <td>0.656000</td>\n",
       "    </tr>\n",
       "    <tr>\n",
       "      <th>P09963_02_03_2020_084839</th>\n",
       "      <td>0.571084</td>\n",
       "    </tr>\n",
       "    <tr>\n",
       "      <th>P09963_08_03_2020_231229</th>\n",
       "      <td>0.522202</td>\n",
       "    </tr>\n",
       "    <tr>\n",
       "      <th>P09963_10_03_2020_184005</th>\n",
       "      <td>0.668817</td>\n",
       "    </tr>\n",
       "    <tr>\n",
       "      <th>P09966_04_03_2020_163313</th>\n",
       "      <td>NaN</td>\n",
       "    </tr>\n",
       "  </tbody>\n",
       "</table>\n",
       "</div>"
      ],
      "text/plain": [
       "                             angry\n",
       "Img_name                          \n",
       "P09784_10_03_2020_200935  0.004032\n",
       "P09784_10_03_2020_210248  0.063098\n",
       "P09859_10_03_2020_181030  0.167901\n",
       "P09894_10_03_2020_192547  0.011407\n",
       "P09951_10_03_2020_183819  0.372913\n",
       "P09953_02_02_2020_211308       NaN\n",
       "P09953_03_02_2020_100458       NaN\n",
       "P09959_10_03_2020_205800  0.125737\n",
       "P09961_10_03_2020_185251  0.275964\n",
       "P09961_10_03_2020_190252  0.383721\n",
       "P09963_02_03_2020_083828  0.656000\n",
       "P09963_02_03_2020_084839  0.571084\n",
       "P09963_08_03_2020_231229  0.522202\n",
       "P09963_10_03_2020_184005  0.668817\n",
       "P09966_04_03_2020_163313       NaN"
      ]
     },
     "execution_count": 36,
     "metadata": {},
     "output_type": "execute_result"
    }
   ],
   "source": [
    "angry=angry.rename({'Facial_Emotion': 'angry'},axis=1)\n",
    "angry"
   ]
  },
  {
   "cell_type": "code",
   "execution_count": 37,
   "metadata": {},
   "outputs": [],
   "source": [
    "surprise=results_df[['Img_name','Facial_Emotion']].loc[results_df['Facial_Emotion'] == 'surprise'].groupby(['Img_name']).count()/results_df[['Img_name','Facial_Emotion']].groupby(['Img_name']).count()"
   ]
  },
  {
   "cell_type": "code",
   "execution_count": 38,
   "metadata": {},
   "outputs": [
    {
     "data": {
      "text/html": [
       "<div>\n",
       "<style scoped>\n",
       "    .dataframe tbody tr th:only-of-type {\n",
       "        vertical-align: middle;\n",
       "    }\n",
       "\n",
       "    .dataframe tbody tr th {\n",
       "        vertical-align: top;\n",
       "    }\n",
       "\n",
       "    .dataframe thead th {\n",
       "        text-align: right;\n",
       "    }\n",
       "</style>\n",
       "<table border=\"1\" class=\"dataframe\">\n",
       "  <thead>\n",
       "    <tr style=\"text-align: right;\">\n",
       "      <th></th>\n",
       "      <th>surprise</th>\n",
       "    </tr>\n",
       "    <tr>\n",
       "      <th>Img_name</th>\n",
       "      <th></th>\n",
       "    </tr>\n",
       "  </thead>\n",
       "  <tbody>\n",
       "    <tr>\n",
       "      <th>P09784_10_03_2020_200935</th>\n",
       "      <td>NaN</td>\n",
       "    </tr>\n",
       "    <tr>\n",
       "      <th>P09784_10_03_2020_210248</th>\n",
       "      <td>NaN</td>\n",
       "    </tr>\n",
       "    <tr>\n",
       "      <th>P09859_10_03_2020_181030</th>\n",
       "      <td>0.004938</td>\n",
       "    </tr>\n",
       "    <tr>\n",
       "      <th>P09894_10_03_2020_192547</th>\n",
       "      <td>0.001901</td>\n",
       "    </tr>\n",
       "    <tr>\n",
       "      <th>P09951_10_03_2020_183819</th>\n",
       "      <td>0.005566</td>\n",
       "    </tr>\n",
       "    <tr>\n",
       "      <th>P09953_02_02_2020_211308</th>\n",
       "      <td>NaN</td>\n",
       "    </tr>\n",
       "    <tr>\n",
       "      <th>P09953_03_02_2020_100458</th>\n",
       "      <td>0.002404</td>\n",
       "    </tr>\n",
       "    <tr>\n",
       "      <th>P09959_10_03_2020_205800</th>\n",
       "      <td>0.086444</td>\n",
       "    </tr>\n",
       "    <tr>\n",
       "      <th>P09961_10_03_2020_185251</th>\n",
       "      <td>NaN</td>\n",
       "    </tr>\n",
       "    <tr>\n",
       "      <th>P09961_10_03_2020_190252</th>\n",
       "      <td>NaN</td>\n",
       "    </tr>\n",
       "    <tr>\n",
       "      <th>P09963_02_03_2020_083828</th>\n",
       "      <td>0.026000</td>\n",
       "    </tr>\n",
       "    <tr>\n",
       "      <th>P09963_02_03_2020_084839</th>\n",
       "      <td>0.019277</td>\n",
       "    </tr>\n",
       "    <tr>\n",
       "      <th>P09963_08_03_2020_231229</th>\n",
       "      <td>0.108348</td>\n",
       "    </tr>\n",
       "    <tr>\n",
       "      <th>P09963_10_03_2020_184005</th>\n",
       "      <td>0.010753</td>\n",
       "    </tr>\n",
       "    <tr>\n",
       "      <th>P09966_04_03_2020_163313</th>\n",
       "      <td>NaN</td>\n",
       "    </tr>\n",
       "  </tbody>\n",
       "</table>\n",
       "</div>"
      ],
      "text/plain": [
       "                          surprise\n",
       "Img_name                          \n",
       "P09784_10_03_2020_200935       NaN\n",
       "P09784_10_03_2020_210248       NaN\n",
       "P09859_10_03_2020_181030  0.004938\n",
       "P09894_10_03_2020_192547  0.001901\n",
       "P09951_10_03_2020_183819  0.005566\n",
       "P09953_02_02_2020_211308       NaN\n",
       "P09953_03_02_2020_100458  0.002404\n",
       "P09959_10_03_2020_205800  0.086444\n",
       "P09961_10_03_2020_185251       NaN\n",
       "P09961_10_03_2020_190252       NaN\n",
       "P09963_02_03_2020_083828  0.026000\n",
       "P09963_02_03_2020_084839  0.019277\n",
       "P09963_08_03_2020_231229  0.108348\n",
       "P09963_10_03_2020_184005  0.010753\n",
       "P09966_04_03_2020_163313       NaN"
      ]
     },
     "execution_count": 38,
     "metadata": {},
     "output_type": "execute_result"
    }
   ],
   "source": [
    "surprise=surprise.rename({'Facial_Emotion': 'surprise'},axis=1)\n",
    "surprise"
   ]
  },
  {
   "cell_type": "code",
   "execution_count": 39,
   "metadata": {},
   "outputs": [],
   "source": [
    "fear=results_df[['Img_name','Facial_Emotion']].loc[results_df['Facial_Emotion'] == 'fear'].groupby(['Img_name']).count()/results_df[['Img_name','Facial_Emotion']].groupby(['Img_name']).count()"
   ]
  },
  {
   "cell_type": "code",
   "execution_count": 40,
   "metadata": {},
   "outputs": [
    {
     "data": {
      "text/html": [
       "<div>\n",
       "<style scoped>\n",
       "    .dataframe tbody tr th:only-of-type {\n",
       "        vertical-align: middle;\n",
       "    }\n",
       "\n",
       "    .dataframe tbody tr th {\n",
       "        vertical-align: top;\n",
       "    }\n",
       "\n",
       "    .dataframe thead th {\n",
       "        text-align: right;\n",
       "    }\n",
       "</style>\n",
       "<table border=\"1\" class=\"dataframe\">\n",
       "  <thead>\n",
       "    <tr style=\"text-align: right;\">\n",
       "      <th></th>\n",
       "      <th>fear</th>\n",
       "    </tr>\n",
       "    <tr>\n",
       "      <th>Img_name</th>\n",
       "      <th></th>\n",
       "    </tr>\n",
       "  </thead>\n",
       "  <tbody>\n",
       "    <tr>\n",
       "      <th>P09784_10_03_2020_200935</th>\n",
       "      <td>NaN</td>\n",
       "    </tr>\n",
       "    <tr>\n",
       "      <th>P09784_10_03_2020_210248</th>\n",
       "      <td>0.026769</td>\n",
       "    </tr>\n",
       "    <tr>\n",
       "      <th>P09859_10_03_2020_181030</th>\n",
       "      <td>0.004938</td>\n",
       "    </tr>\n",
       "    <tr>\n",
       "      <th>P09894_10_03_2020_192547</th>\n",
       "      <td>0.019011</td>\n",
       "    </tr>\n",
       "    <tr>\n",
       "      <th>P09951_10_03_2020_183819</th>\n",
       "      <td>0.001855</td>\n",
       "    </tr>\n",
       "    <tr>\n",
       "      <th>P09953_02_02_2020_211308</th>\n",
       "      <td>0.002004</td>\n",
       "    </tr>\n",
       "    <tr>\n",
       "      <th>P09953_03_02_2020_100458</th>\n",
       "      <td>0.007212</td>\n",
       "    </tr>\n",
       "    <tr>\n",
       "      <th>P09959_10_03_2020_205800</th>\n",
       "      <td>0.045187</td>\n",
       "    </tr>\n",
       "    <tr>\n",
       "      <th>P09961_10_03_2020_185251</th>\n",
       "      <td>0.228487</td>\n",
       "    </tr>\n",
       "    <tr>\n",
       "      <th>P09961_10_03_2020_190252</th>\n",
       "      <td>0.108527</td>\n",
       "    </tr>\n",
       "    <tr>\n",
       "      <th>P09963_02_03_2020_083828</th>\n",
       "      <td>0.048000</td>\n",
       "    </tr>\n",
       "    <tr>\n",
       "      <th>P09963_02_03_2020_084839</th>\n",
       "      <td>0.074699</td>\n",
       "    </tr>\n",
       "    <tr>\n",
       "      <th>P09963_08_03_2020_231229</th>\n",
       "      <td>0.062167</td>\n",
       "    </tr>\n",
       "    <tr>\n",
       "      <th>P09963_10_03_2020_184005</th>\n",
       "      <td>0.053763</td>\n",
       "    </tr>\n",
       "    <tr>\n",
       "      <th>P09966_04_03_2020_163313</th>\n",
       "      <td>0.007712</td>\n",
       "    </tr>\n",
       "  </tbody>\n",
       "</table>\n",
       "</div>"
      ],
      "text/plain": [
       "                              fear\n",
       "Img_name                          \n",
       "P09784_10_03_2020_200935       NaN\n",
       "P09784_10_03_2020_210248  0.026769\n",
       "P09859_10_03_2020_181030  0.004938\n",
       "P09894_10_03_2020_192547  0.019011\n",
       "P09951_10_03_2020_183819  0.001855\n",
       "P09953_02_02_2020_211308  0.002004\n",
       "P09953_03_02_2020_100458  0.007212\n",
       "P09959_10_03_2020_205800  0.045187\n",
       "P09961_10_03_2020_185251  0.228487\n",
       "P09961_10_03_2020_190252  0.108527\n",
       "P09963_02_03_2020_083828  0.048000\n",
       "P09963_02_03_2020_084839  0.074699\n",
       "P09963_08_03_2020_231229  0.062167\n",
       "P09963_10_03_2020_184005  0.053763\n",
       "P09966_04_03_2020_163313  0.007712"
      ]
     },
     "execution_count": 40,
     "metadata": {},
     "output_type": "execute_result"
    }
   ],
   "source": [
    "fear=fear.rename({'Facial_Emotion': 'fear'},axis=1)\n",
    "fear"
   ]
  },
  {
   "cell_type": "code",
   "execution_count": 41,
   "metadata": {},
   "outputs": [],
   "source": [
    "happy=results_df[['Img_name','Facial_Emotion']].loc[results_df['Facial_Emotion'] == 'happy'].groupby(['Img_name']).count()/results_df[['Img_name','Facial_Emotion']].groupby(['Img_name']).count()"
   ]
  },
  {
   "cell_type": "code",
   "execution_count": 42,
   "metadata": {},
   "outputs": [
    {
     "data": {
      "text/html": [
       "<div>\n",
       "<style scoped>\n",
       "    .dataframe tbody tr th:only-of-type {\n",
       "        vertical-align: middle;\n",
       "    }\n",
       "\n",
       "    .dataframe tbody tr th {\n",
       "        vertical-align: top;\n",
       "    }\n",
       "\n",
       "    .dataframe thead th {\n",
       "        text-align: right;\n",
       "    }\n",
       "</style>\n",
       "<table border=\"1\" class=\"dataframe\">\n",
       "  <thead>\n",
       "    <tr style=\"text-align: right;\">\n",
       "      <th></th>\n",
       "      <th>happy</th>\n",
       "    </tr>\n",
       "    <tr>\n",
       "      <th>Img_name</th>\n",
       "      <th></th>\n",
       "    </tr>\n",
       "  </thead>\n",
       "  <tbody>\n",
       "    <tr>\n",
       "      <th>P09784_10_03_2020_200935</th>\n",
       "      <td>NaN</td>\n",
       "    </tr>\n",
       "    <tr>\n",
       "      <th>P09784_10_03_2020_210248</th>\n",
       "      <td>0.005736</td>\n",
       "    </tr>\n",
       "    <tr>\n",
       "      <th>P09859_10_03_2020_181030</th>\n",
       "      <td>0.014815</td>\n",
       "    </tr>\n",
       "    <tr>\n",
       "      <th>P09894_10_03_2020_192547</th>\n",
       "      <td>0.015209</td>\n",
       "    </tr>\n",
       "    <tr>\n",
       "      <th>P09951_10_03_2020_183819</th>\n",
       "      <td>0.003711</td>\n",
       "    </tr>\n",
       "    <tr>\n",
       "      <th>P09953_02_02_2020_211308</th>\n",
       "      <td>NaN</td>\n",
       "    </tr>\n",
       "    <tr>\n",
       "      <th>P09953_03_02_2020_100458</th>\n",
       "      <td>NaN</td>\n",
       "    </tr>\n",
       "    <tr>\n",
       "      <th>P09959_10_03_2020_205800</th>\n",
       "      <td>0.005894</td>\n",
       "    </tr>\n",
       "    <tr>\n",
       "      <th>P09961_10_03_2020_185251</th>\n",
       "      <td>0.074184</td>\n",
       "    </tr>\n",
       "    <tr>\n",
       "      <th>P09961_10_03_2020_190252</th>\n",
       "      <td>0.102713</td>\n",
       "    </tr>\n",
       "    <tr>\n",
       "      <th>P09963_02_03_2020_083828</th>\n",
       "      <td>NaN</td>\n",
       "    </tr>\n",
       "    <tr>\n",
       "      <th>P09963_02_03_2020_084839</th>\n",
       "      <td>0.012048</td>\n",
       "    </tr>\n",
       "    <tr>\n",
       "      <th>P09963_08_03_2020_231229</th>\n",
       "      <td>0.005329</td>\n",
       "    </tr>\n",
       "    <tr>\n",
       "      <th>P09963_10_03_2020_184005</th>\n",
       "      <td>0.012903</td>\n",
       "    </tr>\n",
       "    <tr>\n",
       "      <th>P09966_04_03_2020_163313</th>\n",
       "      <td>0.177378</td>\n",
       "    </tr>\n",
       "  </tbody>\n",
       "</table>\n",
       "</div>"
      ],
      "text/plain": [
       "                             happy\n",
       "Img_name                          \n",
       "P09784_10_03_2020_200935       NaN\n",
       "P09784_10_03_2020_210248  0.005736\n",
       "P09859_10_03_2020_181030  0.014815\n",
       "P09894_10_03_2020_192547  0.015209\n",
       "P09951_10_03_2020_183819  0.003711\n",
       "P09953_02_02_2020_211308       NaN\n",
       "P09953_03_02_2020_100458       NaN\n",
       "P09959_10_03_2020_205800  0.005894\n",
       "P09961_10_03_2020_185251  0.074184\n",
       "P09961_10_03_2020_190252  0.102713\n",
       "P09963_02_03_2020_083828       NaN\n",
       "P09963_02_03_2020_084839  0.012048\n",
       "P09963_08_03_2020_231229  0.005329\n",
       "P09963_10_03_2020_184005  0.012903\n",
       "P09966_04_03_2020_163313  0.177378"
      ]
     },
     "execution_count": 42,
     "metadata": {},
     "output_type": "execute_result"
    }
   ],
   "source": [
    "happy=happy.rename({'Facial_Emotion': 'happy'},axis=1)\n",
    "happy"
   ]
  },
  {
   "cell_type": "code",
   "execution_count": 43,
   "metadata": {},
   "outputs": [],
   "source": [
    "neutral=results_df[['Img_name','Facial_Emotion']].loc[results_df['Facial_Emotion'] == 'neutral'].groupby(['Img_name']).count()/results_df[['Img_name','Facial_Emotion']].groupby(['Img_name']).count()"
   ]
  },
  {
   "cell_type": "code",
   "execution_count": 44,
   "metadata": {},
   "outputs": [
    {
     "data": {
      "text/html": [
       "<div>\n",
       "<style scoped>\n",
       "    .dataframe tbody tr th:only-of-type {\n",
       "        vertical-align: middle;\n",
       "    }\n",
       "\n",
       "    .dataframe tbody tr th {\n",
       "        vertical-align: top;\n",
       "    }\n",
       "\n",
       "    .dataframe thead th {\n",
       "        text-align: right;\n",
       "    }\n",
       "</style>\n",
       "<table border=\"1\" class=\"dataframe\">\n",
       "  <thead>\n",
       "    <tr style=\"text-align: right;\">\n",
       "      <th></th>\n",
       "      <th>neutral</th>\n",
       "    </tr>\n",
       "    <tr>\n",
       "      <th>Img_name</th>\n",
       "      <th></th>\n",
       "    </tr>\n",
       "  </thead>\n",
       "  <tbody>\n",
       "    <tr>\n",
       "      <th>P09784_10_03_2020_200935</th>\n",
       "      <td>0.004032</td>\n",
       "    </tr>\n",
       "    <tr>\n",
       "      <th>P09784_10_03_2020_210248</th>\n",
       "      <td>0.011472</td>\n",
       "    </tr>\n",
       "    <tr>\n",
       "      <th>P09859_10_03_2020_181030</th>\n",
       "      <td>0.135802</td>\n",
       "    </tr>\n",
       "    <tr>\n",
       "      <th>P09894_10_03_2020_192547</th>\n",
       "      <td>0.230038</td>\n",
       "    </tr>\n",
       "    <tr>\n",
       "      <th>P09951_10_03_2020_183819</th>\n",
       "      <td>0.016698</td>\n",
       "    </tr>\n",
       "    <tr>\n",
       "      <th>P09953_02_02_2020_211308</th>\n",
       "      <td>0.002004</td>\n",
       "    </tr>\n",
       "    <tr>\n",
       "      <th>P09953_03_02_2020_100458</th>\n",
       "      <td>NaN</td>\n",
       "    </tr>\n",
       "    <tr>\n",
       "      <th>P09959_10_03_2020_205800</th>\n",
       "      <td>0.062868</td>\n",
       "    </tr>\n",
       "    <tr>\n",
       "      <th>P09961_10_03_2020_185251</th>\n",
       "      <td>0.026706</td>\n",
       "    </tr>\n",
       "    <tr>\n",
       "      <th>P09961_10_03_2020_190252</th>\n",
       "      <td>0.048450</td>\n",
       "    </tr>\n",
       "    <tr>\n",
       "      <th>P09963_02_03_2020_083828</th>\n",
       "      <td>0.060000</td>\n",
       "    </tr>\n",
       "    <tr>\n",
       "      <th>P09963_02_03_2020_084839</th>\n",
       "      <td>0.084337</td>\n",
       "    </tr>\n",
       "    <tr>\n",
       "      <th>P09963_08_03_2020_231229</th>\n",
       "      <td>0.111901</td>\n",
       "    </tr>\n",
       "    <tr>\n",
       "      <th>P09963_10_03_2020_184005</th>\n",
       "      <td>0.040860</td>\n",
       "    </tr>\n",
       "    <tr>\n",
       "      <th>P09966_04_03_2020_163313</th>\n",
       "      <td>0.007712</td>\n",
       "    </tr>\n",
       "  </tbody>\n",
       "</table>\n",
       "</div>"
      ],
      "text/plain": [
       "                           neutral\n",
       "Img_name                          \n",
       "P09784_10_03_2020_200935  0.004032\n",
       "P09784_10_03_2020_210248  0.011472\n",
       "P09859_10_03_2020_181030  0.135802\n",
       "P09894_10_03_2020_192547  0.230038\n",
       "P09951_10_03_2020_183819  0.016698\n",
       "P09953_02_02_2020_211308  0.002004\n",
       "P09953_03_02_2020_100458       NaN\n",
       "P09959_10_03_2020_205800  0.062868\n",
       "P09961_10_03_2020_185251  0.026706\n",
       "P09961_10_03_2020_190252  0.048450\n",
       "P09963_02_03_2020_083828  0.060000\n",
       "P09963_02_03_2020_084839  0.084337\n",
       "P09963_08_03_2020_231229  0.111901\n",
       "P09963_10_03_2020_184005  0.040860\n",
       "P09966_04_03_2020_163313  0.007712"
      ]
     },
     "execution_count": 44,
     "metadata": {},
     "output_type": "execute_result"
    }
   ],
   "source": [
    "neutral=neutral.rename({'Facial_Emotion': 'neutral'},axis=1)\n",
    "neutral"
   ]
  },
  {
   "cell_type": "code",
   "execution_count": 45,
   "metadata": {},
   "outputs": [],
   "source": [
    "disgust=results_df[['Img_name','Facial_Emotion']].loc[results_df['Facial_Emotion'] == 'disgust'].groupby(['Img_name']).count()/results_df[['Img_name','Facial_Emotion']].groupby(['Img_name']).count()"
   ]
  },
  {
   "cell_type": "code",
   "execution_count": 46,
   "metadata": {},
   "outputs": [
    {
     "data": {
      "text/html": [
       "<div>\n",
       "<style scoped>\n",
       "    .dataframe tbody tr th:only-of-type {\n",
       "        vertical-align: middle;\n",
       "    }\n",
       "\n",
       "    .dataframe tbody tr th {\n",
       "        vertical-align: top;\n",
       "    }\n",
       "\n",
       "    .dataframe thead th {\n",
       "        text-align: right;\n",
       "    }\n",
       "</style>\n",
       "<table border=\"1\" class=\"dataframe\">\n",
       "  <thead>\n",
       "    <tr style=\"text-align: right;\">\n",
       "      <th></th>\n",
       "      <th>disgust</th>\n",
       "    </tr>\n",
       "    <tr>\n",
       "      <th>Img_name</th>\n",
       "      <th></th>\n",
       "    </tr>\n",
       "  </thead>\n",
       "  <tbody>\n",
       "    <tr>\n",
       "      <th>P09784_10_03_2020_200935</th>\n",
       "      <td>NaN</td>\n",
       "    </tr>\n",
       "    <tr>\n",
       "      <th>P09784_10_03_2020_210248</th>\n",
       "      <td>NaN</td>\n",
       "    </tr>\n",
       "    <tr>\n",
       "      <th>P09859_10_03_2020_181030</th>\n",
       "      <td>NaN</td>\n",
       "    </tr>\n",
       "    <tr>\n",
       "      <th>P09894_10_03_2020_192547</th>\n",
       "      <td>NaN</td>\n",
       "    </tr>\n",
       "    <tr>\n",
       "      <th>P09951_10_03_2020_183819</th>\n",
       "      <td>NaN</td>\n",
       "    </tr>\n",
       "    <tr>\n",
       "      <th>P09953_02_02_2020_211308</th>\n",
       "      <td>NaN</td>\n",
       "    </tr>\n",
       "    <tr>\n",
       "      <th>P09953_03_02_2020_100458</th>\n",
       "      <td>NaN</td>\n",
       "    </tr>\n",
       "    <tr>\n",
       "      <th>P09959_10_03_2020_205800</th>\n",
       "      <td>0.001965</td>\n",
       "    </tr>\n",
       "    <tr>\n",
       "      <th>P09961_10_03_2020_185251</th>\n",
       "      <td>NaN</td>\n",
       "    </tr>\n",
       "    <tr>\n",
       "      <th>P09961_10_03_2020_190252</th>\n",
       "      <td>NaN</td>\n",
       "    </tr>\n",
       "    <tr>\n",
       "      <th>P09963_02_03_2020_083828</th>\n",
       "      <td>NaN</td>\n",
       "    </tr>\n",
       "    <tr>\n",
       "      <th>P09963_02_03_2020_084839</th>\n",
       "      <td>NaN</td>\n",
       "    </tr>\n",
       "    <tr>\n",
       "      <th>P09963_08_03_2020_231229</th>\n",
       "      <td>0.001776</td>\n",
       "    </tr>\n",
       "    <tr>\n",
       "      <th>P09963_10_03_2020_184005</th>\n",
       "      <td>NaN</td>\n",
       "    </tr>\n",
       "    <tr>\n",
       "      <th>P09966_04_03_2020_163313</th>\n",
       "      <td>0.030848</td>\n",
       "    </tr>\n",
       "  </tbody>\n",
       "</table>\n",
       "</div>"
      ],
      "text/plain": [
       "                           disgust\n",
       "Img_name                          \n",
       "P09784_10_03_2020_200935       NaN\n",
       "P09784_10_03_2020_210248       NaN\n",
       "P09859_10_03_2020_181030       NaN\n",
       "P09894_10_03_2020_192547       NaN\n",
       "P09951_10_03_2020_183819       NaN\n",
       "P09953_02_02_2020_211308       NaN\n",
       "P09953_03_02_2020_100458       NaN\n",
       "P09959_10_03_2020_205800  0.001965\n",
       "P09961_10_03_2020_185251       NaN\n",
       "P09961_10_03_2020_190252       NaN\n",
       "P09963_02_03_2020_083828       NaN\n",
       "P09963_02_03_2020_084839       NaN\n",
       "P09963_08_03_2020_231229  0.001776\n",
       "P09963_10_03_2020_184005       NaN\n",
       "P09966_04_03_2020_163313  0.030848"
      ]
     },
     "execution_count": 46,
     "metadata": {},
     "output_type": "execute_result"
    }
   ],
   "source": [
    "disgust=disgust.rename({'Facial_Emotion': 'disgust'},axis=1)\n",
    "disgust"
   ]
  },
  {
   "cell_type": "code",
   "execution_count": 47,
   "metadata": {},
   "outputs": [
    {
     "data": {
      "text/plain": [
       "Img_name                  Eye_Conact  Facial_Emotion\n",
       "P09953_02_02_2020_211308  NO          sad               468\n",
       "P09784_10_03_2020_210248  NO          sad               375\n",
       "P09953_03_02_2020_100458  NO          sad               362\n",
       "P09784_10_03_2020_200935  NO          sad               287\n",
       "P09951_10_03_2020_183819  NO          sad               279\n",
       "                                                       ... \n",
       "P09953_02_02_2020_211308  NO          neutral             1\n",
       "                                      fear                1\n",
       "P09951_10_03_2020_183819  NO          surprise            1\n",
       "                                      fear                1\n",
       "P09966_04_03_2020_163313  NO          fear                1\n",
       "Length: 140, dtype: int64"
      ]
     },
     "execution_count": 47,
     "metadata": {},
     "output_type": "execute_result"
    }
   ],
   "source": [
    "results_df.value_counts()"
   ]
  },
  {
   "cell_type": "code",
   "execution_count": 48,
   "metadata": {},
   "outputs": [],
   "source": [
    "result = pd.concat([eye_contact, sad,angry,surprise,fear,happy,neutral,disgust,captured_frames_final], axis=1)"
   ]
  },
  {
   "cell_type": "code",
   "execution_count": 49,
   "metadata": {},
   "outputs": [
    {
     "data": {
      "text/html": [
       "<div>\n",
       "<style scoped>\n",
       "    .dataframe tbody tr th:only-of-type {\n",
       "        vertical-align: middle;\n",
       "    }\n",
       "\n",
       "    .dataframe tbody tr th {\n",
       "        vertical-align: top;\n",
       "    }\n",
       "\n",
       "    .dataframe thead th {\n",
       "        text-align: right;\n",
       "    }\n",
       "</style>\n",
       "<table border=\"1\" class=\"dataframe\">\n",
       "  <thead>\n",
       "    <tr style=\"text-align: right;\">\n",
       "      <th></th>\n",
       "      <th>Eye_Conact</th>\n",
       "      <th>sad</th>\n",
       "      <th>angry</th>\n",
       "      <th>surprise</th>\n",
       "      <th>fear</th>\n",
       "      <th>happy</th>\n",
       "      <th>neutral</th>\n",
       "      <th>disgust</th>\n",
       "      <th>captured</th>\n",
       "    </tr>\n",
       "    <tr>\n",
       "      <th>Img_name</th>\n",
       "      <th></th>\n",
       "      <th></th>\n",
       "      <th></th>\n",
       "      <th></th>\n",
       "      <th></th>\n",
       "      <th></th>\n",
       "      <th></th>\n",
       "      <th></th>\n",
       "      <th></th>\n",
       "    </tr>\n",
       "  </thead>\n",
       "  <tbody>\n",
       "    <tr>\n",
       "      <th>P09784_10_03_2020_200935</th>\n",
       "      <td>0.413306</td>\n",
       "      <td>0.991935</td>\n",
       "      <td>0.004032</td>\n",
       "      <td>NaN</td>\n",
       "      <td>NaN</td>\n",
       "      <td>NaN</td>\n",
       "      <td>0.004032</td>\n",
       "      <td>NaN</td>\n",
       "      <td>0.826667</td>\n",
       "    </tr>\n",
       "    <tr>\n",
       "      <th>P09784_10_03_2020_210248</th>\n",
       "      <td>0.216061</td>\n",
       "      <td>0.892925</td>\n",
       "      <td>0.063098</td>\n",
       "      <td>NaN</td>\n",
       "      <td>0.026769</td>\n",
       "      <td>0.005736</td>\n",
       "      <td>0.011472</td>\n",
       "      <td>NaN</td>\n",
       "      <td>0.871667</td>\n",
       "    </tr>\n",
       "    <tr>\n",
       "      <th>P09859_10_03_2020_181030</th>\n",
       "      <td>0.316049</td>\n",
       "      <td>0.671605</td>\n",
       "      <td>0.167901</td>\n",
       "      <td>0.004938</td>\n",
       "      <td>0.004938</td>\n",
       "      <td>0.014815</td>\n",
       "      <td>0.135802</td>\n",
       "      <td>NaN</td>\n",
       "      <td>0.675000</td>\n",
       "    </tr>\n",
       "    <tr>\n",
       "      <th>P09894_10_03_2020_192547</th>\n",
       "      <td>0.313688</td>\n",
       "      <td>0.722433</td>\n",
       "      <td>0.011407</td>\n",
       "      <td>0.001901</td>\n",
       "      <td>0.019011</td>\n",
       "      <td>0.015209</td>\n",
       "      <td>0.230038</td>\n",
       "      <td>NaN</td>\n",
       "      <td>0.876667</td>\n",
       "    </tr>\n",
       "    <tr>\n",
       "      <th>P09951_10_03_2020_183819</th>\n",
       "      <td>0.191095</td>\n",
       "      <td>0.599258</td>\n",
       "      <td>0.372913</td>\n",
       "      <td>0.005566</td>\n",
       "      <td>0.001855</td>\n",
       "      <td>0.003711</td>\n",
       "      <td>0.016698</td>\n",
       "      <td>NaN</td>\n",
       "      <td>0.898333</td>\n",
       "    </tr>\n",
       "    <tr>\n",
       "      <th>P09953_02_02_2020_211308</th>\n",
       "      <td>0.058116</td>\n",
       "      <td>0.995992</td>\n",
       "      <td>NaN</td>\n",
       "      <td>NaN</td>\n",
       "      <td>0.002004</td>\n",
       "      <td>NaN</td>\n",
       "      <td>0.002004</td>\n",
       "      <td>NaN</td>\n",
       "      <td>0.831667</td>\n",
       "    </tr>\n",
       "    <tr>\n",
       "      <th>P09953_03_02_2020_100458</th>\n",
       "      <td>0.120192</td>\n",
       "      <td>0.990385</td>\n",
       "      <td>NaN</td>\n",
       "      <td>0.002404</td>\n",
       "      <td>0.007212</td>\n",
       "      <td>NaN</td>\n",
       "      <td>NaN</td>\n",
       "      <td>NaN</td>\n",
       "      <td>0.737589</td>\n",
       "    </tr>\n",
       "    <tr>\n",
       "      <th>P09959_10_03_2020_205800</th>\n",
       "      <td>0.273084</td>\n",
       "      <td>0.671906</td>\n",
       "      <td>0.125737</td>\n",
       "      <td>0.086444</td>\n",
       "      <td>0.045187</td>\n",
       "      <td>0.005894</td>\n",
       "      <td>0.062868</td>\n",
       "      <td>0.001965</td>\n",
       "      <td>0.848333</td>\n",
       "    </tr>\n",
       "    <tr>\n",
       "      <th>P09961_10_03_2020_185251</th>\n",
       "      <td>0.433234</td>\n",
       "      <td>0.394659</td>\n",
       "      <td>0.275964</td>\n",
       "      <td>NaN</td>\n",
       "      <td>0.228487</td>\n",
       "      <td>0.074184</td>\n",
       "      <td>0.026706</td>\n",
       "      <td>NaN</td>\n",
       "      <td>0.561667</td>\n",
       "    </tr>\n",
       "    <tr>\n",
       "      <th>P09961_10_03_2020_190252</th>\n",
       "      <td>0.133721</td>\n",
       "      <td>0.356589</td>\n",
       "      <td>0.383721</td>\n",
       "      <td>NaN</td>\n",
       "      <td>0.108527</td>\n",
       "      <td>0.102713</td>\n",
       "      <td>0.048450</td>\n",
       "      <td>NaN</td>\n",
       "      <td>0.860000</td>\n",
       "    </tr>\n",
       "    <tr>\n",
       "      <th>P09963_02_03_2020_083828</th>\n",
       "      <td>0.478000</td>\n",
       "      <td>0.210000</td>\n",
       "      <td>0.656000</td>\n",
       "      <td>0.026000</td>\n",
       "      <td>0.048000</td>\n",
       "      <td>NaN</td>\n",
       "      <td>0.060000</td>\n",
       "      <td>NaN</td>\n",
       "      <td>0.833333</td>\n",
       "    </tr>\n",
       "    <tr>\n",
       "      <th>P09963_02_03_2020_084839</th>\n",
       "      <td>0.404819</td>\n",
       "      <td>0.238554</td>\n",
       "      <td>0.571084</td>\n",
       "      <td>0.019277</td>\n",
       "      <td>0.074699</td>\n",
       "      <td>0.012048</td>\n",
       "      <td>0.084337</td>\n",
       "      <td>NaN</td>\n",
       "      <td>0.755920</td>\n",
       "    </tr>\n",
       "    <tr>\n",
       "      <th>P09963_08_03_2020_231229</th>\n",
       "      <td>0.548845</td>\n",
       "      <td>0.188277</td>\n",
       "      <td>0.522202</td>\n",
       "      <td>0.108348</td>\n",
       "      <td>0.062167</td>\n",
       "      <td>0.005329</td>\n",
       "      <td>0.111901</td>\n",
       "      <td>0.001776</td>\n",
       "      <td>0.938333</td>\n",
       "    </tr>\n",
       "    <tr>\n",
       "      <th>P09963_10_03_2020_184005</th>\n",
       "      <td>0.604301</td>\n",
       "      <td>0.212903</td>\n",
       "      <td>0.668817</td>\n",
       "      <td>0.010753</td>\n",
       "      <td>0.053763</td>\n",
       "      <td>0.012903</td>\n",
       "      <td>0.040860</td>\n",
       "      <td>NaN</td>\n",
       "      <td>0.775000</td>\n",
       "    </tr>\n",
       "    <tr>\n",
       "      <th>P09966_04_03_2020_163313</th>\n",
       "      <td>0.267352</td>\n",
       "      <td>0.776350</td>\n",
       "      <td>NaN</td>\n",
       "      <td>NaN</td>\n",
       "      <td>0.007712</td>\n",
       "      <td>0.177378</td>\n",
       "      <td>0.007712</td>\n",
       "      <td>0.030848</td>\n",
       "      <td>0.648333</td>\n",
       "    </tr>\n",
       "  </tbody>\n",
       "</table>\n",
       "</div>"
      ],
      "text/plain": [
       "                          Eye_Conact       sad     angry  surprise      fear  \\\n",
       "Img_name                                                                       \n",
       "P09784_10_03_2020_200935    0.413306  0.991935  0.004032       NaN       NaN   \n",
       "P09784_10_03_2020_210248    0.216061  0.892925  0.063098       NaN  0.026769   \n",
       "P09859_10_03_2020_181030    0.316049  0.671605  0.167901  0.004938  0.004938   \n",
       "P09894_10_03_2020_192547    0.313688  0.722433  0.011407  0.001901  0.019011   \n",
       "P09951_10_03_2020_183819    0.191095  0.599258  0.372913  0.005566  0.001855   \n",
       "P09953_02_02_2020_211308    0.058116  0.995992       NaN       NaN  0.002004   \n",
       "P09953_03_02_2020_100458    0.120192  0.990385       NaN  0.002404  0.007212   \n",
       "P09959_10_03_2020_205800    0.273084  0.671906  0.125737  0.086444  0.045187   \n",
       "P09961_10_03_2020_185251    0.433234  0.394659  0.275964       NaN  0.228487   \n",
       "P09961_10_03_2020_190252    0.133721  0.356589  0.383721       NaN  0.108527   \n",
       "P09963_02_03_2020_083828    0.478000  0.210000  0.656000  0.026000  0.048000   \n",
       "P09963_02_03_2020_084839    0.404819  0.238554  0.571084  0.019277  0.074699   \n",
       "P09963_08_03_2020_231229    0.548845  0.188277  0.522202  0.108348  0.062167   \n",
       "P09963_10_03_2020_184005    0.604301  0.212903  0.668817  0.010753  0.053763   \n",
       "P09966_04_03_2020_163313    0.267352  0.776350       NaN       NaN  0.007712   \n",
       "\n",
       "                             happy   neutral   disgust  captured  \n",
       "Img_name                                                          \n",
       "P09784_10_03_2020_200935       NaN  0.004032       NaN  0.826667  \n",
       "P09784_10_03_2020_210248  0.005736  0.011472       NaN  0.871667  \n",
       "P09859_10_03_2020_181030  0.014815  0.135802       NaN  0.675000  \n",
       "P09894_10_03_2020_192547  0.015209  0.230038       NaN  0.876667  \n",
       "P09951_10_03_2020_183819  0.003711  0.016698       NaN  0.898333  \n",
       "P09953_02_02_2020_211308       NaN  0.002004       NaN  0.831667  \n",
       "P09953_03_02_2020_100458       NaN       NaN       NaN  0.737589  \n",
       "P09959_10_03_2020_205800  0.005894  0.062868  0.001965  0.848333  \n",
       "P09961_10_03_2020_185251  0.074184  0.026706       NaN  0.561667  \n",
       "P09961_10_03_2020_190252  0.102713  0.048450       NaN  0.860000  \n",
       "P09963_02_03_2020_083828       NaN  0.060000       NaN  0.833333  \n",
       "P09963_02_03_2020_084839  0.012048  0.084337       NaN  0.755920  \n",
       "P09963_08_03_2020_231229  0.005329  0.111901  0.001776  0.938333  \n",
       "P09963_10_03_2020_184005  0.012903  0.040860       NaN  0.775000  \n",
       "P09966_04_03_2020_163313  0.177378  0.007712  0.030848  0.648333  "
      ]
     },
     "execution_count": 49,
     "metadata": {},
     "output_type": "execute_result"
    }
   ],
   "source": [
    "result"
   ]
  },
  {
   "cell_type": "code",
   "execution_count": 50,
   "metadata": {},
   "outputs": [],
   "source": [
    "result= result.fillna(0)"
   ]
  },
  {
   "cell_type": "code",
   "execution_count": 51,
   "metadata": {},
   "outputs": [
    {
     "data": {
      "text/html": [
       "<div>\n",
       "<style scoped>\n",
       "    .dataframe tbody tr th:only-of-type {\n",
       "        vertical-align: middle;\n",
       "    }\n",
       "\n",
       "    .dataframe tbody tr th {\n",
       "        vertical-align: top;\n",
       "    }\n",
       "\n",
       "    .dataframe thead th {\n",
       "        text-align: right;\n",
       "    }\n",
       "</style>\n",
       "<table border=\"1\" class=\"dataframe\">\n",
       "  <thead>\n",
       "    <tr style=\"text-align: right;\">\n",
       "      <th></th>\n",
       "      <th>Eye_Conact</th>\n",
       "      <th>sad</th>\n",
       "      <th>angry</th>\n",
       "      <th>surprise</th>\n",
       "      <th>fear</th>\n",
       "      <th>happy</th>\n",
       "      <th>neutral</th>\n",
       "      <th>disgust</th>\n",
       "      <th>captured</th>\n",
       "    </tr>\n",
       "    <tr>\n",
       "      <th>Img_name</th>\n",
       "      <th></th>\n",
       "      <th></th>\n",
       "      <th></th>\n",
       "      <th></th>\n",
       "      <th></th>\n",
       "      <th></th>\n",
       "      <th></th>\n",
       "      <th></th>\n",
       "      <th></th>\n",
       "    </tr>\n",
       "  </thead>\n",
       "  <tbody>\n",
       "    <tr>\n",
       "      <th>P09784_10_03_2020_200935</th>\n",
       "      <td>0.413306</td>\n",
       "      <td>0.991935</td>\n",
       "      <td>0.004032</td>\n",
       "      <td>0.000000</td>\n",
       "      <td>0.000000</td>\n",
       "      <td>0.000000</td>\n",
       "      <td>0.004032</td>\n",
       "      <td>0.000000</td>\n",
       "      <td>0.826667</td>\n",
       "    </tr>\n",
       "    <tr>\n",
       "      <th>P09784_10_03_2020_210248</th>\n",
       "      <td>0.216061</td>\n",
       "      <td>0.892925</td>\n",
       "      <td>0.063098</td>\n",
       "      <td>0.000000</td>\n",
       "      <td>0.026769</td>\n",
       "      <td>0.005736</td>\n",
       "      <td>0.011472</td>\n",
       "      <td>0.000000</td>\n",
       "      <td>0.871667</td>\n",
       "    </tr>\n",
       "    <tr>\n",
       "      <th>P09859_10_03_2020_181030</th>\n",
       "      <td>0.316049</td>\n",
       "      <td>0.671605</td>\n",
       "      <td>0.167901</td>\n",
       "      <td>0.004938</td>\n",
       "      <td>0.004938</td>\n",
       "      <td>0.014815</td>\n",
       "      <td>0.135802</td>\n",
       "      <td>0.000000</td>\n",
       "      <td>0.675000</td>\n",
       "    </tr>\n",
       "    <tr>\n",
       "      <th>P09894_10_03_2020_192547</th>\n",
       "      <td>0.313688</td>\n",
       "      <td>0.722433</td>\n",
       "      <td>0.011407</td>\n",
       "      <td>0.001901</td>\n",
       "      <td>0.019011</td>\n",
       "      <td>0.015209</td>\n",
       "      <td>0.230038</td>\n",
       "      <td>0.000000</td>\n",
       "      <td>0.876667</td>\n",
       "    </tr>\n",
       "    <tr>\n",
       "      <th>P09951_10_03_2020_183819</th>\n",
       "      <td>0.191095</td>\n",
       "      <td>0.599258</td>\n",
       "      <td>0.372913</td>\n",
       "      <td>0.005566</td>\n",
       "      <td>0.001855</td>\n",
       "      <td>0.003711</td>\n",
       "      <td>0.016698</td>\n",
       "      <td>0.000000</td>\n",
       "      <td>0.898333</td>\n",
       "    </tr>\n",
       "    <tr>\n",
       "      <th>P09953_02_02_2020_211308</th>\n",
       "      <td>0.058116</td>\n",
       "      <td>0.995992</td>\n",
       "      <td>0.000000</td>\n",
       "      <td>0.000000</td>\n",
       "      <td>0.002004</td>\n",
       "      <td>0.000000</td>\n",
       "      <td>0.002004</td>\n",
       "      <td>0.000000</td>\n",
       "      <td>0.831667</td>\n",
       "    </tr>\n",
       "    <tr>\n",
       "      <th>P09953_03_02_2020_100458</th>\n",
       "      <td>0.120192</td>\n",
       "      <td>0.990385</td>\n",
       "      <td>0.000000</td>\n",
       "      <td>0.002404</td>\n",
       "      <td>0.007212</td>\n",
       "      <td>0.000000</td>\n",
       "      <td>0.000000</td>\n",
       "      <td>0.000000</td>\n",
       "      <td>0.737589</td>\n",
       "    </tr>\n",
       "    <tr>\n",
       "      <th>P09959_10_03_2020_205800</th>\n",
       "      <td>0.273084</td>\n",
       "      <td>0.671906</td>\n",
       "      <td>0.125737</td>\n",
       "      <td>0.086444</td>\n",
       "      <td>0.045187</td>\n",
       "      <td>0.005894</td>\n",
       "      <td>0.062868</td>\n",
       "      <td>0.001965</td>\n",
       "      <td>0.848333</td>\n",
       "    </tr>\n",
       "    <tr>\n",
       "      <th>P09961_10_03_2020_185251</th>\n",
       "      <td>0.433234</td>\n",
       "      <td>0.394659</td>\n",
       "      <td>0.275964</td>\n",
       "      <td>0.000000</td>\n",
       "      <td>0.228487</td>\n",
       "      <td>0.074184</td>\n",
       "      <td>0.026706</td>\n",
       "      <td>0.000000</td>\n",
       "      <td>0.561667</td>\n",
       "    </tr>\n",
       "    <tr>\n",
       "      <th>P09961_10_03_2020_190252</th>\n",
       "      <td>0.133721</td>\n",
       "      <td>0.356589</td>\n",
       "      <td>0.383721</td>\n",
       "      <td>0.000000</td>\n",
       "      <td>0.108527</td>\n",
       "      <td>0.102713</td>\n",
       "      <td>0.048450</td>\n",
       "      <td>0.000000</td>\n",
       "      <td>0.860000</td>\n",
       "    </tr>\n",
       "    <tr>\n",
       "      <th>P09963_02_03_2020_083828</th>\n",
       "      <td>0.478000</td>\n",
       "      <td>0.210000</td>\n",
       "      <td>0.656000</td>\n",
       "      <td>0.026000</td>\n",
       "      <td>0.048000</td>\n",
       "      <td>0.000000</td>\n",
       "      <td>0.060000</td>\n",
       "      <td>0.000000</td>\n",
       "      <td>0.833333</td>\n",
       "    </tr>\n",
       "    <tr>\n",
       "      <th>P09963_02_03_2020_084839</th>\n",
       "      <td>0.404819</td>\n",
       "      <td>0.238554</td>\n",
       "      <td>0.571084</td>\n",
       "      <td>0.019277</td>\n",
       "      <td>0.074699</td>\n",
       "      <td>0.012048</td>\n",
       "      <td>0.084337</td>\n",
       "      <td>0.000000</td>\n",
       "      <td>0.755920</td>\n",
       "    </tr>\n",
       "    <tr>\n",
       "      <th>P09963_08_03_2020_231229</th>\n",
       "      <td>0.548845</td>\n",
       "      <td>0.188277</td>\n",
       "      <td>0.522202</td>\n",
       "      <td>0.108348</td>\n",
       "      <td>0.062167</td>\n",
       "      <td>0.005329</td>\n",
       "      <td>0.111901</td>\n",
       "      <td>0.001776</td>\n",
       "      <td>0.938333</td>\n",
       "    </tr>\n",
       "    <tr>\n",
       "      <th>P09963_10_03_2020_184005</th>\n",
       "      <td>0.604301</td>\n",
       "      <td>0.212903</td>\n",
       "      <td>0.668817</td>\n",
       "      <td>0.010753</td>\n",
       "      <td>0.053763</td>\n",
       "      <td>0.012903</td>\n",
       "      <td>0.040860</td>\n",
       "      <td>0.000000</td>\n",
       "      <td>0.775000</td>\n",
       "    </tr>\n",
       "    <tr>\n",
       "      <th>P09966_04_03_2020_163313</th>\n",
       "      <td>0.267352</td>\n",
       "      <td>0.776350</td>\n",
       "      <td>0.000000</td>\n",
       "      <td>0.000000</td>\n",
       "      <td>0.007712</td>\n",
       "      <td>0.177378</td>\n",
       "      <td>0.007712</td>\n",
       "      <td>0.030848</td>\n",
       "      <td>0.648333</td>\n",
       "    </tr>\n",
       "  </tbody>\n",
       "</table>\n",
       "</div>"
      ],
      "text/plain": [
       "                          Eye_Conact       sad     angry  surprise      fear  \\\n",
       "Img_name                                                                       \n",
       "P09784_10_03_2020_200935    0.413306  0.991935  0.004032  0.000000  0.000000   \n",
       "P09784_10_03_2020_210248    0.216061  0.892925  0.063098  0.000000  0.026769   \n",
       "P09859_10_03_2020_181030    0.316049  0.671605  0.167901  0.004938  0.004938   \n",
       "P09894_10_03_2020_192547    0.313688  0.722433  0.011407  0.001901  0.019011   \n",
       "P09951_10_03_2020_183819    0.191095  0.599258  0.372913  0.005566  0.001855   \n",
       "P09953_02_02_2020_211308    0.058116  0.995992  0.000000  0.000000  0.002004   \n",
       "P09953_03_02_2020_100458    0.120192  0.990385  0.000000  0.002404  0.007212   \n",
       "P09959_10_03_2020_205800    0.273084  0.671906  0.125737  0.086444  0.045187   \n",
       "P09961_10_03_2020_185251    0.433234  0.394659  0.275964  0.000000  0.228487   \n",
       "P09961_10_03_2020_190252    0.133721  0.356589  0.383721  0.000000  0.108527   \n",
       "P09963_02_03_2020_083828    0.478000  0.210000  0.656000  0.026000  0.048000   \n",
       "P09963_02_03_2020_084839    0.404819  0.238554  0.571084  0.019277  0.074699   \n",
       "P09963_08_03_2020_231229    0.548845  0.188277  0.522202  0.108348  0.062167   \n",
       "P09963_10_03_2020_184005    0.604301  0.212903  0.668817  0.010753  0.053763   \n",
       "P09966_04_03_2020_163313    0.267352  0.776350  0.000000  0.000000  0.007712   \n",
       "\n",
       "                             happy   neutral   disgust  captured  \n",
       "Img_name                                                          \n",
       "P09784_10_03_2020_200935  0.000000  0.004032  0.000000  0.826667  \n",
       "P09784_10_03_2020_210248  0.005736  0.011472  0.000000  0.871667  \n",
       "P09859_10_03_2020_181030  0.014815  0.135802  0.000000  0.675000  \n",
       "P09894_10_03_2020_192547  0.015209  0.230038  0.000000  0.876667  \n",
       "P09951_10_03_2020_183819  0.003711  0.016698  0.000000  0.898333  \n",
       "P09953_02_02_2020_211308  0.000000  0.002004  0.000000  0.831667  \n",
       "P09953_03_02_2020_100458  0.000000  0.000000  0.000000  0.737589  \n",
       "P09959_10_03_2020_205800  0.005894  0.062868  0.001965  0.848333  \n",
       "P09961_10_03_2020_185251  0.074184  0.026706  0.000000  0.561667  \n",
       "P09961_10_03_2020_190252  0.102713  0.048450  0.000000  0.860000  \n",
       "P09963_02_03_2020_083828  0.000000  0.060000  0.000000  0.833333  \n",
       "P09963_02_03_2020_084839  0.012048  0.084337  0.000000  0.755920  \n",
       "P09963_08_03_2020_231229  0.005329  0.111901  0.001776  0.938333  \n",
       "P09963_10_03_2020_184005  0.012903  0.040860  0.000000  0.775000  \n",
       "P09966_04_03_2020_163313  0.177378  0.007712  0.030848  0.648333  "
      ]
     },
     "execution_count": 51,
     "metadata": {},
     "output_type": "execute_result"
    }
   ],
   "source": [
    "result"
   ]
  },
  {
   "cell_type": "code",
   "execution_count": null,
   "metadata": {},
   "outputs": [],
   "source": []
  },
  {
   "cell_type": "code",
   "execution_count": 52,
   "metadata": {},
   "outputs": [],
   "source": [
    "from openpyxl import Workbook"
   ]
  },
  {
   "cell_type": "code",
   "execution_count": 53,
   "metadata": {},
   "outputs": [],
   "source": [
    "result.to_excel(\"result_I.xlsx\",\n",
    "             sheet_name='Sheet_name_1')"
   ]
  },
  {
   "cell_type": "code",
   "execution_count": null,
   "metadata": {},
   "outputs": [],
   "source": []
  }
 ],
 "metadata": {
  "kernelspec": {
   "display_name": "Python 3.7 tensorflow_GPU",
   "language": "python",
   "name": "gpu_cv2"
  },
  "language_info": {
   "codemirror_mode": {
    "name": "ipython",
    "version": 3
   },
   "file_extension": ".py",
   "mimetype": "text/x-python",
   "name": "python",
   "nbconvert_exporter": "python",
   "pygments_lexer": "ipython3",
   "version": "3.7.9"
  }
 },
 "nbformat": 4,
 "nbformat_minor": 4
}
