{
 "cells": [
  {
   "cell_type": "code",
   "execution_count": 1,
   "metadata": {},
   "outputs": [],
   "source": [
    "from tensorflow.keras.models import load_model\n",
    "from kapre.time_frequency import STFT, Magnitude, ApplyFilterbank, MagnitudeToDecibel\n",
    "from sklearn.preprocessing import LabelEncoder\n",
    "import numpy as np\n",
    "from glob import glob\n",
    "import argparse\n",
    "import os\n",
    "import pandas as pd\n",
    "from tqdm import tqdm\n",
    "from pydub import AudioSegment\n",
    "import wavio\n",
    "from pandas import DataFrame\n",
    "from datetime import datetime\n",
    "import time\n",
    "import glob\n",
    "import tensorflow as tf\n",
    "gpus = tf.config.experimental.list_physical_devices('GPU')\n",
    "# Currently, memory growth needs to be the same across GPUs\n",
    "for gpu in gpus:\n",
    "        tf.config.experimental.set_memory_growth(gpu, True)\n",
    "tf.config.experimental.set_virtual_device_configuration(gpus[0], [tf.config.experimental.VirtualDeviceConfiguration(memory_limit=4096)])"
   ]
  },
  {
   "cell_type": "code",
   "execution_count": 2,
   "metadata": {},
   "outputs": [],
   "source": [
    "classes=[\n",
    "    'Alikom_Alsalam',\n",
    "    'Alla_Ysalmk',\n",
    "    'Ay_Khedma_Thanya',\n",
    "    'Fe_Aman_Allah',\n",
    "    'Hadhreen',\n",
    "    'Hala_Shaikh',\n",
    "    'Hayak_Allah',\n",
    "    'Hayyak',\n",
    "    'Maa_Alsalama',\n",
    "    'Marhaba',\n",
    "    'Noise',\n",
    "    'Tamer_Ala_she_Thani',\n",
    "    'Tfadhel']\n",
    "\n",
    "Speech_model = load_model(\"D:/VMS/Audio-Classification-master/Audio_Train/Best_Audio3.h5\",\n",
    "    custom_objects={'STFT':STFT,\n",
    "                    'Magnitude':Magnitude,\n",
    "                    'ApplyFilterbank':ApplyFilterbank,\n",
    "                    'MagnitudeToDecibel':MagnitudeToDecibel})\n",
    "\n",
    "# \"d:/VMS/Audio-Classification-master/Audio-Classification-master - Model changing 2/models/conv2d.h5\"\n",
    "# D:/VMS/Audio-Classification-master/Audio_Train/Best_Audio3.h5"
   ]
  },
  {
   "cell_type": "code",
   "execution_count": 3,
   "metadata": {},
   "outputs": [],
   "source": [
    "def make_prediction(W_path):\n",
    "\n",
    "    obj = wavio.read(W_path)\n",
    "    wav = obj.data.astype(np.float32, order='F')\n",
    "    if wav.shape[0] !=  160000 :\n",
    "        shape = wav.shape\n",
    "        N_pad = 160000 - shape[0]\n",
    "        shape = (N_pad,) + shape[1:]\n",
    "        wav=np.vstack((np.zeros(shape),wav))\n",
    "\n",
    "\n",
    "    wav = wav.reshape(1,160000, 1)\n",
    "    X_batch = np.array(wav, dtype=np.float32)\n",
    "    y_pred = Speech_model.predict(X_batch)\n",
    "    y_mean = np.mean(y_pred, axis=0)\n",
    "    y_pred = np.argmax(y_mean)\n",
    "    return classes[y_pred],y_mean,y_pred"
   ]
  },
  {
   "cell_type": "code",
   "execution_count": 4,
   "metadata": {},
   "outputs": [],
   "source": [
    "mapping=[\n",
    "    'Welcoming_h',\n",
    "    'Closure_h',\n",
    "    'Anything Else_h',\n",
    "    'Closure_h',\n",
    "    'Courtesy_Word_h',\n",
    "    'Courtesy_Word_h',\n",
    "    'Closure_h',\n",
    "    'Welcoming_h',\n",
    "    'Closure_h',\n",
    "    'Welcoming_h',\n",
    "    'Noise_h',\n",
    "    'Anything Else_h',\n",
    "    'Welcoming_h']"
   ]
  },
  {
   "cell_type": "code",
   "execution_count": 5,
   "metadata": {},
   "outputs": [],
   "source": [
    "output_path=\"D:/VMS/del/RAW/\""
   ]
  },
  {
   "cell_type": "code",
   "execution_count": 6,
   "metadata": {},
   "outputs": [],
   "source": [
    "test,x,n=make_prediction(\"d:/VMS/Audio-Classification-master/Audio-Classification-master - Model changing 2/untitled.wav\")"
   ]
  },
  {
   "cell_type": "code",
   "execution_count": 7,
   "metadata": {},
   "outputs": [
    {
     "data": {
      "text/plain": [
       "'Alikom_Alsalam'"
      ]
     },
     "execution_count": 7,
     "metadata": {},
     "output_type": "execute_result"
    }
   ],
   "source": [
    "test"
   ]
  },
  {
   "cell_type": "code",
   "execution_count": 8,
   "metadata": {},
   "outputs": [],
   "source": [
    "def Prediction_Audio(path):\n",
    "\n",
    "# the path where all images will be preprocessed \n",
    "    all_files = glob.glob(output_path+\"/\"+path+'/'+path+\"_Sound/\")\n",
    "    Frames_list=os.listdir(all_files[0])\n",
    "    Frames_list = sorted(Frames_list, key = lambda x: int(x.split(\"_\")[-1].split(\".\")[0]))\n",
    "    #print(len(all_files))\n",
    "    for filename in Frames_list:\n",
    "        x1,y1,z1 = make_prediction(all_files[0]+filename)\n",
    "        Category.append(mapping[z1])\n",
    "        Sub_Category.append(x1)\n",
    "        chunk_name.append(filename)\n",
    "\n",
    "\n",
    "    return "
   ]
  },
  {
   "cell_type": "code",
   "execution_count": 9,
   "metadata": {},
   "outputs": [
    {
     "name": "stdout",
     "output_type": "stream",
     "text": [
      "Total of Dir =60\n",
      "P06681_06_06_2019_081946_wc\n",
      "P06682_17_06_2019_024317_wc\n",
      "P06682_21_06_2019_064900_wc\n",
      "P08446_18_06_2019_213500_wc\n",
      "P08446_27_06_2019_151031_wc\n",
      "P08446_29_06_2019_205931_wc\n",
      "P08446_30_06_2019_213152_wc\n",
      "P08449_27_06_2019_195811_wc\n",
      "P08449_29_06_2019_184520_wc\n",
      "P08453_15_06_2019_184841_wc\n",
      "P08453_25_06_2019_122023_wc\n",
      "P08454_30_06_2019_175354_wc\n",
      "P08455_23_06_2019_121023_wc\n",
      "P08455_23_06_2019_214522_wc\n",
      "P08528_26_06_2019_170623_wc\n",
      "P08537_25_06_2019_172211_wc\n",
      "P08539_12_06_2019_144845_wc\n",
      "P08539_30_06_2019_171041_wc\n",
      "P08655_05_07_2019_224316_wc\n",
      "P08655_06_07_2019_184931_wc\n",
      "P08655_27_06_2019_115537_wc\n",
      "P08655_28_06_2019_144759_wc\n",
      "P08656_05_07_2019_221229_wc\n",
      "P08656_06_07_2019_172535_wc\n",
      "P08656_23_06_2019_183212_wc\n",
      "P08658_06_07_2019_154932_wc\n",
      "P08658_07_07_2019_103227_wc\n",
      "P08658_07_07_2019_110933_wc\n",
      "P08658_07_07_2019_111219_wc\n",
      "P08658_07_07_2019_114552_wc\n",
      "P08658_30_06_2019_135027_wc\n",
      "P08659_05_07_2019_192614_wc\n",
      "P08659_05_07_2019_194017_wc\n",
      "P08659_06_07_2019_113037_wc\n",
      "P08659_06_07_2019_140601_wc\n",
      "P08659_30_06_2019_150737_wc\n",
      "P09750_04_03_2020_210027_wc\n",
      "P09750_04_03_2020_212029_wc\n",
      "P09750_10_03_2020_210859_wc\n",
      "P09750_16_03_2020_102228_wc\n",
      "P09784_10_03_2020_161017_wc\n",
      "P09784_10_03_2020_172134_wc\n",
      "P09784_10_03_2020_173135_wc\n",
      "P09784_10_03_2020_192745_wc\n",
      "P09784_10_03_2020_194604_wc\n",
      "P09784_10_03_2020_200935_wc\n",
      "P09784_10_03_2020_210248_wc\n",
      "P09859_10_03_2020_181030_wc\n",
      "P09894_10_03_2020_192547_wc\n",
      "P09951_10_03_2020_183819_wc\n",
      "P09953_02_02_2020_211308_wc\n",
      "P09953_03_02_2020_100458_wc\n",
      "P09959_10_03_2020_205800_wc\n",
      "P09961_10_03_2020_185251_wc\n",
      "P09961_10_03_2020_190252_wc\n",
      "P09963_02_03_2020_083828_wc\n",
      "P09963_02_03_2020_084839_wc\n",
      "P09963_08_03_2020_231229_wc\n",
      "P09963_10_03_2020_184005_wc\n",
      "P09966_04_03_2020_163313_wc\n",
      "\n",
      " Duration: 0:01:10.969585\n"
     ]
    }
   ],
   "source": [
    "Category = []\n",
    "Sub_Category=[]\n",
    "Ser=[]\n",
    "chunk_name=[]\n",
    "\n",
    "start_time = datetime.now()\n",
    "mp4_Frames_Path=os.listdir(output_path)\n",
    "print (\"Total of Dir =\" + str(len(mp4_Frames_Path)) )\n",
    "counter=1\n",
    "for frmspath in mp4_Frames_Path:  #loop Dir to send to function!\n",
    "    print(frmspath)\n",
    "    Folder_name=os.path.splitext(frmspath)[0]\n",
    "    Prediction_Audio(frmspath)\n",
    "    counter = counter +1\n",
    "\n",
    "\n",
    "end_time = datetime.now()\n",
    "print('\\n Duration: {}'.format(end_time - start_time))"
   ]
  },
  {
   "cell_type": "code",
   "execution_count": 10,
   "metadata": {},
   "outputs": [],
   "source": [
    "results_list=[]\n",
    "for a,b,c in zip(Category,Sub_Category,chunk_name): \n",
    "    results_list.append([a,b,c])"
   ]
  },
  {
   "cell_type": "code",
   "execution_count": null,
   "metadata": {},
   "outputs": [],
   "source": [
    "results_list"
   ]
  },
  {
   "cell_type": "code",
   "execution_count": 12,
   "metadata": {},
   "outputs": [],
   "source": [
    "results_df = pd.DataFrame(results_list, columns = ['Category','Sub_Category','Interveiw_Name'])"
   ]
  },
  {
   "cell_type": "code",
   "execution_count": null,
   "metadata": {},
   "outputs": [],
   "source": [
    "results_df=results_df[results_df[\"Category\"] != 'Noise']\n",
    "results_df"
   ]
  },
  {
   "cell_type": "code",
   "execution_count": 14,
   "metadata": {},
   "outputs": [],
   "source": [
    "results_df['name']=results_df['Interveiw_Name'].str.split('_',n=6).str[0:5].str.join('_')"
   ]
  },
  {
   "cell_type": "code",
   "execution_count": 15,
   "metadata": {},
   "outputs": [],
   "source": [
    "results_df=results_df[['Category','name']].groupby(['name','Category'])['Category'].size().sort_values(ascending=False).reset_index(name='count').drop_duplicates(subset=['name','Category'])"
   ]
  },
  {
   "cell_type": "code",
   "execution_count": 16,
   "metadata": {},
   "outputs": [],
   "source": [
    "results_df=results_df.pivot(index=\"name\", columns=\"Category\", values=\"count\").fillna(0)"
   ]
  },
  {
   "cell_type": "code",
   "execution_count": null,
   "metadata": {},
   "outputs": [],
   "source": [
    "results_df"
   ]
  },
  {
   "cell_type": "code",
   "execution_count": 18,
   "metadata": {},
   "outputs": [],
   "source": [
    "results_df[results_df>0]=1"
   ]
  },
  {
   "cell_type": "code",
   "execution_count": 19,
   "metadata": {},
   "outputs": [],
   "source": [
    "results_df=results_df.astype(\"int\")"
   ]
  },
  {
   "cell_type": "code",
   "execution_count": null,
   "metadata": {},
   "outputs": [],
   "source": [
    "Y_hat=results_df[['Welcoming_h','Courtesy_Word_h','Closure_h','Anything Else_h']]\n",
    "Y_hat"
   ]
  },
  {
   "cell_type": "code",
   "execution_count": 21,
   "metadata": {},
   "outputs": [],
   "source": [
    "#now to read Actual evaluation"
   ]
  },
  {
   "cell_type": "code",
   "execution_count": null,
   "metadata": {},
   "outputs": [],
   "source": [
    "Y = pd.read_excel(y_Source,\"Y\").astype(\"category\")\n",
    "Y"
   ]
  },
  {
   "cell_type": "code",
   "execution_count": 25,
   "metadata": {},
   "outputs": [],
   "source": [
    "Y=Y.set_index('name')"
   ]
  },
  {
   "cell_type": "code",
   "execution_count": null,
   "metadata": {},
   "outputs": [],
   "source": [
    "Y_Audio=Y[['Welcoming','Courtesy_Word','Closure','Anything Else']]\n",
    "Y_Audio"
   ]
  },
  {
   "cell_type": "code",
   "execution_count": 27,
   "metadata": {},
   "outputs": [],
   "source": [
    "Y_hat=Y_Audio.join(Y_hat)"
   ]
  },
  {
   "cell_type": "code",
   "execution_count": 28,
   "metadata": {},
   "outputs": [],
   "source": [
    "Y_hat_all=Y_hat.astype(\"category\")"
   ]
  },
  {
   "cell_type": "code",
   "execution_count": 31,
   "metadata": {},
   "outputs": [],
   "source": [
    "unique_labels=[\n",
    "    'Welcoming_h',\n",
    "    'Closure_h',\n",
    "    'Anything Else_h',\n",
    "    'Courtesy_Word_h']"
   ]
  },
  {
   "cell_type": "code",
   "execution_count": 32,
   "metadata": {},
   "outputs": [],
   "source": [
    "Y_Audio=Y_hat_all[['Welcoming','Courtesy_Word','Closure','Anything Else']]\n",
    "Y_h_Audio=Y_hat_all[['Welcoming_h','Courtesy_Word_h','Closure_h','Anything Else_h']]"
   ]
  },
  {
   "cell_type": "code",
   "execution_count": 33,
   "metadata": {},
   "outputs": [],
   "source": [
    "from sklearn.metrics import roc_auc_score, roc_curve, auc, confusion_matrix, plot_confusion_matrix"
   ]
  },
  {
   "cell_type": "code",
   "execution_count": null,
   "metadata": {},
   "outputs": [],
   "source": [
    "confusion_matrix1 = pd.crosstab(Y_Audio['Welcoming'], Y_h_Audio['Welcoming_h'], rownames=['Actual'], colnames=['Predicted'])\n",
    "print (confusion_matrix1)"
   ]
  },
  {
   "cell_type": "code",
   "execution_count": 35,
   "metadata": {},
   "outputs": [],
   "source": [
    "import seaborn as sn\n",
    "import matplotlib.pyplot as plt"
   ]
  },
  {
   "cell_type": "code",
   "execution_count": 36,
   "metadata": {},
   "outputs": [
    {
     "data": {
      "text/plain": [
       "<Figure size 576x432 with 0 Axes>"
      ]
     },
     "execution_count": 36,
     "metadata": {},
     "output_type": "execute_result"
    },
    {
     "data": {
      "image/png": "[encoded data removed]",
      "text/plain": [
       "<Figure size 432x288 with 2 Axes>"
      ]
     },
     "metadata": {
      "needs_background": "light"
     },
     "output_type": "display_data"
    },
    {
     "data": {
      "text/plain": [
       "<Figure size 576x432 with 0 Axes>"
      ]
     },
     "metadata": {},
     "output_type": "display_data"
    }
   ],
   "source": [
    "conf_mat1 = confusion_matrix1.astype('float') / confusion_matrix1.sum(axis=1)[:, np.newaxis] #Normalisation Happens here\n",
    "plt.title('(Welcoming) Normalized Confusion Matrix')\n",
    "\n",
    "sn.heatmap(conf_mat1, annot=True)\n",
    "plt.figure(figsize = (8,6))"
   ]
  },
  {
   "cell_type": "code",
   "execution_count": null,
   "metadata": {},
   "outputs": [],
   "source": [
    "confusion_matrix2 = pd.crosstab(Y_Audio['Courtesy_Word'], Y_h_Audio['Closure_h'], rownames=['Actual'], colnames=['Predicted'])\n",
    "print (confusion_matrix2)"
   ]
  },
  {
   "cell_type": "code",
   "execution_count": 38,
   "metadata": {},
   "outputs": [
    {
     "data": {
      "text/plain": [
       "<Figure size 576x432 with 0 Axes>"
      ]
     },
     "execution_count": 38,
     "metadata": {},
     "output_type": "execute_result"
    },
    {
     "data": {
      "image/png": "[encoded data removed]",
      "text/plain": [
       "<Figure size 432x288 with 2 Axes>"
      ]
     },
     "metadata": {
      "needs_background": "light"
     },
     "output_type": "display_data"
    },
    {
     "data": {
      "text/plain": [
       "<Figure size 576x432 with 0 Axes>"
      ]
     },
     "metadata": {},
     "output_type": "display_data"
    }
   ],
   "source": [
    "conf_mat2 = confusion_matrix2.astype('float') / confusion_matrix2.sum(axis=1)[:, np.newaxis] #Normalisation Happens here\n",
    "plt.title('(Courtesy Word) Normalized Confusion Matrix')\n",
    "\n",
    "sn.heatmap(conf_mat2, annot=True)\n",
    "plt.figure(figsize = (8,6))"
   ]
  },
  {
   "cell_type": "code",
   "execution_count": null,
   "metadata": {},
   "outputs": [],
   "source": [
    "confusion_matrix3 = pd.crosstab(Y_Audio['Closure'], Y_h_Audio['Closure_h'], rownames=['Actual'], colnames=['Predicted'])\n",
    "print (confusion_matrix3)"
   ]
  },
  {
   "cell_type": "code",
   "execution_count": 44,
   "metadata": {},
   "outputs": [
    {
     "data": {
      "text/plain": [
       "<Figure size 576x432 with 0 Axes>"
      ]
     },
     "execution_count": 44,
     "metadata": {},
     "output_type": "execute_result"
    },
    {
     "data": {
      "image/png": "[encoded data removed]",
      "text/plain": [
       "<Figure size 432x288 with 2 Axes>"
      ]
     },
     "metadata": {
      "needs_background": "light"
     },
     "output_type": "display_data"
    },
    {
     "data": {
      "text/plain": [
       "<Figure size 576x432 with 0 Axes>"
      ]
     },
     "metadata": {},
     "output_type": "display_data"
    }
   ],
   "source": [
    "conf_mat3 = confusion_matrix3.astype('float') / confusion_matrix3.sum(axis=1)[:, np.newaxis] #Normalisation Happens here\n",
    "plt.title('(Closure) Normalized Confusion Matrix')\n",
    "\n",
    "sn.heatmap(conf_mat3, annot=True)\n",
    "plt.figure(figsize = (8,6))"
   ]
  },
  {
   "cell_type": "code",
   "execution_count": null,
   "metadata": {},
   "outputs": [],
   "source": [
    "confusion_matrix4 = pd.crosstab(Y_Audio['Anything Else'], Y_h_Audio['Anything Else_h'], rownames=['Actual'], colnames=['Predicted'])\n",
    "print (confusion_matrix4)"
   ]
  },
  {
   "cell_type": "code",
   "execution_count": 46,
   "metadata": {},
   "outputs": [
    {
     "data": {
      "text/plain": [
       "<Figure size 576x432 with 0 Axes>"
      ]
     },
     "execution_count": 46,
     "metadata": {},
     "output_type": "execute_result"
    },
    {
     "data": {
      "image/png": "[encoded data removed]",
      "text/plain": [
       "<Figure size 432x288 with 2 Axes>"
      ]
     },
     "metadata": {
      "needs_background": "light"
     },
     "output_type": "display_data"
    },
    {
     "data": {
      "text/plain": [
       "<Figure size 576x432 with 0 Axes>"
      ]
     },
     "metadata": {},
     "output_type": "display_data"
    }
   ],
   "source": [
    "conf_mat4 = confusion_matrix4.astype('float') / confusion_matrix4.sum(axis=1)[:, np.newaxis] #Normalisation Happens here\n",
    "plt.title('(Anything Else) Normalized Confusion Matrix')\n",
    "\n",
    "sn.heatmap(conf_mat4, annot=True)\n",
    "plt.figure(figsize = (8,6))"
   ]
  },
  {
   "cell_type": "code",
   "execution_count": null,
   "metadata": {},
   "outputs": [],
   "source": []
  }
 ],
 "metadata": {
  "kernelspec": {
   "display_name": "audio",
   "language": "python",
   "name": "audio"
  },
  "language_info": {
   "codemirror_mode": {
    "name": "ipython",
    "version": 3
   },
   "file_extension": ".py",
   "mimetype": "text/x-python",
   "name": "python",
   "nbconvert_exporter": "python",
   "pygments_lexer": "ipython3",
   "version": "3.7.8"
  }
 },
 "nbformat": 4,
 "nbformat_minor": 4
}
